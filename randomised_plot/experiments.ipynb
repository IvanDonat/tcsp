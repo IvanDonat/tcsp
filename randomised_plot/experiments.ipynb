{
 "cells": [
  {
   "cell_type": "code",
   "execution_count": 1,
   "metadata": {},
   "outputs": [],
   "source": [
    "from solver import solve\n",
    "from pprint import pprint\n",
    "\n",
    "from random import uniform, randint\n",
    "\n",
    "from matplotlib import pyplot as plt"
   ]
  },
  {
   "cell_type": "code",
   "execution_count": 2,
   "metadata": {},
   "outputs": [],
   "source": [
    "def generate_problem(variables, constraint_probability, max_intervals):\n",
    "    X = [0] + [randint(0, 100) for _ in range(variables-1)]    \n",
    "    T_all = []\n",
    "\n",
    "    visited_edges = set()    \n",
    "\n",
    "    for i in range(variables):\n",
    "        for j in range(i+1, variables):\n",
    "            # TODO: decide whether to connect all to 0 -- influences consistency by a lot\n",
    "            if uniform(0, 1) < constraint_probability:\n",
    "                T = {}\n",
    "                diff = X[j] - X[i]\n",
    "                T['i'] = i\n",
    "                T['j'] = j\n",
    "                T['intervals'] = []\n",
    "                for _ in range(randint(1, max_intervals)):\n",
    "                    m = randint(-100, 90)\n",
    "                    T['intervals'].append( (m, m+10) )\n",
    "                T_all.append(T)\n",
    "\n",
    "    return T_all\n",
    "\n",
    "def print_problem(T):\n",
    "    print(max(cr['j'] for cr in T) + 1, len(T))\n",
    "    for Tij in T:\n",
    "        print(Tij['i'], Tij['j'], len(Tij['intervals']), end=' ')\n",
    "        for a, b in Tij['intervals']:\n",
    "            print(a, b, end=' ')\n",
    "        print()"
   ]
  },
  {
   "cell_type": "code",
   "execution_count": 3,
   "metadata": {},
   "outputs": [],
   "source": [
    "prob = generate_problem(10, 0.1, 4)"
   ]
  },
  {
   "cell_type": "code",
   "execution_count": 5,
   "metadata": {},
   "outputs": [
    {
     "name": "stdout",
     "output_type": "stream",
     "text": [
      "10 7\n",
      "0 5 2 -75 -65 -92 -82 \n",
      "1 6 4 -72 -62 -25 -15 -94 -84 45 55 \n",
      "1 7 3 -60 -50 -41 -31 -37 -27 \n",
      "2 8 1 88 98 \n",
      "3 4 4 -55 -45 -60 -50 34 44 9 19 \n",
      "4 9 4 22 32 77 87 53 63 -95 -85 \n",
      "7 9 3 -20 -10 54 64 23 33 \n"
     ]
    },
    {
     "data": {
      "text/plain": [
       "{'consistent': 1152, 'dead': 0, 'total': 2905}"
      ]
     },
     "execution_count": 5,
     "metadata": {},
     "output_type": "execute_result"
    }
   ],
   "source": [
    "def pick_first(constraints):\n",
    "    return constraints[0]\n",
    "\n",
    "def pick_least_intervals(constraints):\n",
    "    sol_ctr = constraints[0]\n",
    "    num = len(sol_ctr['intervals'])\n",
    "    for ctr in constraints[1:]:\n",
    "        if len(ctr['intervals']) < num:\n",
    "            sol_ctr = ctr\n",
    "            num = len(ctr['intervals'])\n",
    "    \n",
    "    return sol_ctr\n",
    "\n",
    "print_problem(prob)\n",
    "solve(10, prob, pick_first)"
   ]
  },
  {
   "cell_type": "code",
   "execution_count": null,
   "metadata": {},
   "outputs": [],
   "source": [
    "# what to graph:\n",
    "# 1) graph how many have a consistent solution\n",
    "# 2) dead end cuts"
   ]
  },
  {
   "cell_type": "code",
   "execution_count": 6,
   "metadata": {},
   "outputs": [],
   "source": [
    "def try_heuristic(runs, num_vars, constr_prob, max_intervals):\n",
    "    consistent = 0\n",
    "    \n",
    "    dead = 0\n",
    "    total = 0\n",
    "\n",
    "    # least intervals heur.\n",
    "    dead_li = 0\n",
    "    total_li = 0\n",
    "    \n",
    "    for run in range(runs):\n",
    "        T = generate_problem(num_vars, constr_prob, max_intervals)\n",
    "\n",
    "        sol = solve(num_vars, T, pick_constraint=pick_first)\n",
    "        if sol['consistent'] > 0:\n",
    "            consistent += 1\n",
    "        dead += sol['dead']\n",
    "        total += sol['total']\n",
    "\n",
    "        sol_li = solve(num_vars, T, pick_constraint=pick_least_intervals)\n",
    "        dead_li += sol_li['dead']\n",
    "        total_li += sol_li['total']\n",
    "\n",
    "\n",
    "    fig, axs = plt.subplots(2)\n",
    "    axs[0].bar(\n",
    "        ['consistent', 'inconsistent'],\n",
    "        [consistent, runs - consistent],\n",
    "    )\n",
    "\n",
    "    axs[1].bar(\n",
    "        ['dead ends', 'total ends', 'dead ends LI', 'total ends LI'],\n",
    "        [dead / runs, total / runs, dead_li / runs, total_li / runs],\n",
    "    )"
   ]
  },
  {
   "cell_type": "raw",
   "metadata": {},
   "source": [
    "Variables at play in this random generation algorithm:\n",
    "1) num variables\n",
    "2) constraint probability\n",
    "3) number of intervals per constraint\n",
    "4) domain and range of intervals"
   ]
  },
  {
   "cell_type": "raw",
   "metadata": {},
   "source": [
    "I will for now fix dokmain and range to [-100, 100] and 10.\n",
    "Number of intervals is uniformly chosen between 1 and max_intervals."
   ]
  },
  {
   "cell_type": "raw",
   "metadata": {},
   "source": [
    "Let's find out how the two heuristics perform in different scenarios"
   ]
  },
  {
   "cell_type": "code",
   "execution_count": 17,
   "metadata": {},
   "outputs": [
    {
     "data": {
      "image/png": "[encoded data removed]",
      "text/plain": [
       "<Figure size 432x288 with 2 Axes>"
      ]
     },
     "metadata": {
      "needs_background": "light"
     },
     "output_type": "display_data"
    }
   ],
   "source": [
    "try_heuristic(\n",
    "    runs=50,\n",
    "    num_vars=9,\n",
    "    constr_prob=0.3,\n",
    "    max_intervals=3,\n",
    ")"
   ]
  },
  {
   "cell_type": "code",
   "execution_count": null,
   "metadata": {},
   "outputs": [],
   "source": []
  }
 ],
 "metadata": {
  "kernelspec": {
   "display_name": "Python 3",
   "language": "python",
   "name": "python3"
  },
  "language_info": {
   "codemirror_mode": {
    "name": "ipython",
    "version": 3
   },
   "file_extension": ".py",
   "mimetype": "text/x-python",
   "name": "python",
   "nbconvert_exporter": "python",
   "pygments_lexer": "ipython3",
   "version": "3.8.5"
  }
 },
 "nbformat": 4,
 "nbformat_minor": 4
}
