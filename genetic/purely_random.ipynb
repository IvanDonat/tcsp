{
 "cells": [
  {
   "cell_type": "code",
   "execution_count": 1,
   "metadata": {},
   "outputs": [],
   "source": [
    "#!/usr/bin/python3\n",
    "import argparse\n",
    "from random import uniform, randint\n",
    "\n",
    "def generate_problem(\n",
    "    variables=10, \n",
    "    constraint_probability=0.25, \n",
    "    R=100,\n",
    "    min_intervals=1, \n",
    "    max_intervals=5,\n",
    "    scaling_factor=1,\n",
    "    ):\n",
    "    \n",
    "    T_all = []\n",
    "    \n",
    "    for j in range(variables):\n",
    "        T_all.append({\n",
    "            'i': 0,\n",
    "            'j': j,\n",
    "            'intervals': [(-R, R)],\n",
    "        })\n",
    "        \n",
    "    for i in range(1, variables):\n",
    "        for j in range(i+1, variables):\n",
    "            if uniform(0, 1) < constraint_probability:\n",
    "                num_intervals = randint(min_intervals, max_intervals)\n",
    "                points = [randint(-R, R) for _ in range(2 * num_intervals)]\n",
    "                points.sort()\n",
    "                \n",
    "                intervals_temp = list(zip(points[::2], points[1::2]))\n",
    "                \n",
    "                # apply scaling factor:\n",
    "                intervals = []\n",
    "                for a, b in intervals_temp:\n",
    "                    midpoint = int((a+b)/2)\n",
    "                    l = int( midpoint - (midpoint-a)*scaling_factor )\n",
    "                    r = int( midpoint + (b-midpoint)*scaling_factor )\n",
    "                    intervals.append( (l, r) )\n",
    "                    \n",
    "                T_all.append({\n",
    "                    'i': i,\n",
    "                    'j': j,\n",
    "                    'intervals': intervals,\n",
    "                })\n",
    "\n",
    "    return T_all"
   ]
  },
  {
   "cell_type": "code",
   "execution_count": 78,
   "metadata": {},
   "outputs": [],
   "source": [
    "def verify_witness(X, T):\n",
    "    failed_constraints = []\n",
    "    for constraint in T:\n",
    "        i = constraint['i']\n",
    "        j = constraint['j']\n",
    "\n",
    "        diff = X[j] - X[i]\n",
    "\n",
    "        passed = False\n",
    "        for interval in constraint['intervals']:\n",
    "            if interval[0] <= diff <= interval[1]:\n",
    "                passed = True\n",
    "                break\n",
    "        \n",
    "        if not passed:\n",
    "            failed_constraints += [f\"X_i={X[i]}, X_j={X[j]} on {constraint}\"]\n",
    "\n",
    "    return failed_constraints\n",
    "\n",
    "\n",
    "def random_gene(T, r):\n",
    "    num_variables = max([max(t['i'], t['j']) for t in T])\n",
    "    return [0] + [randint(-r, r) for _ in range(num_variables)]\n",
    "\n",
    "   \n",
    "def purely_random(T, r, iterations):\n",
    "    best_gene = None\n",
    "    best_gene_failed = None\n",
    "    \n",
    "    for i in range(iterations):\n",
    "        gene = random_gene(T, r)\n",
    "        gene_failed = verify_witness(gene, T)\n",
    "        if not best_gene or len(gene_failed) < len(best_gene_failed):\n",
    "            best_gene = gene\n",
    "            best_gene_failed = gene_failed\n",
    "        \n",
    "        if len(gene_failed) == 0:\n",
    "            break\n",
    "            \n",
    "    print(f'num iterations: {i+1}')\n",
    "    print('best gene:', best_gene)\n",
    "    print('constraints failed:', len(best_gene_failed), 'out of:', len(T)) \n",
    "    print('failed constraints:', best_gene_failed)"
   ]
  },
  {
   "cell_type": "code",
   "execution_count": 89,
   "metadata": {},
   "outputs": [
    {
     "name": "stdout",
     "output_type": "stream",
     "text": [
      "num iterations: 1000\n",
      "best gene: [0, -59, -32, 10, 17, 36, -45, -34, 75, 14, -85, 26, -59, -56, -23]\n",
      "constraints failed: 7 out of: 37\n",
      "failed constraints: [\"X_i=-59, X_j=10 on {'i': 1, 'j': 3, 'intervals': [(-32, 23)]}\", \"X_i=-32, X_j=36 on {'i': 2, 'j': 5, 'intervals': [(-100, -90), (-60, -21), (-4, 62), (78, 96)]}\", \"X_i=-32, X_j=75 on {'i': 2, 'j': 8, 'intervals': [(-77, -56)]}\", \"X_i=17, X_j=-34 on {'i': 4, 'j': 7, 'intervals': [(-96, -69), (-29, 14), (26, 27), (65, 70), (73, 85)]}\", \"X_i=-34, X_j=-23 on {'i': 7, 'j': 14, 'intervals': [(-99, -79), (-63, -33), (-28, 6), (37, 58), (59, 83)]}\", \"X_i=-85, X_j=26 on {'i': 10, 'j': 11, 'intervals': [(-80, -64), (-34, -9), (38, 39), (71, 79)]}\", \"X_i=26, X_j=-56 on {'i': 11, 'j': 13, 'intervals': [(-44, -33), (-14, 4), (9, 27)]}\"]\n"
     ]
    }
   ],
   "source": [
    "T = generate_problem(15, scaling_factor=1)\n",
    "purely_random(T, 100, 1000)"
   ]
  },
  {
   "cell_type": "code",
   "execution_count": null,
   "metadata": {},
   "outputs": [],
   "source": []
  }
 ],
 "metadata": {
  "kernelspec": {
   "display_name": "Python 3",
   "language": "python",
   "name": "python3"
  },
  "language_info": {
   "codemirror_mode": {
    "name": "ipython",
    "version": 3
   },
   "file_extension": ".py",
   "mimetype": "text/x-python",
   "name": "python",
   "nbconvert_exporter": "python",
   "pygments_lexer": "ipython3",
   "version": "3.9.0"
  }
 },
 "nbformat": 4,
 "nbformat_minor": 4
}
