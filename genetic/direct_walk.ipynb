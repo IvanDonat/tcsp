{
 "cells": [
  {
   "cell_type": "code",
   "execution_count": 4,
   "metadata": {},
   "outputs": [],
   "source": [
    "from random import randint, uniform\n",
    "from util import generate_problem, verify_witness\n",
    "from matplotlib import pyplot as plt"
   ]
  },
  {
   "cell_type": "code",
   "execution_count": 132,
   "metadata": {},
   "outputs": [],
   "source": [
    "def random_gene(T, r):\n",
    "    num_variables = max([max(t['i'], t['j']) for t in T])\n",
    "    return [0] + [randint(-r, r) for _ in range(num_variables)]\n",
    "\n",
    "def sweep_line(intervals):\n",
    "    L = []\n",
    "    for l, r in intervals:\n",
    "        L.append( (l, 1) )\n",
    "        L.append( (r, -1) )\n",
    "        \n",
    "    L.sort(key=lambda a: 10*a[0] - a[1])\n",
    "    \n",
    "    c = 0\n",
    "    top = -1\n",
    "    top_index = 0\n",
    "    \n",
    "    for index, (point, increment) in enumerate(L):\n",
    "        c += increment\n",
    "        if c > top:\n",
    "            top = c\n",
    "            top_index = index\n",
    "    \n",
    "    sol = int( (L[top_index][0] + L[top_index+1][0])/2 )\n",
    "    \n",
    "    # returns the number of constraints unsatisfied and time point\n",
    "    return len(intervals) - top, sol\n",
    "\n",
    "def walk_gene(gene, T, pick_best_gene=True):\n",
    "    num_variables = max([max(t['i'], t['j']) for t in T])\n",
    "    \n",
    "    constraints_per_variable = [list() for i in range(num_variables + 1)]\n",
    "    failed_per_variable = [0 for i in range(num_variables + 1)]\n",
    "    # at index i should contain availability intervals (given other variables are fixed.)\n",
    "    # remark: existence of an interval is local with respect to one constraint\n",
    "    # remark: so if intersection is empty, then there is no \"safe\" place to put this variable\n",
    "    \n",
    "    for c in T:\n",
    "        i, j = c['i'], c['j']\n",
    "        intervals = c['intervals']\n",
    "        for l, r in intervals:\n",
    "            # X_j - X_i in (l, r)\n",
    "            # fix X_j to genes[j]\n",
    "            # so genes[j] - X_i in (l, r)\n",
    "            # then X_i in [X_j - r, X_j - l]\n",
    "            constraints_per_variable[i].append( (gene[j] - r, gene[j] - l) )\n",
    "            \n",
    "            # now for j:\n",
    "            constraints_per_variable[j].append( (gene[i] + l, gene[i] + r) )\n",
    "            \n",
    "            \n",
    "            if gene[j] - gene[i] < l or gene[j] - gene[i] > r:\n",
    "                failed_per_variable[i] += 1\n",
    "                failed_per_variable[j] += 1\n",
    "            \n",
    "    \n",
    "    # for each constraint, sweep line, find best option\n",
    "    # (later? we want to pick whatever REDUCES the unsatisfieds the most)\n",
    "    # for now: pick a random variable and modify it according to sweep_line\n",
    "    # if no later, then we can make the loop upstairs simpler (to only do stuff if \"i\" is mentioned)\n",
    "\n",
    "    \n",
    "    if pick_best_gene:\n",
    "        reduction = -1\n",
    "        best_gene = -1\n",
    "        new_gene_base = 0\n",
    "        for i in range(1, num_variables+1):\n",
    "            faileds = failed_per_variable[i]\n",
    "            new_faileds, new_gene_base = sweep_line(constraints_per_variable[i])\n",
    "            \n",
    "            if faileds - new_faileds >= reduction: #important to have \\geq so it doesnt get stuck on 1 if 1 is best\n",
    "                reduction = faileds - new_faileds\n",
    "                best_gene = i\n",
    "                best_gene_base = new_gene_base\n",
    "        gene[best_gene] = best_gene_base\n",
    "    else:\n",
    "        i = randint(1, num_variables)\n",
    "        gene[i] = sweep_line(constraints_per_variable[i])[1]\n",
    "        \n",
    "\n",
    "    return gene\n",
    "    \n",
    "def walk_tcsp(T, r, max_iterations, max_flips, pick_best_gene):\n",
    "    best_gene = None\n",
    "    best_gene_failed = None\n",
    "    \n",
    "    for i in range(max_iterations):\n",
    "        gene = random_gene(T, r)\n",
    "        \n",
    "        for j in range(max_flips):\n",
    "            gene_failed = verify_witness(gene, T)\n",
    "            \n",
    "            if not best_gene or len(gene_failed) < len(best_gene_failed):\n",
    "                best_gene = gene\n",
    "                best_gene_failed = gene_failed\n",
    "            \n",
    "            if len(gene_failed) == 0:\n",
    "                break\n",
    "                \n",
    "            gene = walk_gene(gene, T, pick_best_gene)\n",
    "                \n",
    "        # necessary for double break after flips loop\n",
    "        if len(gene_failed) == 0: break\n",
    "    \n",
    "    print(f'num iterations: {i+1}')\n",
    "    print('best gene:', best_gene)\n",
    "    print('constraints failed:', len(best_gene_failed), 'out of:', len(T)) \n",
    "    print('failed constraints:', best_gene_failed)"
   ]
  },
  {
   "cell_type": "code",
   "execution_count": 133,
   "metadata": {},
   "outputs": [],
   "source": [
    "T = generate_problem(\n",
    "    50,\n",
    "    min_intervals=1,\n",
    "    max_intervals=1,\n",
    "    scaling_factor=1\n",
    ")"
   ]
  },
  {
   "cell_type": "code",
   "execution_count": 73,
   "metadata": {},
   "outputs": [
    {
     "name": "stdout",
     "output_type": "stream",
     "text": [
      "num iterations: 50\n",
      "best gene: [0, -26, -4, -26, -42, -66, 18, -23, 11, -6, -37, 48, -48, -36, 48, -14, 31, -5, 82, -73, 98, -29, -20, 0, -18, 12, -6, 11, 1, -25, -54, 16, 20, -9, -39, 15, -6, 0, 45, -33, 66, -1, -3, 15, -21, 80, -13, -12, -18, -40]\n",
      "constraints failed: 117 out of: 339\n",
      "failed constraints: [{'i': 1, 'j': 20, 'intervals': [(-70, -49)]}, {'i': 1, 'j': 25, 'intervals': [(-51, -37)]}, {'i': 1, 'j': 28, 'intervals': [(-91, -21)]}, {'i': 1, 'j': 44, 'intervals': [(64, 70)]}, {'i': 2, 'j': 13, 'intervals': [(8, 59)]}, {'i': 2, 'j': 19, 'intervals': [(-33, 74)]}, {'i': 2, 'j': 21, 'intervals': [(0, 4)]}, {'i': 2, 'j': 22, 'intervals': [(46, 100)]}, {'i': 2, 'j': 25, 'intervals': [(-23, -23)]}, {'i': 3, 'j': 16, 'intervals': [(-18, -3)]}, {'i': 3, 'j': 17, 'intervals': [(-97, -59)]}, {'i': 3, 'j': 18, 'intervals': [(-86, 6)]}, {'i': 3, 'j': 20, 'intervals': [(64, 94)]}, {'i': 3, 'j': 28, 'intervals': [(36, 98)]}, {'i': 3, 'j': 30, 'intervals': [(14, 97)]}, {'i': 3, 'j': 37, 'intervals': [(-26, -24)]}, {'i': 3, 'j': 43, 'intervals': [(-21, 31)]}, {'i': 4, 'j': 8, 'intervals': [(-44, 49)]}, {'i': 4, 'j': 14, 'intervals': [(-47, 21)]}, {'i': 4, 'j': 27, 'intervals': [(-8, 18)]}, {'i': 4, 'j': 28, 'intervals': [(-85, -50)]}, {'i': 4, 'j': 45, 'intervals': [(-50, 27)]}, {'i': 5, 'j': 7, 'intervals': [(-72, -20)]}, {'i': 5, 'j': 10, 'intervals': [(51, 88)]}, {'i': 5, 'j': 18, 'intervals': [(-99, -32)]}, {'i': 6, 'j': 18, 'intervals': [(-56, -10)]}, {'i': 6, 'j': 31, 'intervals': [(-91, -73)]}, {'i': 7, 'j': 11, 'intervals': [(-90, -17)]}, {'i': 7, 'j': 18, 'intervals': [(-63, 59)]}, {'i': 7, 'j': 20, 'intervals': [(56, 90)]}, {'i': 7, 'j': 38, 'intervals': [(-49, -20)]}, {'i': 7, 'j': 39, 'intervals': [(46, 92)]}, {'i': 8, 'j': 17, 'intervals': [(63, 100)]}, {'i': 8, 'j': 25, 'intervals': [(-81, -52)]}, {'i': 8, 'j': 33, 'intervals': [(-82, -41)]}, {'i': 8, 'j': 44, 'intervals': [(7, 66)]}, {'i': 9, 'j': 11, 'intervals': [(-100, 53)]}, {'i': 9, 'j': 13, 'intervals': [(-80, -75)]}, {'i': 9, 'j': 19, 'intervals': [(28, 76)]}, {'i': 9, 'j': 20, 'intervals': [(-85, -53)]}, {'i': 9, 'j': 47, 'intervals': [(-81, -77)]}, {'i': 10, 'j': 18, 'intervals': [(-76, 35)]}, {'i': 10, 'j': 21, 'intervals': [(-33, -9)]}, {'i': 11, 'j': 12, 'intervals': [(-50, 4)]}, {'i': 11, 'j': 19, 'intervals': [(-70, 50)]}, {'i': 11, 'j': 26, 'intervals': [(-13, 68)]}, {'i': 11, 'j': 34, 'intervals': [(-3, 34)]}, {'i': 11, 'j': 37, 'intervals': [(31, 95)]}, {'i': 11, 'j': 39, 'intervals': [(-70, -40)]}, {'i': 12, 'j': 14, 'intervals': [(-99, 18)]}, {'i': 12, 'j': 26, 'intervals': [(-39, 8)]}, {'i': 12, 'j': 28, 'intervals': [(-92, 33)]}, {'i': 12, 'j': 44, 'intervals': [(-60, 24)]}, {'i': 13, 'j': 43, 'intervals': [(-61, -7)]}, {'i': 14, 'j': 16, 'intervals': [(-72, -50)]}, {'i': 14, 'j': 20, 'intervals': [(-51, -32)]}, {'i': 14, 'j': 23, 'intervals': [(44, 79)]}, {'i': 14, 'j': 32, 'intervals': [(42, 58)]}, {'i': 14, 'j': 47, 'intervals': [(-43, 94)]}, {'i': 15, 'j': 18, 'intervals': [(-45, -1)]}, {'i': 15, 'j': 19, 'intervals': [(18, 68)]}, {'i': 15, 'j': 25, 'intervals': [(-100, -16)]}, {'i': 16, 'j': 20, 'intervals': [(-94, -2)]}, {'i': 16, 'j': 42, 'intervals': [(-93, -53)]}, {'i': 17, 'j': 18, 'intervals': [(-26, 22)]}, {'i': 17, 'j': 31, 'intervals': [(-71, -64)]}, {'i': 17, 'j': 44, 'intervals': [(33, 34)]}, {'i': 18, 'j': 21, 'intervals': [(-93, 78)]}, {'i': 18, 'j': 29, 'intervals': [(-78, 31)]}, {'i': 18, 'j': 39, 'intervals': [(-60, -13)]}, {'i': 19, 'j': 43, 'intervals': [(-95, -68)]}, {'i': 20, 'j': 30, 'intervals': [(41, 76)]}, {'i': 20, 'j': 33, 'intervals': [(-84, 47)]}, {'i': 20, 'j': 37, 'intervals': [(-3, 86)]}, {'i': 20, 'j': 45, 'intervals': [(-66, -37)]}, {'i': 21, 'j': 37, 'intervals': [(-46, -26)]}, {'i': 21, 'j': 45, 'intervals': [(19, 81)]}, {'i': 21, 'j': 49, 'intervals': [(-87, -38)]}, {'i': 23, 'j': 25, 'intervals': [(-25, -10)]}, {'i': 23, 'j': 38, 'intervals': [(-93, -44)]}, {'i': 24, 'j': 37, 'intervals': [(-44, -29)]}, {'i': 24, 'j': 47, 'intervals': [(-88, -58)]}, {'i': 25, 'j': 37, 'intervals': [(66, 84)]}, {'i': 25, 'j': 40, 'intervals': [(-87, -52)]}, {'i': 26, 'j': 29, 'intervals': [(-16, 44)]}, {'i': 26, 'j': 30, 'intervals': [(17, 64)]}, {'i': 26, 'j': 34, 'intervals': [(29, 61)]}, {'i': 26, 'j': 35, 'intervals': [(-68, -26)]}, {'i': 27, 'j': 36, 'intervals': [(-70, -33)]}, {'i': 27, 'j': 44, 'intervals': [(6, 22)]}, {'i': 28, 'j': 30, 'intervals': [(0, 71)]}, {'i': 28, 'j': 38, 'intervals': [(-68, -59)]}, {'i': 29, 'j': 32, 'intervals': [(64, 93)]}, {'i': 29, 'j': 39, 'intervals': [(6, 22)]}, {'i': 29, 'j': 40, 'intervals': [(-27, 9)]}, {'i': 29, 'j': 48, 'intervals': [(-94, -18)]}, {'i': 30, 'j': 35, 'intervals': [(-22, 47)]}, {'i': 30, 'j': 40, 'intervals': [(-90, -67)]}, {'i': 30, 'j': 45, 'intervals': [(-19, 24)]}, {'i': 31, 'j': 34, 'intervals': [(62, 90)]}, {'i': 31, 'j': 39, 'intervals': [(-12, -4)]}, {'i': 31, 'j': 41, 'intervals': [(42, 85)]}, {'i': 31, 'j': 45, 'intervals': [(-86, 20)]}, {'i': 31, 'j': 49, 'intervals': [(-77, -60)]}, {'i': 33, 'j': 38, 'intervals': [(-94, -26)]}, {'i': 33, 'j': 46, 'intervals': [(6, 57)]}, {'i': 34, 'j': 44, 'intervals': [(-79, -37)]}, {'i': 38, 'j': 39, 'intervals': [(-76, 69)]}, {'i': 38, 'j': 40, 'intervals': [(-79, -68)]}, {'i': 38, 'j': 45, 'intervals': [(-61, 4)]}, {'i': 38, 'j': 47, 'intervals': [(80, 92)]}, {'i': 39, 'j': 41, 'intervals': [(-66, -29)]}, {'i': 41, 'j': 43, 'intervals': [(78, 96)]}, {'i': 43, 'j': 47, 'intervals': [(62, 62)]}, {'i': 44, 'j': 46, 'intervals': [(40, 75)]}, {'i': 44, 'j': 49, 'intervals': [(-76, -39)]}, {'i': 45, 'j': 48, 'intervals': [(-92, -32)]}]\n"
     ]
    }
   ],
   "source": [
    "walk_tcsp(T, 100, 50, 50, pick_best_gene=False)"
   ]
  },
  {
   "cell_type": "code",
   "execution_count": 4,
   "metadata": {},
   "outputs": [],
   "source": [
    "l = [(0, 10), (1, 5), (1, 6), (6, 10)]"
   ]
  },
  {
   "cell_type": "code",
   "execution_count": 5,
   "metadata": {},
   "outputs": [
    {
     "data": {
      "text/plain": [
       "(1, 3)"
      ]
     },
     "execution_count": 5,
     "metadata": {},
     "output_type": "execute_result"
    }
   ],
   "source": [
    "sweep_line(l)"
   ]
  },
  {
   "cell_type": "code",
   "execution_count": 94,
   "metadata": {},
   "outputs": [],
   "source": [
    "# problem sets:\n",
    "SIMPLE = {\n",
    "    'constraint_probability': 0.25,\n",
    "    'min_intervals': 1,\n",
    "    'max_intervals': 1,\n",
    "    'scaling_factor': 1,\n",
    "}\n",
    "\n",
    "BINARY = {\n",
    "    'constraint_probability': 0.25,\n",
    "    'min_intervals': 2,\n",
    "    'max_intervals': 2,\n",
    "    'scaling_factor': 1,\n",
    "}\n",
    "\n",
    "FIVE_MAX = {\n",
    "    'constraint_probability': 0.25,\n",
    "    'min_intervals': 1,\n",
    "    'max_intervals': 5,\n",
    "    'scaling_factor': 1,\n",
    "}"
   ]
  },
  {
   "cell_type": "markdown",
   "metadata": {},
   "source": [
    "## Graphing effectiveness of walking a gene"
   ]
  },
  {
   "cell_type": "code",
   "execution_count": 96,
   "metadata": {},
   "outputs": [],
   "source": [
    "def test(T, r, max_flips):\n",
    "    unsats = []\n",
    "    gene = random_gene(T, r)\n",
    "\n",
    "    for j in range(max_flips):\n",
    "        gene_failed = verify_witness(gene, T)\n",
    "        unsats += [len(gene_failed)]\n",
    "\n",
    "        if len(gene_failed) == 0:\n",
    "            break\n",
    "\n",
    "        gene = walk_gene(gene, T)\n",
    "\n",
    "    return unsats"
   ]
  },
  {
   "cell_type": "code",
   "execution_count": 97,
   "metadata": {},
   "outputs": [
    {
     "name": "stdout",
     "output_type": "stream",
     "text": [
      "25 7 0.72 False\n",
      "33 5 0.85 False\n",
      "26 3 0.88 False\n",
      "21 3 0.86 False\n",
      "33 8 0.76 False\n",
      "28 6 0.79 False\n",
      "28 5 0.82 False\n",
      "30 8 0.73 False\n",
      "33 8 0.76 False\n",
      "24 5 0.79 False\n",
      "34 7 0.79 False\n",
      "31 5 0.84 False\n",
      "31 5 0.84 False\n",
      "26 1 0.96 False\n",
      "39 11 0.72 False\n",
      "26 5 0.81 False\n",
      "32 5 0.84 False\n",
      "28 4 0.86 False\n",
      "15 6 0.60 False\n",
      "29 3 0.90 False\n",
      "23 2 0.91 False\n",
      "28 5 0.82 False\n",
      "25 6 0.76 False\n",
      "41 12 0.71 False\n",
      "23 6 0.74 False\n",
      "32 8 0.75 False\n",
      "36 6 0.83 False\n",
      "34 7 0.79 False\n",
      "28 4 0.86 False\n",
      "27 4 0.85 False\n",
      "27 8 0.70 False\n",
      "27 2 0.93 False\n",
      "19 5 0.74 False\n",
      "27 4 0.85 False\n",
      "28 5 0.82 False\n",
      "30 5 0.83 False\n",
      "30 4 0.87 False\n",
      "31 4 0.87 False\n",
      "27 3 0.89 False\n",
      "24 2 0.92 False\n",
      "40 4 0.90 False\n",
      "29 3 0.90 False\n",
      "23 2 0.91 False\n",
      "30 3 0.90 False\n",
      "24 2 0.92 False\n",
      "30 3 0.90 False\n",
      "30 5 0.83 False\n",
      "33 11 0.67 False\n",
      "28 8 0.71 False\n",
      "33 9 0.73 False\n"
     ]
    }
   ],
   "source": [
    "runs = 50\n",
    "run_results = []\n",
    "\n",
    "for _ in range(runs):\n",
    "    T = generate_problem(\n",
    "        variables=20,\n",
    "        **BINARY,\n",
    "    )\n",
    "    \n",
    "    arr = test(T, r=100, max_flips=100)\n",
    "    \n",
    "    starting = arr[0]\n",
    "    ending = arr[-1]\n",
    "    decrease = (arr[0]-arr[-1]) / arr[0]\n",
    "    \n",
    "    # TODO, problem: we do not know if it is even solvable!\n",
    "    # will have to confirm with backtracking, or make sure to generate only solvable problems\n",
    "    solved = arr[-1] == 0\n",
    "    \n",
    "    print(starting, ending, f'{decrease:.2f}', solved)"
   ]
  },
  {
   "cell_type": "code",
   "execution_count": 18,
   "metadata": {},
   "outputs": [],
   "source": [
    "# Note:\n",
    "# if returned length is less, that means the heuristic solved the problem\n",
    "# check whether it ever increases."
   ]
  },
  {
   "cell_type": "markdown",
   "metadata": {},
   "source": [
    "## Graphing pick_best_gene vs random gene selection for walking"
   ]
  },
  {
   "cell_type": "code",
   "execution_count": 137,
   "metadata": {},
   "outputs": [
    {
     "name": "stdout",
     "output_type": "stream",
     "text": [
      "same 1\n",
      "better 49\n",
      "worse 0\n",
      "avg reduction 5.24\n",
      "stddev reduction 2.343553903361129\n"
     ]
    }
   ],
   "source": [
    "runs = 50\n",
    "run_results = []\n",
    "\n",
    "count_same = 0\n",
    "count_better = 0\n",
    "count_worse = 0\n",
    "reductions = []\n",
    "\n",
    "for _ in range(runs):\n",
    "    T = generate_problem(\n",
    "        variables=50,\n",
    "        **BINARY,\n",
    "    )\n",
    "    \n",
    "    gene = random_gene(T, 100)\n",
    "    best_gene = [i for i in gene]\n",
    "    rand_gene = [i for i in gene]\n",
    "    \n",
    "    pick_best = len(verify_witness(\n",
    "        walk_gene(best_gene, T, pick_best_gene=True),\n",
    "        T)\n",
    "    )\n",
    "    pick_random = len(verify_witness(\n",
    "        walk_gene(rand_gene, T, pick_best_gene=False),\n",
    "        T)\n",
    "    )\n",
    "    \n",
    "    reductions += [pick_random - pick_best]\n",
    "    \n",
    "    if pick_best == pick_random:\n",
    "        count_same += 1\n",
    "    elif pick_best < pick_random:\n",
    "        count_better += 1\n",
    "    else:\n",
    "        count_worse += 1\n",
    "    \n",
    "print('same', count_same)\n",
    "print('better', count_better)\n",
    "print('worse', count_worse)\n",
    "\n",
    "from statistics import stdev\n",
    "print('avg reduction', sum(reductions)/len(reductions))\n",
    "print('stddev reduction', stdev(reductions))"
   ]
  },
  {
   "cell_type": "markdown",
   "metadata": {},
   "source": [
    "## and now, what about repeated application of best/random?\n",
    "\n",
    "as in, how much can it reduce, just like the random gene vs n walks test"
   ]
  },
  {
   "cell_type": "code",
   "execution_count": 136,
   "metadata": {},
   "outputs": [
    {
     "name": "stdout",
     "output_type": "stream",
     "text": [
      "same 1\n",
      "better 4\n",
      "worse 0\n"
     ]
    }
   ],
   "source": [
    "runs = 5\n",
    "walks = 50\n",
    "run_results = []\n",
    "\n",
    "count_same = 0\n",
    "count_better = 0\n",
    "count_worse = 0\n",
    "\n",
    "for _ in range(runs):\n",
    "    T = generate_problem(\n",
    "        variables=10,\n",
    "        **BINARY,\n",
    "    )\n",
    "    \n",
    "    gene = random_gene(T, 100)\n",
    "    best_gene = [i for i in gene]\n",
    "    rand_gene = [i for i in gene]\n",
    "    \n",
    "    for _ in range(runs):\n",
    "        best_gene = walk_gene(best_gene, T, pick_best_gene=True)\n",
    "        rand_gene = walk_gene(rand_gene, T, pick_best_gene=False)\n",
    "    \n",
    "    pick_best = len(verify_witness(best_gene, T))\n",
    "    pick_random = len(verify_witness(rand_gene, T))\n",
    "    \n",
    "    if pick_best == pick_random:\n",
    "        count_same += 1\n",
    "    elif pick_best < pick_random: # \\lt because verify_witness is like golf.\n",
    "        count_better += 1\n",
    "    else:\n",
    "        count_worse += 1\n",
    "    \n",
    "print('same', count_same)\n",
    "print('better', count_better)\n",
    "print('worse', count_worse)"
   ]
  },
  {
   "cell_type": "code",
   "execution_count": null,
   "metadata": {},
   "outputs": [],
   "source": []
  }
 ],
 "metadata": {
  "kernelspec": {
   "display_name": "Python 3",
   "language": "python",
   "name": "python3"
  },
  "language_info": {
   "codemirror_mode": {
    "name": "ipython",
    "version": 3
   },
   "file_extension": ".py",
   "mimetype": "text/x-python",
   "name": "python",
   "nbconvert_exporter": "python",
   "pygments_lexer": "ipython3",
   "version": "3.9.1"
  }
 },
 "nbformat": 4,
 "nbformat_minor": 4
}
