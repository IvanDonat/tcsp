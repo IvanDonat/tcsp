{
 "cells": [
  {
   "cell_type": "code",
   "execution_count": 11,
   "metadata": {},
   "outputs": [],
   "source": [
    "from random import randint, uniform\n",
    "from util import generate_problem, verify_witness"
   ]
  },
  {
   "cell_type": "code",
   "execution_count": 14,
   "metadata": {},
   "outputs": [],
   "source": [
    "def random_gene(T, r):\n",
    "    num_variables = max([max(t['i'], t['j']) for t in T])\n",
    "    return [0] + [randint(-r, r) for _ in range(num_variables)]\n",
    "\n",
    "   \n",
    "def purely_random(T, r, iterations):\n",
    "    best_gene = None\n",
    "    best_gene_failed = None\n",
    "    \n",
    "    for i in range(iterations):\n",
    "        gene = random_gene(T, r)\n",
    "        gene_failed = verify_witness(gene, T)\n",
    "        if not best_gene or len(gene_failed) < len(best_gene_failed):\n",
    "            best_gene = gene\n",
    "            best_gene_failed = gene_failed\n",
    "        \n",
    "        if len(gene_failed) == 0:\n",
    "            break\n",
    "            \n",
    "    print(f'num iterations: {i+1}')\n",
    "    print('best gene:', best_gene)\n",
    "    print('constraints failed:', len(best_gene_failed), 'out of:', len(T)) \n",
    "    print('failed constraints:', best_gene_failed)"
   ]
  },
  {
   "cell_type": "code",
   "execution_count": 15,
   "metadata": {},
   "outputs": [
    {
     "name": "stdout",
     "output_type": "stream",
     "text": [
      "num iterations: 2500\n",
      "best gene: [0, -18, -80, 15, 79, -46, 19, -73, -49, -33, -76, -33, 20, 69, -13, -4, -31, -44, 37, 42]\n",
      "constraints failed: 18 out of: 63\n",
      "failed constraints: [{'i': 1, 'j': 4, 'intervals': [(-67, 10)]}, {'i': 1, 'j': 13, 'intervals': [(-1, 52)]}, {'i': 2, 'j': 19, 'intervals': [(36, 49)]}, {'i': 3, 'j': 12, 'intervals': [(21, 75)]}, {'i': 4, 'j': 5, 'intervals': [(-63, 24)]}, {'i': 4, 'j': 12, 'intervals': [(27, 84)]}, {'i': 5, 'j': 6, 'intervals': [(-70, 57)]}, {'i': 5, 'j': 9, 'intervals': [(43, 46)]}, {'i': 7, 'j': 10, 'intervals': [(-10, -6)]}, {'i': 7, 'j': 19, 'intervals': [(29, 89)]}, {'i': 8, 'j': 18, 'intervals': [(48, 72)]}, {'i': 8, 'j': 19, 'intervals': [(25, 36)]}, {'i': 10, 'j': 13, 'intervals': [(-31, 42)]}, {'i': 12, 'j': 13, 'intervals': [(-41, -20)]}, {'i': 13, 'j': 14, 'intervals': [(-72, 42)]}, {'i': 15, 'j': 18, 'intervals': [(-69, -52)]}, {'i': 17, 'j': 19, 'intervals': [(-99, 79)]}, {'i': 18, 'j': 19, 'intervals': [(93, 96)]}]\n"
     ]
    }
   ],
   "source": [
    "T = generate_problem(\n",
    "    20,\n",
    "    min_intervals=1,\n",
    "    max_intervals=1,\n",
    "    scaling_factor=1\n",
    ")\n",
    "\n",
    "purely_random(T, 100, 50*50)"
   ]
  },
  {
   "cell_type": "code",
   "execution_count": null,
   "metadata": {},
   "outputs": [],
   "source": []
  }
 ],
 "metadata": {
  "kernelspec": {
   "display_name": "Python 3",
   "language": "python",
   "name": "python3"
  },
  "language_info": {
   "codemirror_mode": {
    "name": "ipython",
    "version": 3
   },
   "file_extension": ".py",
   "mimetype": "text/x-python",
   "name": "python",
   "nbconvert_exporter": "python",
   "pygments_lexer": "ipython3",
   "version": "3.9.1"
  }
 },
 "nbformat": 4,
 "nbformat_minor": 4
}
