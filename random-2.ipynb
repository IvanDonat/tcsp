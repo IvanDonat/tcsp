{
 "cells": [
  {
   "cell_type": "code",
   "execution_count": 13,
   "metadata": {},
   "outputs": [
    {
     "data": {
      "text/plain": [
       "[{'i': 0, 'j': 0, 'intervals': [(-100, 100)]},\n",
       " {'i': 0, 'j': 1, 'intervals': [(-100, 100)]},\n",
       " {'i': 0, 'j': 2, 'intervals': [(-100, 100)]},\n",
       " {'i': 0, 'j': 3, 'intervals': [(-100, 100)]},\n",
       " {'i': 0, 'j': 4, 'intervals': [(-100, 100)]},\n",
       " {'i': 1,\n",
       "  'j': 4,\n",
       "  'intervals': [(-95, -95),\n",
       "   (-92, -76),\n",
       "   (-73, -65),\n",
       "   (-59, -17),\n",
       "   (-11, 36),\n",
       "   (50, 55),\n",
       "   (57, 75),\n",
       "   (86, 87)]},\n",
       " {'i': 3,\n",
       "  'j': 4,\n",
       "  'intervals': [(-88, -69),\n",
       "   (-59, -37),\n",
       "   (-35, -25),\n",
       "   (-20, 4),\n",
       "   (8, 17),\n",
       "   (34, 42),\n",
       "   (48, 63),\n",
       "   (73, 99)]}]"
      ]
     },
     "execution_count": 13,
     "metadata": {},
     "output_type": "execute_result"
    }
   ],
   "source": [
    "#!/usr/bin/python3\n",
    "import argparse\n",
    "from random import uniform, randint\n",
    "\n",
    "def generate_problem(\n",
    "    variables, \n",
    "    constraint_probability, \n",
    "    R,\n",
    "    min_intervals, \n",
    "    max_intervals\n",
    "    ):\n",
    "    \n",
    "    T_all = []\n",
    "    \n",
    "    for j in range(variables):\n",
    "        T = {\n",
    "            'i': 0,\n",
    "            'j': j,\n",
    "            'intervals': [(-R, R)],\n",
    "        }\n",
    "        T_all += [T]\n",
    "        \n",
    "    for i in range(1, variables):\n",
    "        for j in range(i+1, variables):\n",
    "            if uniform(0, 1) < constraint_probability:\n",
    "                num_intervals = randint(min_intervals, max_intervals)\n",
    "                points = [randint(-R, R) for _ in range(2 * num_intervals)]\n",
    "                points.sort()\n",
    "                \n",
    "                T_all.append({\n",
    "                    'i': i,\n",
    "                    'j': j,\n",
    "                    'intervals': list(zip(points[::2], points[1::2])),\n",
    "                })\n",
    "\n",
    "    return T_all\n",
    "\n",
    "generate_problem(5, 0.33, 100, 2, 10)"
   ]
  },
  {
   "cell_type": "code",
   "execution_count": null,
   "metadata": {},
   "outputs": [],
   "source": []
  },
  {
   "cell_type": "code",
   "execution_count": null,
   "metadata": {},
   "outputs": [],
   "source": []
  }
 ],
 "metadata": {
  "kernelspec": {
   "display_name": "Python 3",
   "language": "python",
   "name": "python3"
  },
  "language_info": {
   "codemirror_mode": {
    "name": "ipython",
    "version": 3
   },
   "file_extension": ".py",
   "mimetype": "text/x-python",
   "name": "python",
   "nbconvert_exporter": "python",
   "pygments_lexer": "ipython3",
   "version": "3.8.6"
  }
 },
 "nbformat": 4,
 "nbformat_minor": 4
}
