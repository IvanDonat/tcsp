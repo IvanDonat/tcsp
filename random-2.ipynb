{
 "cells": [
  {
   "cell_type": "code",
   "execution_count": 10,
   "metadata": {},
   "outputs": [
    {
     "data": {
      "text/plain": [
       "[{'i': 0, 'j': 0, 'intervals': [(-100, 100)]},\n",
       " {'i': 0, 'j': 1, 'intervals': [(-100, 100)]},\n",
       " {'i': 0, 'j': 2, 'intervals': [(-100, 100)]},\n",
       " {'i': 0, 'j': 3, 'intervals': [(-100, 100)]},\n",
       " {'i': 0, 'j': 4, 'intervals': [(-100, 100)]},\n",
       " {'i': 0, 'j': 5, 'intervals': [(-100, 100)]},\n",
       " {'i': 0, 'j': 6, 'intervals': [(-100, 100)]},\n",
       " {'i': 0, 'j': 7, 'intervals': [(-100, 100)]},\n",
       " {'i': 0, 'j': 8, 'intervals': [(-100, 100)]},\n",
       " {'i': 0, 'j': 9, 'intervals': [(-100, 100)]},\n",
       " {'i': 1, 'j': 4, 'intervals': [(-87, -69), (-50, -41), (-40, -27), (23, 57)]},\n",
       " {'i': 1, 'j': 5, 'intervals': [(-30, 16), (26, 51), (72, 74)]},\n",
       " {'i': 1, 'j': 7, 'intervals': [(-79, -76), (-41, -22), (-10, 2), (13, 82)]},\n",
       " {'i': 3,\n",
       "  'j': 4,\n",
       "  'intervals': [(-96, -89), (-61, -30), (45, 72), (82, 86), (89, 90)]},\n",
       " {'i': 3, 'j': 6, 'intervals': [(-92, -33), (-16, -6), (0, 11)]},\n",
       " {'i': 4, 'j': 8, 'intervals': [(-86, -29), (-22, -13), (1, 30), (39, 48)]},\n",
       " {'i': 5, 'j': 6, 'intervals': [(8, 13)]},\n",
       " {'i': 7,\n",
       "  'j': 8,\n",
       "  'intervals': [(-80, -73), (-69, -68), (-45, -36), (-34, -26), (-13, 20)]}]"
      ]
     },
     "execution_count": 10,
     "metadata": {},
     "output_type": "execute_result"
    }
   ],
   "source": [
    "#!/usr/bin/python3\n",
    "import argparse\n",
    "from random import uniform, randint\n",
    "\n",
    "def generate_problem(\n",
    "    variables, \n",
    "    constraint_probability=0.25, \n",
    "    R=100,\n",
    "    min_intervals=1, \n",
    "    max_intervals=5,\n",
    "    scaling_factor=1,\n",
    "    ):\n",
    "    \n",
    "    T_all = []\n",
    "    \n",
    "    for j in range(variables):\n",
    "        T_all.append({\n",
    "            'i': 0,\n",
    "            'j': j,\n",
    "            'intervals': [(-R, R)],\n",
    "        })\n",
    "        \n",
    "    for i in range(1, variables):\n",
    "        for j in range(i+1, variables):\n",
    "            if uniform(0, 1) < constraint_probability:\n",
    "                num_intervals = randint(min_intervals, max_intervals)\n",
    "                points = [randint(-R, R) for _ in range(2 * num_intervals)]\n",
    "                points.sort()\n",
    "                \n",
    "                intervals = list(zip(points[::2], points[1::2]))\n",
    "                \n",
    "                # apply scaling factor:\n",
    "                intervals = [ (i, int(i + (j-i)*scaling_factor)) for i, j in intervals]\n",
    "                \n",
    "                T_all.append({\n",
    "                    'i': i,\n",
    "                    'j': j,\n",
    "                    'intervals': intervals,\n",
    "                })\n",
    "\n",
    "    return T_all\n",
    "\n",
    "generate_problem(5, 1, 100, 1, 1)\n",
    "generate_problem(10)"
   ]
  },
  {
   "cell_type": "code",
   "execution_count": null,
   "metadata": {},
   "outputs": [],
   "source": []
  },
  {
   "cell_type": "code",
   "execution_count": null,
   "metadata": {},
   "outputs": [],
   "source": []
  }
 ],
 "metadata": {
  "kernelspec": {
   "display_name": "Python 3",
   "language": "python",
   "name": "python3"
  },
  "language_info": {
   "codemirror_mode": {
    "name": "ipython",
    "version": 3
   },
   "file_extension": ".py",
   "mimetype": "text/x-python",
   "name": "python",
   "nbconvert_exporter": "python",
   "pygments_lexer": "ipython3",
   "version": "3.9.0"
  }
 },
 "nbformat": 4,
 "nbformat_minor": 4
}
