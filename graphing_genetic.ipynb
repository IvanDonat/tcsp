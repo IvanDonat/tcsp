{
 "cells": [
  {
   "cell_type": "markdown",
   "id": "direct-stockholm",
   "metadata": {},
   "source": [
    "This notebook is for evaluation purposes of genetic algorithms. Such as, how often is a solution reached when it exists. The difference between random/walk/genetic algorithms, if there is any benefit to genetic vs walk (whether crossover is useful)."
   ]
  },
  {
   "cell_type": "code",
   "execution_count": 1,
   "id": "happy-single",
   "metadata": {},
   "outputs": [],
   "source": [
    "from exact_solver import solve, solve_stp\n",
    "from problem_generator import generate_problem \n",
    "\n",
    "from matplotlib import pyplot as plt\n",
    "import matplotlib.ticker as mtick\n",
    "\n",
    "import numpy as np"
   ]
  },
  {
   "cell_type": "code",
   "execution_count": 2,
   "id": "creative-assist",
   "metadata": {},
   "outputs": [],
   "source": [
    "from genetic_direct import direct_random, direct_walk, direct_genetic\n",
    "from genetic_meta import meta_random, meta_walk, meta_genetic"
   ]
  },
  {
   "cell_type": "code",
   "execution_count": 3,
   "id": "dietary-diamond",
   "metadata": {},
   "outputs": [],
   "source": [
    "from problem_sets import SIMPLE, BINARY"
   ]
  },
  {
   "cell_type": "code",
   "execution_count": 4,
   "id": "adopted-butler",
   "metadata": {},
   "outputs": [],
   "source": [
    "T = generate_problem()"
   ]
  },
  {
   "cell_type": "code",
   "execution_count": 5,
   "id": "studied-oakland",
   "metadata": {},
   "outputs": [
    {
     "data": {
      "text/plain": [
       "([0, -91, -19, 49, 31, -81, -31, -25, -42, 19],\n",
       " [{'i': 3, 'j': 5, 'intervals': [(-100, -57), (-29, 28), (44, 94)]}])"
      ]
     },
     "execution_count": 5,
     "metadata": {},
     "output_type": "execute_result"
    }
   ],
   "source": [
    "direct_random(T, r=100, iterations=100)"
   ]
  },
  {
   "cell_type": "code",
   "execution_count": 6,
   "id": "different-meeting",
   "metadata": {},
   "outputs": [
    {
     "data": {
      "text/plain": [
       "([0, -63, 3, -88, -4, -2, -69, 0, 17, -80], [])"
      ]
     },
     "execution_count": 6,
     "metadata": {},
     "output_type": "execute_result"
    }
   ],
   "source": [
    "direct_walk(T, r=100, max_iterations=20, max_flips=5, pick_best_gene=True)"
   ]
  },
  {
   "cell_type": "code",
   "execution_count": 7,
   "id": "opposed-uniform",
   "metadata": {},
   "outputs": [
    {
     "data": {
      "text/plain": [
       "([0, 2, 51, -24, 61, 59, 77, 64, 42, 0], [])"
      ]
     },
     "execution_count": 7,
     "metadata": {},
     "output_type": "execute_result"
    }
   ],
   "source": [
    "direct_genetic(T, r=100, gene_pool_size=100, retainment_ratio=0.5, mutation_chance=0.1, max_iterations=20)"
   ]
  },
  {
   "cell_type": "code",
   "execution_count": 8,
   "id": "placed-nashville",
   "metadata": {},
   "outputs": [
    {
     "data": {
      "text/plain": [
       "([0, 0, 0, 0, 0, 0, 0, 0, 0, 0, 0, 3, 2, 2, 0, 3, 2],\n",
       " [],\n",
       " [0.0, -9.5, 61.5, -12.0, -11.0, -69.0, -43.5, 69.0, 0.0, 0.0])"
      ]
     },
     "execution_count": 8,
     "metadata": {},
     "output_type": "execute_result"
    }
   ],
   "source": [
    "meta_random(T)"
   ]
  },
  {
   "cell_type": "code",
   "execution_count": 9,
   "id": "dress-booth",
   "metadata": {},
   "outputs": [
    {
     "data": {
      "text/plain": [
       "([0, 0, 0, 0, 0, 0, 0, 0, 0, 0, 0, 3, 3, 2, 1, 3, 0], [])"
      ]
     },
     "execution_count": 9,
     "metadata": {},
     "output_type": "execute_result"
    }
   ],
   "source": [
    "meta_walk(T, max_iterations=20, max_flips=5)"
   ]
  },
  {
   "cell_type": "code",
   "execution_count": 10,
   "id": "virgin-meeting",
   "metadata": {},
   "outputs": [
    {
     "data": {
      "text/plain": [
       "([0, 0, 0, 0, 0, 0, 0, 0, 0, 0, 0, 3, 3, 0, 1, 1, 0], [])"
      ]
     },
     "execution_count": 10,
     "metadata": {},
     "output_type": "execute_result"
    }
   ],
   "source": [
    "meta_genetic(T, gene_pool_size=100, retainment_ratio=0.5, mutation_chance=0.1, max_iterations=20)"
   ]
  },
  {
   "cell_type": "markdown",
   "id": "sunrise-pearl",
   "metadata": {},
   "source": [
    "Let's create a big batch of interesting problems, so that we can compare the algorithms."
   ]
  },
  {
   "cell_type": "code",
   "execution_count": 11,
   "id": "favorite-prophet",
   "metadata": {},
   "outputs": [
    {
     "name": "stdout",
     "output_type": "stream",
     "text": [
      "0, 1, 2, 3, 4, 5, 5, 6, 7, 8, 9, 10, 11, 12, 13, 14, 15, 16, 17, 18, 19, 20, 21, 22, 23, 24, 25, 26, 27, 28, 29, 30, 31, 32, 33, 34, 35, 36, 37, 38, 39, 40, 41, 41, 42, 43, 44, 45, 46, 47, 48, 49, Done\n"
     ]
    }
   ],
   "source": [
    "num_tests = 50\n",
    "\n",
    "Ts_sat = []\n",
    "while len(Ts_sat) < num_tests:\n",
    "    print(len(Ts_sat), end=', ')\n",
    "    T = generate_problem(**{ **BINARY} )\n",
    "    if solve(T, backjump=False):\n",
    "        Ts_sat.append( T )\n",
    "print('Done')"
   ]
  },
  {
   "cell_type": "markdown",
   "id": "illegal-butterfly",
   "metadata": {},
   "source": [
    "And a bunch of big problems, for which we don't know if they are satisfiable or not."
   ]
  },
  {
   "cell_type": "code",
   "execution_count": 12,
   "id": "cutting-suspension",
   "metadata": {},
   "outputs": [],
   "source": [
    "num_tests = 10\n",
    "\n",
    "Ts_big = []\n",
    "for _ in range(num_tests):\n",
    "    T = generate_problem(\n",
    "        **{ **BINARY, 'variables': 25}\n",
    "    )\n",
    "    Ts_big.append(T)"
   ]
  },
  {
   "cell_type": "markdown",
   "id": "olympic-fighter",
   "metadata": {},
   "source": [
    "Let's find a good ratio for walking iterations/flips:"
   ]
  },
  {
   "cell_type": "code",
   "execution_count": 20,
   "id": "aware-nickel",
   "metadata": {},
   "outputs": [
    {
     "name": "stdout",
     "output_type": "stream",
     "text": [
      "1\n",
      "2\n",
      "3\n",
      "4\n",
      "5\n",
      "6\n",
      "8\n",
      "10\n",
      "12\n",
      "15\n",
      "20\n",
      "24\n",
      "30\n",
      "40\n",
      "60\n",
      "120\n"
     ]
    },
    {
     "data": {
      "text/plain": [
       "<BarContainer object of 16 artists>"
      ]
     },
     "execution_count": 20,
     "metadata": {},
     "output_type": "execute_result"
    },
    {
     "data": {
      "image/png": "[encoded data removed]",
      "text/plain": [
       "<Figure size 576x576 with 2 Axes>"
      ]
     },
     "metadata": {
      "needs_background": "light"
     },
     "output_type": "display_data"
    }
   ],
   "source": [
    "# let's say we have iterations*flips = 120, then ratio can go from 0.01 to 120\n",
    "# we can iterate divisors of 120\n",
    "iters = tuple(i for i in range(1, 121) if 120 % i == 0)\n",
    "ratios = []\n",
    "faileds_direct = []\n",
    "faileds_meta = []\n",
    "for max_iterations in iters:\n",
    "    print(max_iterations)\n",
    "    max_flips = 120 // max_iterations\n",
    "    ratios += [max_iterations / max_flips]\n",
    "    \n",
    "    failed_cnt = 0\n",
    "    for T in Ts_big:\n",
    "        gene, failed = direct_walk(T, r=100, max_iterations=max_iterations, max_flips=max_flips, pick_best_gene=True)\n",
    "        failed_cnt += len(failed)\n",
    "    failed_avg = failed_cnt / len(Ts_big)\n",
    "    faileds_direct += [failed_avg]\n",
    "    \n",
    "    failed_cnt = 0\n",
    "    for T in Ts_big:\n",
    "        gene, failed = meta_walk(T,max_iterations=max_iterations, max_flips=max_flips)\n",
    "        failed_cnt += len(failed)\n",
    "    failed_avg = failed_cnt / len(Ts_big)\n",
    "    faileds_meta += [failed_avg]\n",
    "\n",
    "fig, axs = plt.subplots(2, figsize=(8, 8))\n",
    "fig.subplots_adjust(hspace=0.4)\n",
    "\n",
    "axs[0].set_xlabel('max iterations')\n",
    "axs[0].set_title('average failed constraints for direct walk')\n",
    "axs[0].bar(list(map(str, iters)), faileds_direct)\n",
    "\n",
    "axs[1].set_xlabel('max iterations')\n",
    "axs[1].set_title('average failed constraints for meta walk')\n",
    "axs[1].bar(list(map(str, iters)), faileds_meta)"
   ]
  },
  {
   "cell_type": "markdown",
   "id": "employed-worry",
   "metadata": {},
   "source": [
    "Test random vs walk first\n",
    "\n",
    "we do:\n",
    "   100 random cases\n",
    "vs\n",
    "   5 random with 20 walks"
   ]
  },
  {
   "cell_type": "code",
   "execution_count": 59,
   "id": "muslim-novel",
   "metadata": {},
   "outputs": [
    {
     "name": "stdout",
     "output_type": "stream",
     "text": [
      "[-1.0, -1.0, -1.0, 0, -0.8, -1.0, -1.0, -1.0, -1.0, -1.0, -1.0, -1.0, -1.0, -0.8333333333333334, -1.0, -1.0, -0.8571428571428571, -1.0, -1.0, -0.75, -1.0, -1.0, -1.0, -1.0, -1.0, -1.0, 0, -1.0, -1.0, -1.0, 0, -1.0, -1.0, -1.0, -1.0, -1.0, 0, -1.0, -1.0, -1.0, -1.0, -0.8333333333333334, -1.0, -0.875, -1.0, -1.0, -1.0, -1.0, -1.0, -1.0]\n",
      "avg -0.8989761904761906\n",
      "stddev 0.2714331672543248\n"
     ]
    }
   ],
   "source": [
    "# on sat problems\n",
    "\n",
    "reduction_rates = []\n",
    "for T in Ts_sat:\n",
    "    gene, failed = direct_random(T, r=100, iterations=100)\n",
    "    random_cnt = len(failed)\n",
    "    gene, failed = direct_walk(T, r=100, max_iterations=5, max_flips=20, pick_best_gene=True)\n",
    "    walk_cnt = len(failed)\n",
    "    \n",
    "    if random_cnt == 0:\n",
    "        reduction_rates.append(0)\n",
    "    else:\n",
    "        reduction_rates.append( (walk_cnt-random_cnt)/random_cnt )\n",
    "    \n",
    "print( reduction_rates )\n",
    "print('avg', sum(reduction_rates)/len(reduction_rates))\n",
    "print('stddev', np.std(reduction_rates))"
   ]
  },
  {
   "cell_type": "code",
   "execution_count": 60,
   "id": "speaking-andorra",
   "metadata": {},
   "outputs": [
    {
     "name": "stdout",
     "output_type": "stream",
     "text": [
      "0, 1, 2, 3, 4, 5, 6, 7, 8, 9, [-0.75, -0.7837837837837838, -0.7567567567567568, -0.7352941176470589, -0.8666666666666667, -0.7878787878787878, -0.75, -0.896551724137931, -0.75, -0.7407407407407407]\n",
      "avg -0.7817672577611725\n",
      "stddev 0.052840069587253506\n"
     ]
    }
   ],
   "source": [
    "# on big problems\n",
    "\n",
    "reduction_rates = []\n",
    "for i, T in enumerate(Ts_big):\n",
    "    print(i, end=', ')\n",
    "    gene, failed = direct_random(T, r=100, iterations=100)\n",
    "    random_cnt = len(failed)\n",
    "    gene, failed = direct_walk(T, r=100, max_iterations=5, max_flips=20, pick_best_gene=True)\n",
    "    walk_cnt = len(failed)\n",
    "    \n",
    "    if random_cnt == 0:\n",
    "        reduction_rates.append(0)\n",
    "    else:\n",
    "        reduction_rates.append( (walk_cnt-random_cnt)/random_cnt )\n",
    "    \n",
    "print( reduction_rates )\n",
    "print('avg', sum(reduction_rates)/len(reduction_rates))\n",
    "print('stddev', np.std(reduction_rates))"
   ]
  },
  {
   "cell_type": "markdown",
   "id": "parliamentary-tumor",
   "metadata": {},
   "source": [
    "How close does each algorithm get to solving the big problem set?\n",
    "Let's look at average constraints failed by constraint probability."
   ]
  },
  {
   "cell_type": "code",
   "execution_count": 61,
   "id": "technical-ferry",
   "metadata": {},
   "outputs": [
    {
     "name": "stdout",
     "output_type": "stream",
     "text": [
      "0, 5, 10, 15, 20, 25, 30, 35, 40, 45, 50, 55, 60, 65, 70, 75, 80, 85, 90, 95, 100, "
     ]
    }
   ],
   "source": [
    "# for this we should group the sets by constr prob as it'll get more difficult progressively\n",
    "\n",
    "num_tests = 10\n",
    "num_variables = 20\n",
    "\n",
    "probs = []\n",
    "T_list = []\n",
    "\n",
    "for prob in range(0, 101, 5):\n",
    "    tests = []\n",
    "    for k in range(num_tests):\n",
    "        T = generate_problem(**{ **BINARY, 'constraint_probability': prob/100, 'variables': num_variables} )\n",
    "        tests.append( T )\n",
    "        \n",
    "    probs.append(prob)\n",
    "    T_list.append(tests)\n",
    "    print(prob, end=', ')"
   ]
  },
  {
   "cell_type": "code",
   "execution_count": 62,
   "id": "liable-score",
   "metadata": {},
   "outputs": [
    {
     "name": "stdout",
     "output_type": "stream",
     "text": [
      "0 5 10 15 20 25 30 35 40 45 50 55 60 65 70 75 80 85 90 95 100 "
     ]
    },
    {
     "data": {
      "text/plain": [
       "<matplotlib.legend.Legend at 0x7feeb0a22100>"
      ]
     },
     "execution_count": 62,
     "metadata": {},
     "output_type": "execute_result"
    },
    {
     "data": {
      "image/png": "[encoded data removed]",
      "text/plain": [
       "<Figure size 576x288 with 1 Axes>"
      ]
     },
     "metadata": {
      "needs_background": "light"
     },
     "output_type": "display_data"
    }
   ],
   "source": [
    "fig, ax = plt.subplots(1, figsize=(8, 4))\n",
    "ax.set_xlabel('constraint probability')\n",
    "ax.set_title('average failed constraints')\n",
    "\n",
    "graph_failed_direct_random = []\n",
    "graph_failed_direct_walk = []\n",
    "graph_failed_direct_genetic = []\n",
    "graph_failed_meta_random = []\n",
    "graph_failed_meta_walk = []\n",
    "graph_failed_meta_genetic = []\n",
    "\n",
    "for p, Ts in zip(probs, T_list):\n",
    "    print(p, end=' ')\n",
    "    \n",
    "    num_failed_direct_random = sum(\n",
    "        len(direct_random(T, r=100, iterations=100)[1])\n",
    "        for T in Ts\n",
    "    ) / len(Ts)\n",
    "    num_failed_direct_walk = sum(\n",
    "        len(direct_walk(T, r=100, max_iterations=5, max_flips=20, pick_best_gene=True)[1])\n",
    "        for T in Ts\n",
    "    ) / len(Ts)\n",
    "    num_failed_direct_genetic = sum(\n",
    "        len(\n",
    "            direct_genetic(T, r=100, gene_pool_size=100, \n",
    "                           retainment_ratio=0.5, mutation_chance=0.1, max_iterations=20\n",
    "                         )[1])\n",
    "        for T in Ts\n",
    "    ) / len(Ts)\n",
    "    \n",
    "    \n",
    "    num_failed_meta_random = sum(\n",
    "        len(meta_random(T, iterations=100)[1])\n",
    "        for T in Ts\n",
    "    ) / len(Ts)\n",
    "    num_failed_meta_walk = sum(\n",
    "        len(meta_walk(T, max_iterations=5, max_flips=20)[1])\n",
    "        for T in Ts\n",
    "    ) / len(Ts)\n",
    "    num_failed_meta_genetic = sum(\n",
    "        len(\n",
    "            meta_genetic(T, gene_pool_size=20, \n",
    "                           retainment_ratio=0.5, mutation_chance=0.1, max_iterations=5\n",
    "                         )[1])\n",
    "        for T in Ts\n",
    "    ) / len(Ts)\n",
    "    \n",
    "    graph_failed_direct_random.append(num_failed_direct_random)\n",
    "    graph_failed_direct_walk.append(num_failed_direct_walk)\n",
    "    graph_failed_direct_genetic.append(num_failed_direct_genetic)\n",
    "    \n",
    "    graph_failed_meta_random.append(num_failed_meta_random)\n",
    "    graph_failed_meta_walk.append(num_failed_meta_walk)\n",
    "    graph_failed_meta_genetic.append(num_failed_meta_genetic)\n",
    "    \n",
    "ax.plot(probs, graph_failed_direct_random, label='direct random')\n",
    "ax.plot(probs, graph_failed_direct_walk, label='direct walk')\n",
    "ax.plot(probs, graph_failed_direct_genetic, label='direct genetic')\n",
    "ax.plot(probs, graph_failed_meta_random, label='meta random')\n",
    "ax.plot(probs, graph_failed_meta_walk, label='meta walk')\n",
    "ax.plot(probs, graph_failed_meta_genetic, label='meta genetic')\n",
    "ax.legend()"
   ]
  },
  {
   "cell_type": "code",
   "execution_count": null,
   "id": "sudden-entertainment",
   "metadata": {},
   "outputs": [],
   "source": []
  }
 ],
 "metadata": {
  "kernelspec": {
   "display_name": "Python 3",
   "language": "python",
   "name": "python3"
  },
  "language_info": {
   "codemirror_mode": {
    "name": "ipython",
    "version": 3
   },
   "file_extension": ".py",
   "mimetype": "text/x-python",
   "name": "python",
   "nbconvert_exporter": "python",
   "pygments_lexer": "ipython3",
   "version": "3.9.2"
  }
 },
 "nbformat": 4,
 "nbformat_minor": 5
}
