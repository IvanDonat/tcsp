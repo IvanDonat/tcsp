{
 "cells": [
  {
   "cell_type": "code",
   "execution_count": 9,
   "metadata": {},
   "outputs": [],
   "source": [
    "from random import randint, uniform\n",
    "from util import generate_problem, verify_witness"
   ]
  },
  {
   "cell_type": "code",
   "execution_count": 6,
   "metadata": {},
   "outputs": [],
   "source": [
    "def random_gene(T, r):\n",
    "    num_variables = max([max(t['i'], t['j']) for t in T])\n",
    "    return [0] + [randint(-r, r) for _ in range(num_variables)]\n",
    "\n",
    "def walk_gene(gene, T):\n",
    "    # TODO: how to do this?\n",
    "    \n",
    "    # attempt 1: find smallest diff for constraint to be satisfied\n",
    "    failed = verify_witness(gene, T)\n",
    "    for cons in failed:\n",
    "        i, j = cons[i], cons[j]\n",
    "        intervals = cons[intervals]\n",
    "        \n",
    "        # oof\n",
    "        \n",
    "    \n",
    "    \n",
    "    \n",
    "    # attempt 2: find variable which breaks most constraints, then?\n",
    "\n",
    "def walk_tcsp(T, r, max_iterations, max_flips):\n",
    "    best_gene = None\n",
    "    best_gene_failed = None\n",
    "    \n",
    "    for i in range(max_iterations):\n",
    "        gene = random_gene(T, r)\n",
    "        gene_failed = verify_witness(gene, T)\n",
    "        if not best_gene or len(gene_failed) < len(best_gene_failed):\n",
    "            best_gene = gene\n",
    "            best_gene_failed = gene_failed\n",
    "        \n",
    "        if len(gene_failed) == 0:\n",
    "            break\n",
    "    \n",
    "        for j in range(max_flips):\n",
    "            gene = walk_gene(gene, T)\n",
    "            gene_failed = verify_witness(gene, T)\n",
    "            \n",
    "            if len(gene_failed) == 0:\n",
    "                break\n",
    "                \n",
    "        # necessary for double break after flips loop\n",
    "        if len(gene_failed) == 0: break \n",
    "    \n",
    "    print(f'num iterations: {i+1}')\n",
    "    print('best gene:', best_gene)\n",
    "    print('constraints failed:', len(best_gene_failed), 'out of:', len(T)) \n",
    "    print('failed constraints:', best_gene_failed)"
   ]
  },
  {
   "cell_type": "code",
   "execution_count": null,
   "metadata": {},
   "outputs": [],
   "source": []
  },
  {
   "cell_type": "code",
   "execution_count": null,
   "metadata": {},
   "outputs": [],
   "source": []
  }
 ],
 "metadata": {
  "kernelspec": {
   "display_name": "Python 3",
   "language": "python",
   "name": "python3"
  },
  "language_info": {
   "codemirror_mode": {
    "name": "ipython",
    "version": 3
   },
   "file_extension": ".py",
   "mimetype": "text/x-python",
   "name": "python",
   "nbconvert_exporter": "python",
   "pygments_lexer": "ipython3",
   "version": "3.9.0"
  }
 },
 "nbformat": 4,
 "nbformat_minor": 4
}
