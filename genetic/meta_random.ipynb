{
 "cells": [
  {
   "cell_type": "code",
   "execution_count": 34,
   "metadata": {},
   "outputs": [],
   "source": [
    "from random import randint, uniform\n",
    "from util import generate_problem, verify_witness\n",
    "\n",
    "INF = 1e9"
   ]
  },
  {
   "cell_type": "markdown",
   "metadata": {},
   "source": [
    "## Firstly we need a solver for the STP problem.\n",
    "\n",
    "note here we are given a distance graph\n",
    "(the generation is done in the genetic part, so we can reuse memory and save time when an interval selection is changed.)"
   ]
  },
  {
   "cell_type": "code",
   "execution_count": 52,
   "metadata": {},
   "outputs": [],
   "source": [
    "def discrete_graph(N):\n",
    "    mat = [[INF for _ in range(N)] for _ in range(N)]\n",
    "    for i in range(N):\n",
    "        mat[i][i] = 0\n",
    "    return mat\n",
    "\n",
    "def generate_d_graph(graph):\n",
    "    N = len(graph)\n",
    "    E = discrete_graph(N)\n",
    "    \n",
    "    for i in range(N):\n",
    "        E[i][i] = 0 # redundant\n",
    "\n",
    "    for i in range(N):\n",
    "        for j in range(N):\n",
    "            E[i][j] = graph[i][j]\n",
    "\n",
    "    for k in range(N):\n",
    "        for i in range(N):\n",
    "            for j in range(N):\n",
    "                E[i][j] = min(E[i][j], E[i][k] + E[k][j])\n",
    "\n",
    "    return E\n",
    "\n",
    "def get_min_sol(d_graph):\n",
    "    return [-d_graph[i][0] for i in range(len(d_graph))]\n",
    "\n",
    "def consistent(d_graph):\n",
    "    for i in range(len(d_graph)):\n",
    "        if d_graph[i][i] < 0: return False\n",
    "    return True\n",
    "\n",
    "def solve_stp(graph):\n",
    "    ''' graph is the constraint adjacency matrix '''\n",
    "    \n",
    "    d_graph = generate_d_graph(graph)\n",
    "    \n",
    "    return consistent(d_graph), get_min_sol(d_graph)"
   ]
  },
  {
   "cell_type": "markdown",
   "metadata": {},
   "source": [
    "## The genetic part:"
   ]
  },
  {
   "cell_type": "code",
   "execution_count": 53,
   "metadata": {},
   "outputs": [],
   "source": [
    "def random_gene(T):\n",
    "    interval_selection = [randint(0, len(constr['intervals'])-1) for constr in T]\n",
    "    return interval_selection\n",
    "\n",
    "def solve(T):\n",
    "    num_variables = max([max(t['i'], t['j']) for t in T])\n",
    "    graph = discrete_graph(num_variables+1)\n",
    "    \n",
    "    gene = random_gene(T)\n",
    "    \n",
    "    for i, constr in enumerate(T):\n",
    "        interval_index = gene[i]\n",
    "        \n",
    "        i, j = constr['i'], constr['j']\n",
    "        interval = constr['intervals'][interval_index]\n",
    "        \n",
    "        graph[i][j] = interval[1]\n",
    "        graph[j][i] = -interval[0]\n",
    "        \n",
    "    return solve_stp(graph)"
   ]
  },
  {
   "cell_type": "code",
   "execution_count": 72,
   "metadata": {},
   "outputs": [
    {
     "name": "stdout",
     "output_type": "stream",
     "text": [
      "(True, [-50, -90, -100, -100, 50, -100, -44, -82, -56, -100])\n"
     ]
    },
    {
     "data": {
      "text/plain": [
       "[]"
      ]
     },
     "execution_count": 72,
     "metadata": {},
     "output_type": "execute_result"
    }
   ],
   "source": [
    "T = generate_problem()\n",
    "\n",
    "w = solve(T)\n",
    "print(w)\n",
    "verify_witness(w[1], T)"
   ]
  },
  {
   "cell_type": "code",
   "execution_count": 60,
   "metadata": {},
   "outputs": [
    {
     "ename": "NameError",
     "evalue": "name 'T' is not defined",
     "output_type": "error",
     "traceback": [
      "\u001b[0;31m---------------------------------------------------------------------------\u001b[0m",
      "\u001b[0;31mNameError\u001b[0m                                 Traceback (most recent call last)",
      "\u001b[0;32m<ipython-input-60-fb0c1c5e60c8>\u001b[0m in \u001b[0;36m<module>\u001b[0;34m\u001b[0m\n\u001b[0;32m----> 1\u001b[0;31m \u001b[0mverify_witness\u001b[0m\u001b[0;34m(\u001b[0m\u001b[0mT\u001b[0m\u001b[0;34m,\u001b[0m \u001b[0mwitness\u001b[0m\u001b[0;34m)\u001b[0m\u001b[0;34m\u001b[0m\u001b[0;34m\u001b[0m\u001b[0m\n\u001b[0m",
      "\u001b[0;31mNameError\u001b[0m: name 'T' is not defined"
     ]
    }
   ],
   "source": [
    "verify_witness(T, witness)"
   ]
  },
  {
   "cell_type": "code",
   "execution_count": null,
   "metadata": {},
   "outputs": [],
   "source": []
  }
 ],
 "metadata": {
  "kernelspec": {
   "display_name": "Python 3",
   "language": "python",
   "name": "python3"
  },
  "language_info": {
   "codemirror_mode": {
    "name": "ipython",
    "version": 3
   },
   "file_extension": ".py",
   "mimetype": "text/x-python",
   "name": "python",
   "nbconvert_exporter": "python",
   "pygments_lexer": "ipython3",
   "version": "3.9.1"
  }
 },
 "nbformat": 4,
 "nbformat_minor": 4
}
