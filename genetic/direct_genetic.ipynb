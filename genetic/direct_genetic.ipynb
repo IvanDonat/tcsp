{
 "cells": [
  {
   "cell_type": "code",
   "execution_count": 1,
   "metadata": {},
   "outputs": [],
   "source": [
    "from random import randint, uniform\n",
    "from util import generate_problem, verify_witness"
   ]
  },
  {
   "cell_type": "code",
   "execution_count": 8,
   "metadata": {},
   "outputs": [],
   "source": [
    "def random_gene(T, r):\n",
    "    num_variables = max([max(t['i'], t['j']) for t in T])\n",
    "    return [0] + [randint(-r, r) for _ in range(num_variables)]\n",
    "\n",
    "def fitness(gene, T):\n",
    "    # TODO\n",
    "    # different ways of computing fitness\n",
    "    # like: max distance for constraint to be satisfied\n",
    "    #       number of unsatisfied constraints\n",
    "    #       this, but weighted somehow, etc\n",
    "    \n",
    "    return -len(verify_witness(gene, T))\n",
    "\n",
    "def select(genes, retainment_ratio, T):\n",
    "    genes.sort(key=lambda g: -fitness(g, T))\n",
    "    return genes[: int(len(genes)*retainment_ratio+1) ]\n",
    "\n",
    "def crossover(genes, gene_pool_size):\n",
    "    while len(genes) < gene_pool_size:\n",
    "        i = randint(0, len(genes)-1)\n",
    "        j = randint(0, len(genes)-1)\n",
    "        cross_index = randint(1, gene_pool_size-2)\n",
    "        genes += [ genes[i][cross_index:] + genes[j][:cross_index] ]\n",
    "        \n",
    "    return genes\n",
    "\n",
    "def mutate(genes, mutation_chance, r):\n",
    "    for g in genes:\n",
    "        if uniform(0, 1) < mutation_chance:\n",
    "            g[randint(0, len(g)-1)] = randint(-r, r)\n",
    "            \n",
    "    return genes\n",
    "        \n",
    "def genetic(T, r,\n",
    "            gene_pool_size,\n",
    "            retainment_ratio,\n",
    "            mutation_chance,\n",
    "            max_iterations):\n",
    "    \n",
    "    genes = [random_gene(T, r) for i in range(gene_pool_size)]\n",
    "    \n",
    "    for it in range(max_iterations):\n",
    "        genes = select(genes, retainment_ratio, T)\n",
    "        genes = crossover(genes, gene_pool_size)\n",
    "        genes = mutate(genes, mutation_chance, r)\n",
    "    \n",
    "    best_gene = select(genes, 1, T)[0] # to sort genes such that first is best\n",
    "    best_gene_failed = verify_witness(best_gene, T)\n",
    "    print('best gene:', best_gene)\n",
    "    print('constraints failed:', len(best_gene_failed), 'out of:', len(T)) \n",
    "    print('failed constraints:', best_gene_failed)"
   ]
  },
  {
   "cell_type": "code",
   "execution_count": 9,
   "metadata": {},
   "outputs": [
    {
     "name": "stdout",
     "output_type": "stream",
     "text": [
      "best gene: [88, 85, 19, 3, 0, 90, 77, 78, 2, 20, 19, 16, 19, 50, 62, 74, 29, 35, 83, 78]\n",
      "constraints failed: 3 out of: 59\n",
      "failed constraints: [{'i': 2, 'j': 6, 'intervals': [(-89, -86), (-23, -14), (30, 31)]}, {'i': 4, 'j': 16, 'intervals': [(-92, -50), (-39, -36), (51, 71)]}, {'i': 7, 'j': 9, 'intervals': [(-2, 55)]}]\n"
     ]
    }
   ],
   "source": [
    "T = generate_problem(20, scaling_factor=1)\n",
    "genetic(\n",
    "    T=T, r=100,\n",
    "    gene_pool_size=50,\n",
    "    retainment_ratio=0.1,\n",
    "    mutation_chance=0.1,\n",
    "    max_iterations=2000,\n",
    ")"
   ]
  },
  {
   "cell_type": "code",
   "execution_count": null,
   "metadata": {},
   "outputs": [],
   "source": []
  }
 ],
 "metadata": {
  "kernelspec": {
   "display_name": "Python 3",
   "language": "python",
   "name": "python3"
  },
  "language_info": {
   "codemirror_mode": {
    "name": "ipython",
    "version": 3
   },
   "file_extension": ".py",
   "mimetype": "text/x-python",
   "name": "python",
   "nbconvert_exporter": "python",
   "pygments_lexer": "ipython3",
   "version": "3.9.1"
  }
 },
 "nbformat": 4,
 "nbformat_minor": 4
}
