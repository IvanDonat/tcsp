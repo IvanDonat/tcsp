{
 "cells": [
  {
   "cell_type": "code",
   "execution_count": null,
   "id": "departmental-probability",
   "metadata": {},
   "outputs": [],
   "source": [
    "from problem_generator import generate_problem\n",
    "from verifier import verify_witness\n",
    "\n",
    "from preprocessing import PC_1\n",
    "from exact_solver import solve\n",
    "\n",
    "from genetic_direct import direct_random\n",
    "from genetic_direct import direct_walk\n",
    "from genetic_direct import direct_genetic\n",
    "from genetic_meta import meta_random\n",
    "from genetic_meta import meta_walk\n",
    "from genetic_meta import meta_genetic"
   ]
  },
  {
   "cell_type": "markdown",
   "id": "conditional-factory",
   "metadata": {},
   "source": [
    "## Generating Problems"
   ]
  },
  {
   "cell_type": "code",
   "execution_count": null,
   "id": "russian-savannah",
   "metadata": {},
   "outputs": [],
   "source": [
    "T = generate_problem(\n",
    "    variables=12,\n",
    "    constraint_probability=0.25,\n",
    "    R=100,\n",
    "    min_intervals=1,\n",
    "    max_intervals=3,\n",
    "    scaling_factor=1,\n",
    ")\n",
    "\n",
    "T"
   ]
  },
  {
   "cell_type": "markdown",
   "id": "desperate-elements",
   "metadata": {},
   "source": [
    "## Preprocessing"
   ]
  },
  {
   "cell_type": "code",
   "execution_count": null,
   "id": "selective-transcription",
   "metadata": {},
   "outputs": [],
   "source": [
    "PC_1(T)"
   ]
  },
  {
   "cell_type": "markdown",
   "id": "suffering-fitness",
   "metadata": {},
   "source": [
    "## Exact Solver"
   ]
  },
  {
   "cell_type": "code",
   "execution_count": null,
   "id": "effective-international",
   "metadata": {},
   "outputs": [],
   "source": [
    "solve(T, backjump=False, verbose=True)"
   ]
  },
  {
   "cell_type": "code",
   "execution_count": null,
   "id": "collectible-contract",
   "metadata": {},
   "outputs": [],
   "source": [
    "X = solve(T, backjump=True, verbose=True)\n",
    "X"
   ]
  },
  {
   "cell_type": "markdown",
   "id": "hairy-clinton",
   "metadata": {},
   "source": [
    "## Verifier"
   ]
  },
  {
   "cell_type": "code",
   "execution_count": null,
   "id": "suspected-trustee",
   "metadata": {},
   "outputs": [],
   "source": [
    "verify_witness(X, T)\n",
    "# returns list of unsatisfied constraints"
   ]
  },
  {
   "cell_type": "markdown",
   "id": "cooperative-folks",
   "metadata": {},
   "source": [
    "## Direct Genetic Progression"
   ]
  },
  {
   "cell_type": "code",
   "execution_count": null,
   "id": "geographic-logging",
   "metadata": {},
   "outputs": [],
   "source": [
    "direct_random(\n",
    "    T=T,\n",
    "    r=100,\n",
    "    iterations=100,\n",
    "    verbose=True,\n",
    ")"
   ]
  },
  {
   "cell_type": "code",
   "execution_count": null,
   "id": "polyphonic-passion",
   "metadata": {},
   "outputs": [],
   "source": [
    "direct_walk(\n",
    "    T=T,\n",
    "    r=100,\n",
    "    max_iterations=6,\n",
    "    max_flips=20,\n",
    "    pick_best_gene=True,\n",
    "    verbose=True,\n",
    ")"
   ]
  },
  {
   "cell_type": "code",
   "execution_count": null,
   "id": "sonic-sherman",
   "metadata": {},
   "outputs": [],
   "source": [
    "direct_genetic(\n",
    "    T=T,\n",
    "    r=100,\n",
    "    gene_pool_size=100,\n",
    "    retainment_ratio=0.2,\n",
    "    mutation_chance=0.2,\n",
    "    max_iterations=20,\n",
    "    verbose=True,\n",
    ")"
   ]
  },
  {
   "cell_type": "markdown",
   "id": "beginning-savings",
   "metadata": {},
   "source": [
    "## Meta Genetic Progression"
   ]
  },
  {
   "cell_type": "code",
   "execution_count": null,
   "id": "tested-version",
   "metadata": {},
   "outputs": [],
   "source": [
    "meta_random(\n",
    "    T=T,\n",
    "    iterations=100,\n",
    "    verbose=True,\n",
    ")"
   ]
  },
  {
   "cell_type": "code",
   "execution_count": null,
   "id": "practical-municipality",
   "metadata": {},
   "outputs": [],
   "source": [
    "meta_walk(\n",
    "    T=T,\n",
    "    max_iterations=6,\n",
    "    max_flips=20,\n",
    "    verbose=True,\n",
    ")"
   ]
  },
  {
   "cell_type": "code",
   "execution_count": null,
   "id": "imposed-trade",
   "metadata": {},
   "outputs": [],
   "source": [
    "meta_genetic(\n",
    "    T=T,\n",
    "    gene_pool_size=100,\n",
    "    retainment_ratio=0.2,\n",
    "    mutation_chance=0.2,\n",
    "    max_iterations=20,\n",
    "    verbose=True,\n",
    ")"
   ]
  }
 ],
 "metadata": {
  "kernelspec": {
   "display_name": "Python 3",
   "language": "python",
   "name": "python3"
  },
  "language_info": {
   "codemirror_mode": {
    "name": "ipython",
    "version": 3
   },
   "file_extension": ".py",
   "mimetype": "text/x-python",
   "name": "python",
   "nbconvert_exporter": "python",
   "pygments_lexer": "ipython3",
   "version": "3.9.2"
  }
 },
 "nbformat": 4,
 "nbformat_minor": 5
}
