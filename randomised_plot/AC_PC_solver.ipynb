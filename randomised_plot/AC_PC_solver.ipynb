{
 "cells": [
  {
   "cell_type": "code",
   "execution_count": 5,
   "metadata": {},
   "outputs": [],
   "source": [
    "from solver import solve\n",
    "from pprint import pprint\n",
    "\n",
    "from random import uniform, randint\n",
    "\n",
    "from matplotlib import pyplot as plt"
   ]
  },
  {
   "cell_type": "code",
   "execution_count": 29,
   "metadata": {},
   "outputs": [
    {
     "data": {
      "text/plain": [
       "[{'i': 0, 'j': 0, 'intervals': [(-100, 100)]},\n",
       " {'i': 0, 'j': 1, 'intervals': [(-100, 100)]},\n",
       " {'i': 0, 'j': 2, 'intervals': [(-100, 100)]},\n",
       " {'i': 0, 'j': 3, 'intervals': [(-100, 100)]},\n",
       " {'i': 0, 'j': 4, 'intervals': [(-100, 100)]},\n",
       " {'i': 0, 'j': 5, 'intervals': [(-100, 100)]},\n",
       " {'i': 0, 'j': 6, 'intervals': [(-100, 100)]},\n",
       " {'i': 0, 'j': 7, 'intervals': [(-100, 100)]},\n",
       " {'i': 0, 'j': 8, 'intervals': [(-100, 100)]},\n",
       " {'i': 0, 'j': 9, 'intervals': [(-100, 100)]},\n",
       " {'i': 1, 'j': 6, 'intervals': [(-18, -8), (-67, -57), (39, 49), (85, 95)]},\n",
       " {'i': 1, 'j': 8, 'intervals': [(-28, -18)]},\n",
       " {'i': 2, 'j': 4, 'intervals': [(86, 96), (85, 95)]},\n",
       " {'i': 3, 'j': 6, 'intervals': [(73, 83), (-75, -65)]},\n",
       " {'i': 3,\n",
       "  'j': 8,\n",
       "  'intervals': [(-62, -52), (-68, -58), (-46, -36), (29, 39), (-92, -82)]},\n",
       " {'i': 4,\n",
       "  'j': 6,\n",
       "  'intervals': [(-6, 4), (-9, 1), (10, 20), (-28, -18), (31, 41)]},\n",
       " {'i': 5, 'j': 9, 'intervals': [(-19, -9), (58, 68), (-3, 7), (3, 13)]},\n",
       " {'i': 6, 'j': 9, 'intervals': [(-48, -38), (-95, -85), (-10, 0)]},\n",
       " {'i': 7, 'j': 9, 'intervals': [(-12, -2), (71, 81), (76, 86)]}]"
      ]
     },
     "execution_count": 29,
     "metadata": {},
     "output_type": "execute_result"
    }
   ],
   "source": [
    "def generate_problem(variables, constraint_probability, max_intervals):\n",
    "    X = [0] + [randint(0, 100) for _ in range(variables-1)]    \n",
    "    T_all = []\n",
    "\n",
    "    visited_edges = set()    \n",
    "\n",
    "    for j in range(variables):\n",
    "        T = {\n",
    "            'i': 0,\n",
    "            'j': j,\n",
    "            'intervals': [(-100, 100)],\n",
    "        }\n",
    "        T_all += [T]\n",
    "        \n",
    "    for i in range(1, variables):\n",
    "        for j in range(i+1, variables):\n",
    "            if uniform(0, 1) < constraint_probability:\n",
    "                T = {}\n",
    "                diff = X[j] - X[i]\n",
    "                T['i'] = i\n",
    "                T['j'] = j\n",
    "                T['intervals'] = []\n",
    "                for _ in range(randint(1, max_intervals)):\n",
    "                    m = randint(-100, 90)\n",
    "                    T['intervals'].append( (m, m+10) )\n",
    "                T_all.append(T)\n",
    "\n",
    "    return T_all\n",
    "\n",
    "x = generate_problem(10, 0.3, 5)\n",
    "x"
   ]
  },
  {
   "cell_type": "code",
   "execution_count": 33,
   "metadata": {},
   "outputs": [],
   "source": [
    "def constraints_to_graph(num_vars, T):\n",
    "    graph = [[list() for _ in range(num_vars)] for _ in range(num_vars)]\n",
    "    \n",
    "    for Tij in T:\n",
    "        i, j = Tij['i'], Tij['j']\n",
    "        intervals = Tij['intervals']\n",
    "        graph[i][j] = intervals\n",
    "        graph[j][i] = intervals\n",
    "    \n",
    "    return graph"
   ]
  },
  {
   "cell_type": "code",
   "execution_count": null,
   "metadata": {
    "collapsed": true
   },
   "outputs": [],
   "source": [
    "def PC_1(num_vars, constraints):\n",
    "    constraint_graph = constraints_to_graph(num_vars, constraints)\n",
    "    \n",
    "    changed = True\n",
    "    while changed:\n",
    "        changed = False\n",
    "        for k in range(num_vars):\n",
    "            for i in range(num_vars):\n",
    "                for j in range(num_vars):\n",
    "                    Tij = constraint_graph[i][j]\n",
    "                    Tik = constraint_graph[i][j]\n",
    "                    Tkj = constraint_graph[i][j]\n",
    "\n",
    "                    # Tij = Tij INTERSECT (Tik composed Tkj)\n",
    "\n",
    "                    # if Tij empty: unsat"
   ]
  }
 ],
 "metadata": {
  "kernelspec": {
   "display_name": "Python 3",
   "language": "python",
   "name": "python3"
  },
  "language_info": {
   "codemirror_mode": {
    "name": "ipython",
    "version": 3
   },
   "file_extension": ".py",
   "mimetype": "text/x-python",
   "name": "python",
   "nbconvert_exporter": "python",
   "pygments_lexer": "ipython3",
   "version": "3.8.5"
  }
 },
 "nbformat": 4,
 "nbformat_minor": 4
}
