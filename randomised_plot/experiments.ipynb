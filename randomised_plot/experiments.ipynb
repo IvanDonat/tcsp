{
 "cells": [
  {
   "cell_type": "code",
   "execution_count": 1,
   "metadata": {},
   "outputs": [],
   "source": [
    "from solver import solve\n",
    "from pprint import pprint\n",
    "\n",
    "from random import uniform, randint\n",
    "\n",
    "from matplotlib import pyplot as plt"
   ]
  },
  {
   "cell_type": "code",
   "execution_count": 2,
   "metadata": {},
   "outputs": [],
   "source": [
    "def generate_problem(variables, constraint_probability, max_intervals):\n",
    "    X = [0] + [randint(0, 100) for _ in range(variables-1)]    \n",
    "    T_all = []\n",
    "\n",
    "    visited_edges = set()    \n",
    "\n",
    "    for j in range(variables):\n",
    "        T = {\n",
    "            'i': 0,\n",
    "            'j': j,\n",
    "            'intervals': [(-100, 100)],\n",
    "        }\n",
    "        T_all += [T]\n",
    "        \n",
    "    for i in range(1, variables):\n",
    "        for j in range(i+1, variables):\n",
    "            if uniform(0, 1) < constraint_probability:\n",
    "                T = {}\n",
    "                diff = X[j] - X[i]\n",
    "                T['i'] = i\n",
    "                T['j'] = j\n",
    "                T['intervals'] = []\n",
    "                for _ in range(randint(1, max_intervals)):\n",
    "                    m = randint(-100, 90)\n",
    "                    T['intervals'].append( (m, m+10) )\n",
    "                T_all.append(T)\n",
    "\n",
    "    return T_all\n",
    "\n",
    "def print_problem(T):\n",
    "    print(max(cr['j'] for cr in T) + 1, len(T))\n",
    "    for Tij in T:\n",
    "        print(Tij['i'], Tij['j'], len(Tij['intervals']), end=' ')\n",
    "        for a, b in Tij['intervals']:\n",
    "            print(a, b, end=' ')\n",
    "        print()"
   ]
  },
  {
   "cell_type": "code",
   "execution_count": 4,
   "metadata": {},
   "outputs": [
    {
     "data": {
      "text/plain": [
       "[{'i': 0, 'j': 0, 'intervals': [(-100, 100)]},\n",
       " {'i': 0, 'j': 1, 'intervals': [(-100, 100)]},\n",
       " {'i': 0, 'j': 2, 'intervals': [(-100, 100)]},\n",
       " {'i': 0, 'j': 3, 'intervals': [(-100, 100)]},\n",
       " {'i': 0, 'j': 4, 'intervals': [(-100, 100)]},\n",
       " {'i': 0, 'j': 5, 'intervals': [(-100, 100)]},\n",
       " {'i': 0, 'j': 6, 'intervals': [(-100, 100)]},\n",
       " {'i': 0, 'j': 7, 'intervals': [(-100, 100)]},\n",
       " {'i': 0, 'j': 8, 'intervals': [(-100, 100)]},\n",
       " {'i': 0, 'j': 9, 'intervals': [(-100, 100)]},\n",
       " {'i': 2, 'j': 4, 'intervals': [(-57, -47), (-74, -64), (21, 31)]},\n",
       " {'i': 3, 'j': 5, 'intervals': [(72, 82), (55, 65), (-6, 4), (63, 73)]},\n",
       " {'i': 4, 'j': 7, 'intervals': [(-50, -40)]},\n",
       " {'i': 6, 'j': 9, 'intervals': [(62, 72), (-17, -7), (80, 90)]}]"
      ]
     },
     "execution_count": 4,
     "metadata": {},
     "output_type": "execute_result"
    }
   ],
   "source": [
    "prob = generate_problem(10, 0.1, 4)\n",
    "prob"
   ]
  },
  {
   "cell_type": "code",
   "execution_count": 5,
   "metadata": {},
   "outputs": [
    {
     "name": "stdout",
     "output_type": "stream",
     "text": [
      "10 14\n",
      "0 0 1 -100 100 \n",
      "0 1 1 -100 100 \n",
      "0 2 1 -100 100 \n",
      "0 3 1 -100 100 \n",
      "0 4 1 -100 100 \n",
      "0 5 1 -100 100 \n",
      "0 6 1 -100 100 \n",
      "0 7 1 -100 100 \n",
      "0 8 1 -100 100 \n",
      "0 9 1 -100 100 \n",
      "2 4 3 -57 -47 -74 -64 21 31 \n",
      "3 5 4 72 82 55 65 -6 4 63 73 \n",
      "4 7 1 -50 -40 \n",
      "6 9 3 62 72 -17 -7 80 90 \n"
     ]
    },
    {
     "data": {
      "text/plain": [
       "{'consistent': 36, 'dead': 0, 'total': 113}"
      ]
     },
     "execution_count": 5,
     "metadata": {},
     "output_type": "execute_result"
    }
   ],
   "source": [
    "def pick_first(constraints):\n",
    "    return constraints[0]\n",
    "\n",
    "def pick_least_intervals(constraints):\n",
    "    sol_ctr = constraints[0]\n",
    "    num = len(sol_ctr['intervals'])\n",
    "    for ctr in constraints[1:]:\n",
    "        if len(ctr['intervals']) < num:\n",
    "            sol_ctr = ctr\n",
    "            num = len(ctr['intervals'])\n",
    "    \n",
    "    return sol_ctr\n",
    "\n",
    "print_problem(prob)\n",
    "solve(10, prob, pick_first)"
   ]
  },
  {
   "cell_type": "code",
   "execution_count": 5,
   "metadata": {},
   "outputs": [],
   "source": [
    "# what to graph:\n",
    "# 1) graph how many have a consistent solution\n",
    "# 2) dead end cuts\n",
    "# 3) how likely is Path Consistency and/or Arc Consistency to find correct solution??\n",
    "# 4) ^ continuation: does it find correct minimal network"
   ]
  },
  {
   "cell_type": "code",
   "execution_count": 6,
   "metadata": {},
   "outputs": [],
   "source": [
    "def try_heuristic(runs, num_vars, constr_prob, max_intervals):\n",
    "    consistent = 0\n",
    "    \n",
    "    dead = 0\n",
    "    total = 0\n",
    "\n",
    "    # least intervals heur.\n",
    "    dead_li = 0\n",
    "    total_li = 0\n",
    "    \n",
    "    for run in range(runs):\n",
    "        print(run, end=\" \")\n",
    "        T = generate_problem(num_vars, constr_prob, max_intervals)\n",
    "\n",
    "        sol = solve(num_vars, T, pick_constraint=pick_first)\n",
    "        if sol['consistent'] > 0:\n",
    "            consistent += 1\n",
    "        dead += sol['dead']\n",
    "        total += sol['total']\n",
    "\n",
    "        sol_li = solve(num_vars, T, pick_constraint=pick_least_intervals)\n",
    "        dead_li += sol_li['dead']\n",
    "        total_li += sol_li['total']\n",
    "\n",
    "\n",
    "    fig, axs = plt.subplots(2)\n",
    "    axs[0].bar(\n",
    "        ['consistent', 'inconsistent'],\n",
    "        [consistent, runs - consistent],\n",
    "    )\n",
    "\n",
    "    axs[1].bar(\n",
    "        ['dead ends', 'total ends', 'dead ends LI', 'total ends LI'],\n",
    "        [dead / runs, total / runs, dead_li / runs, total_li / runs],\n",
    "    )"
   ]
  },
  {
   "cell_type": "raw",
   "metadata": {},
   "source": [
    "Variables at play in this random generation algorithm:\n",
    "1) num variables\n",
    "2) constraint probability\n",
    "3) number of intervals per constraint\n",
    "4) domain and range of intervals"
   ]
  },
  {
   "cell_type": "raw",
   "metadata": {},
   "source": [
    "I will for now fix dokmain and range to [-100, 100] and 10.\n",
    "Number of intervals is uniformly chosen between 1 and max_intervals."
   ]
  },
  {
   "cell_type": "raw",
   "metadata": {},
   "source": [
    "Let's find out how the two heuristics perform in different scenarios"
   ]
  },
  {
   "cell_type": "code",
   "execution_count": 9,
   "metadata": {},
   "outputs": [
    {
     "name": "stdout",
     "output_type": "stream",
     "text": [
      "0 1 2 3 4 5 6 7 8 9 "
     ]
    },
    {
     "data": {
      "image/png": "[encoded data removed]",
      "text/plain": [
       "<Figure size 432x288 with 2 Axes>"
      ]
     },
     "metadata": {
      "needs_background": "light"
     },
     "output_type": "display_data"
    }
   ],
   "source": [
    "try_heuristic(\n",
    "    runs=10,\n",
    "    num_vars=8,\n",
    "    constr_prob=0.3,\n",
    "    max_intervals=5, \n",
    ")"
   ]
  },
  {
   "cell_type": "raw",
   "metadata": {},
   "source": [
    "Let's find out if we can get a \"catastrophe\""
   ]
  },
  {
   "cell_type": "code",
   "execution_count": 24,
   "metadata": {},
   "outputs": [
    {
     "name": "stdout",
     "output_type": "stream",
     "text": [
      "0 1 2 3 4 5 6 7 8 9 0 1 2 3 4 5 6 7 8 9 0 1 2 3 4 5 6 7 8 9 0 1 2 3 4 5 6 7 8 9 0 1 2 3 4 5 6 7 8 9 0 1 2 3 4 5 6 7 8 9 0 1 2 3 4 5 6 7 8 9 0 1 2 3 4 5 6 7 8 9 0 1 2 3 4 5 6 7 8 9 0 1 2 3 4 5 6 7 8 9 "
     ]
    },
    {
     "data": {
      "text/plain": [
       "[<matplotlib.lines.Line2D at 0x7f75d567bf40>]"
      ]
     },
     "execution_count": 24,
     "metadata": {},
     "output_type": "execute_result"
    },
    {
     "data": {
      "image/png": "[encoded data removed]",
      "text/plain": [
       "<Figure size 432x288 with 2 Axes>"
      ]
     },
     "metadata": {
      "needs_background": "light"
     },
     "output_type": "display_data"
    }
   ],
   "source": [
    "# percent satisfiable over constraint probability on everything else fixed\n",
    "def try_sat(runs, num_vars, constr_prob, max_intervals):\n",
    "    consistent = 0\n",
    "    calls = 0\n",
    "    \n",
    "    for run in range(runs):\n",
    "        print(run, end=\" \")\n",
    "        T = generate_problem(num_vars, constr_prob, max_intervals)\n",
    "        sol = solve(num_vars, T, pick_constraint=pick_least_intervals)\n",
    "        if sol['consistent'] > 0:\n",
    "            consistent += 1\n",
    "        calls += sol['total']\n",
    "    \n",
    "    return (consistent / runs, calls) \n",
    "\n",
    "x_axis = []\n",
    "graph = []\n",
    "calls = []\n",
    "for prob in range(0, 100, 10):\n",
    "    x_axis.append(f'{prob}%')\n",
    "    sat, n_calls = try_sat(\n",
    "        runs=10,\n",
    "        num_vars=10,\n",
    "        constr_prob=prob/100,\n",
    "        max_intervals=5,\n",
    "    )\n",
    "    graph.append(sat)\n",
    "    calls.append(n_calls)\n",
    "\n",
    "fig, axs = plt.subplots(2)\n",
    "axs[0].plot(x_axis, graph)\n",
    "axs[1].plot(x_axis, calls)"
   ]
  },
  {
   "cell_type": "raw",
   "metadata": {},
   "source": [
    "Let's find out what happens if I vary constraint probability an fix else, in terms of the two heuristics."
   ]
  },
  {
   "cell_type": "code",
   "execution_count": 12,
   "metadata": {},
   "outputs": [
    {
     "name": "stdout",
     "output_type": "stream",
     "text": [
      "0 1 2 3 4 5 6 7 8 9 10 11 12 13 14 15 16 17 18 19 0 1 2 3 4 5 6 7 8 9 10 11 12 13 14 15 16 17 18 19 0 1 2 3 4 5 6 7 8 9 10 11 12 13 14 15 16 17 18 19 0 1 2 3 4 5 6 7 8 9 10 11 12 13 14 15 16 17 18 19 0 1 2 3 4 5 6 7 8 9 10 11 12 13 14 15 16 17 18 19 0 1 2 3 4 5 6 7 8 9 10 11 12 13 14 15 16 17 18 19 0 1 2 3 4 5 6 7 8 9 10 11 12 13 14 15 16 17 18 19 0 1 2 3 4 5 6 7 8 9 10 11 12 13 14 15 16 17 18 19 0 1 2 3 4 5 6 7 8 9 10 11 12 13 14 15 16 17 18 19 0 1 2 3 4 5 6 7 8 9 10 11 12 13 14 15 16 17 18 19 "
     ]
    },
    {
     "data": {
      "image/png": "[encoded data removed]",
      "text/plain": [
       "<Figure size 432x288 with 1 Axes>"
      ]
     },
     "metadata": {
      "needs_background": "light"
     },
     "output_type": "display_data"
    }
   ],
   "source": [
    "# percent satisfiable over constraint probability on everything else fixed\n",
    "def try_heur(runs, num_vars, constr_prob, max_intervals):\n",
    "    consistent = 0\n",
    "    calls_first = 0\n",
    "    calls_least = 0\n",
    "    \n",
    "    for run in range(runs):\n",
    "        print(run, end=\" \")\n",
    "        T = generate_problem(num_vars, constr_prob, max_intervals)\n",
    "        \n",
    "        sol = solve(num_vars, T, pick_constraint=pick_first)\n",
    "        calls_first += sol['total']\n",
    "    \n",
    "        sol = solve(num_vars, T, pick_constraint=pick_least_intervals)\n",
    "        calls_least += sol['total']\n",
    "    \n",
    "    return calls_first / runs, calls_least / runs\n",
    "\n",
    "x_axis = []\n",
    "graph = []\n",
    "calls_first = []\n",
    "calls_least = []\n",
    "for prob in range(0, 100, 10):\n",
    "    x_axis.append(f'{prob}%')\n",
    "    cf, cl = try_heur(\n",
    "        runs=20,\n",
    "        num_vars=9,\n",
    "        constr_prob=prob/100,\n",
    "        max_intervals=5,\n",
    "    )\n",
    "    calls_first.append(cf)\n",
    "    calls_least.append(cl)\n",
    "\n",
    "plt.plot(x_axis, calls_first, label=\"pick first\")\n",
    "plt.plot(x_axis, calls_least, label=\"pick least intervals\")\n",
    "plt.xlabel('probability')\n",
    "plt.ylabel('nodes explored')\n",
    "plt.title('Nodes explored per heuristic over varying constraint probability')\n",
    "plt.legend()\n",
    "plt.show()"
   ]
  },
  {
   "cell_type": "code",
   "execution_count": null,
   "metadata": {},
   "outputs": [],
   "source": []
  }
 ],
 "metadata": {
  "kernelspec": {
   "display_name": "Python 3",
   "language": "python",
   "name": "python3"
  },
  "language_info": {
   "codemirror_mode": {
    "name": "ipython",
    "version": 3
   },
   "file_extension": ".py",
   "mimetype": "text/x-python",
   "name": "python",
   "nbconvert_exporter": "python",
   "pygments_lexer": "ipython3",
   "version": "3.8.5"
  }
 },
 "nbformat": 4,
 "nbformat_minor": 4
}
