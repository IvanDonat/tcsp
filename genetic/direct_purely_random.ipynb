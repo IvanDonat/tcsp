{
 "cells": [
  {
   "cell_type": "code",
   "execution_count": 94,
   "metadata": {},
   "outputs": [],
   "source": [
    "from random import randint, uniform\n",
    "from util import generate_problem, verify_witness"
   ]
  },
  {
   "cell_type": "code",
   "execution_count": 91,
   "metadata": {},
   "outputs": [],
   "source": [
    "def random_gene(T, r):\n",
    "    num_variables = max([max(t['i'], t['j']) for t in T])\n",
    "    return [0] + [randint(-r, r) for _ in range(num_variables)]\n",
    "\n",
    "   \n",
    "def purely_random(T, r, iterations):\n",
    "    best_gene = None\n",
    "    best_gene_failed = None\n",
    "    \n",
    "    for i in range(iterations):\n",
    "        gene = random_gene(T, r)\n",
    "        gene_failed = verify_witness(gene, T)\n",
    "        if not best_gene or len(gene_failed) < len(best_gene_failed):\n",
    "            best_gene = gene\n",
    "            best_gene_failed = gene_failed\n",
    "        \n",
    "        if len(gene_failed) == 0:\n",
    "            break\n",
    "            \n",
    "    print(f'num iterations: {i+1}')\n",
    "    print('best gene:', best_gene)\n",
    "    print('constraints failed:', len(best_gene_failed), 'out of:', len(T)) \n",
    "    print('failed constraints:', best_gene_failed)"
   ]
  },
  {
   "cell_type": "code",
   "execution_count": 92,
   "metadata": {},
   "outputs": [
    {
     "name": "stdout",
     "output_type": "stream",
     "text": [
      "num iterations: 1000\n",
      "best gene: [0, 19, -36, -76, -82, -85, 27, -97, -73, -40, -32, -5, 84, -38, -12]\n",
      "constraints failed: 6 out of: 36\n",
      "failed constraints: [{'i': 2, 'j': 8, 'intervals': [(-12, 6)]}, {'i': 3, 'j': 7, 'intervals': [(66, 91)]}, {'i': 3, 'j': 12, 'intervals': [(-2, 50)]}, {'i': 4, 'j': 6, 'intervals': [(-79, -30), (-7, 16), (28, 57), (61, 62)]}, {'i': 7, 'j': 11, 'intervals': [(-100, -64), (-13, -8), (95, 95)]}, {'i': 10, 'j': 12, 'intervals': [(-66, -30), (-22, 41), (43, 78)]}]\n"
     ]
    }
   ],
   "source": [
    "T = generate_problem(15, scaling_factor=1)\n",
    "purely_random(T, 100, 1000)"
   ]
  },
  {
   "cell_type": "code",
   "execution_count": null,
   "metadata": {},
   "outputs": [],
   "source": []
  }
 ],
 "metadata": {
  "kernelspec": {
   "display_name": "Python 3",
   "language": "python",
   "name": "python3"
  },
  "language_info": {
   "codemirror_mode": {
    "name": "ipython",
    "version": 3
   },
   "file_extension": ".py",
   "mimetype": "text/x-python",
   "name": "python",
   "nbconvert_exporter": "python",
   "pygments_lexer": "ipython3",
   "version": "3.9.0"
  }
 },
 "nbformat": 4,
 "nbformat_minor": 4
}
