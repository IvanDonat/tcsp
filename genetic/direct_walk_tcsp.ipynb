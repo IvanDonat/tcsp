{
 "cells": [
  {
   "cell_type": "code",
   "execution_count": 1,
   "metadata": {},
   "outputs": [],
   "source": [
    "from random import randint, uniform\n",
    "from util import generate_problem, verify_witness\n",
    "from matplotlib import pyplot as plt"
   ]
  },
  {
   "cell_type": "code",
   "execution_count": 2,
   "metadata": {},
   "outputs": [],
   "source": [
    "def random_gene(T, r):\n",
    "    num_variables = max([max(t['i'], t['j']) for t in T])\n",
    "    return [0] + [randint(-r, r) for _ in range(num_variables)]\n",
    "\n",
    "def sweep_line(intervals):\n",
    "    L = []\n",
    "    for l, r in intervals:\n",
    "        L.append( (l, 1) )\n",
    "        L.append( (r, -1) )\n",
    "        \n",
    "    L.sort(key=lambda a: 10*a[0] - a[1])\n",
    "    \n",
    "    c = 0\n",
    "    top = -1\n",
    "    top_index = 0\n",
    "    \n",
    "    for index, (point, increment) in enumerate(L):\n",
    "        c += increment\n",
    "        if c > top:\n",
    "            top = c\n",
    "            top_index = index\n",
    "    \n",
    "    sol = int( (L[top_index][0] + L[top_index+1][0])/2 )\n",
    "    \n",
    "    # returns the number of constraints unsatisfied and time point\n",
    "    return len(intervals) - top, sol\n",
    "\n",
    "def walk_gene(gene, T, pick_best_gene=True):\n",
    "    num_variables = max([max(t['i'], t['j']) for t in T])\n",
    "    \n",
    "    constraints_per_variable = [list() for i in range(num_variables + 1)]\n",
    "    # at index i should contain availability intervals (given other variables are fixed.)\n",
    "    # remark: existence of an interval is local with respect to one constraint\n",
    "    # remark: so if intersection is empty, then there is no \"safe\" place to put this variable\n",
    "    \n",
    "    for c in T:\n",
    "        i, j = c['i'], c['j']\n",
    "        intervals = c['intervals']\n",
    "        for l, r in intervals:\n",
    "            # X_j - X_i in (l, r)\n",
    "            # fix X_j to genes[j]\n",
    "            # so genes[j] - X_i in (l, r)\n",
    "            # then X_i in [X_j - r, X_j - l]\n",
    "            constraints_per_variable[i].append( (gene[j] - r, gene[j] - l) )\n",
    "            \n",
    "            # now for j:\n",
    "            constraints_per_variable[j].append( (gene[i] + l, gene[i] + r) )\n",
    "            \n",
    "            # ^ tested this on paper, it's ok.\n",
    "    \n",
    "    \n",
    "    # for each constraint, sweep line, find best option\n",
    "    # (later? we want to pick whatever REDUCES the unsatisfieds the most)\n",
    "    # for now: pick a random variable and modify it according to sweep_line\n",
    "    # if no later, then we can make the loop upstairs simpler (to only do stuff if \"i\" is mentioned)\n",
    "\n",
    "    i = randint(1, num_variables)\n",
    "    gene[i] = sweep_line(constraints_per_variable[i])[1]\n",
    "\n",
    "    return gene\n",
    "    \n",
    "def walk_tcsp(T, r, max_iterations, max_flips):\n",
    "    best_gene = None\n",
    "    best_gene_failed = None\n",
    "    \n",
    "    for i in range(max_iterations):\n",
    "        gene = random_gene(T, r)\n",
    "        \n",
    "        for j in range(max_flips):\n",
    "            gene_failed = verify_witness(gene, T)\n",
    "            \n",
    "            if not best_gene or len(gene_failed) < len(best_gene_failed):\n",
    "                best_gene = gene\n",
    "                best_gene_failed = gene_failed\n",
    "            \n",
    "            if len(gene_failed) == 0:\n",
    "                break\n",
    "                \n",
    "            gene = walk_gene(gene, T)\n",
    "                \n",
    "        # necessary for double break after flips loop\n",
    "        if len(gene_failed) == 0: break\n",
    "    \n",
    "    print(f'num iterations: {i+1}')\n",
    "    print('best gene:', best_gene)\n",
    "    print('constraints failed:', len(best_gene_failed), 'out of:', len(T)) \n",
    "    print('failed constraints:', best_gene_failed)"
   ]
  },
  {
   "cell_type": "code",
   "execution_count": 3,
   "metadata": {},
   "outputs": [
    {
     "name": "stdout",
     "output_type": "stream",
     "text": [
      "num iterations: 50\n",
      "best gene: [0, 91, -12, -38, -36, -20, -31, 6, 49, -61, 40, -41, 4, 13, -98, -72, 19, -12, 49, 13]\n",
      "constraints failed: 7 out of: 58\n",
      "failed constraints: [{'i': 1, 'j': 3, 'intervals': [(-92, 30)]}, {'i': 1, 'j': 6, 'intervals': [(34, 90)]}, {'i': 2, 'j': 14, 'intervals': [(52, 67)]}, {'i': 2, 'j': 17, 'intervals': [(-88, -74)]}, {'i': 10, 'j': 14, 'intervals': [(-45, 16)]}, {'i': 14, 'j': 15, 'intervals': [(-89, -82)]}, {'i': 14, 'j': 17, 'intervals': [(84, 94)]}]\n"
     ]
    }
   ],
   "source": [
    "from pprint import pprint\n",
    "T = generate_problem(\n",
    "    20,\n",
    "    min_intervals=1,\n",
    "    max_intervals=1,\n",
    "    scaling_factor=1\n",
    ")\n",
    "\n",
    "walk_tcsp(T, 100, 50, 50)"
   ]
  },
  {
   "cell_type": "code",
   "execution_count": 4,
   "metadata": {},
   "outputs": [],
   "source": [
    "l = [(0, 10), (1, 5), (1, 6), (6, 10)]"
   ]
  },
  {
   "cell_type": "code",
   "execution_count": 5,
   "metadata": {},
   "outputs": [
    {
     "data": {
      "text/plain": [
       "(1, 3)"
      ]
     },
     "execution_count": 5,
     "metadata": {},
     "output_type": "execute_result"
    }
   ],
   "source": [
    "sweep_line(l)"
   ]
  },
  {
   "cell_type": "code",
   "execution_count": null,
   "metadata": {},
   "outputs": [],
   "source": []
  },
  {
   "cell_type": "markdown",
   "metadata": {},
   "source": [
    "## Graphing effectiveness of walking a gene"
   ]
  },
  {
   "cell_type": "code",
   "execution_count": 9,
   "metadata": {},
   "outputs": [],
   "source": [
    "def test(T, r, max_flips):\n",
    "    unsats = []\n",
    "    gene = random_gene(T, r)\n",
    "\n",
    "    for j in range(max_flips):\n",
    "        gene_failed = verify_witness(gene, T)\n",
    "        unsats += [len(gene_failed)]\n",
    "\n",
    "        if len(gene_failed) == 0:\n",
    "            break\n",
    "\n",
    "        gene = walk_gene(gene, T)\n",
    "\n",
    "    return unsats"
   ]
  },
  {
   "cell_type": "code",
   "execution_count": 71,
   "metadata": {},
   "outputs": [
    {
     "name": "stdout",
     "output_type": "stream",
     "text": [
      "20 2 0.90 False\n",
      "28 6 0.79 False\n",
      "27 3 0.89 False\n",
      "22 4 0.82 False\n",
      "33 4 0.88 False\n",
      "33 6 0.82 False\n",
      "40 9 0.78 False\n",
      "32 7 0.78 False\n",
      "23 7 0.70 False\n",
      "25 3 0.88 False\n",
      "26 4 0.85 False\n",
      "26 7 0.73 False\n",
      "38 5 0.87 False\n",
      "29 6 0.79 False\n",
      "26 4 0.85 False\n",
      "27 1 0.96 False\n",
      "30 5 0.83 False\n",
      "24 3 0.88 False\n",
      "34 7 0.79 False\n",
      "31 5 0.84 False\n",
      "33 8 0.76 False\n",
      "20 2 0.90 False\n",
      "33 8 0.76 False\n",
      "36 4 0.89 False\n",
      "33 4 0.88 False\n",
      "24 6 0.75 False\n",
      "28 0 1.00 True\n",
      "34 2 0.94 False\n",
      "39 7 0.82 False\n",
      "33 10 0.70 False\n",
      "27 3 0.89 False\n",
      "27 6 0.78 False\n",
      "19 0 1.00 True\n",
      "36 6 0.83 False\n",
      "25 4 0.84 False\n",
      "27 4 0.85 False\n",
      "24 5 0.79 False\n",
      "23 2 0.91 False\n",
      "30 6 0.80 False\n",
      "23 4 0.83 False\n",
      "27 5 0.81 False\n",
      "24 4 0.83 False\n",
      "22 3 0.86 False\n",
      "28 5 0.82 False\n",
      "23 0 1.00 True\n",
      "27 1 0.96 False\n",
      "26 5 0.81 False\n",
      "32 4 0.88 False\n",
      "31 3 0.90 False\n",
      "21 2 0.90 False\n"
     ]
    }
   ],
   "source": [
    "\n",
    "# problem sets:\n",
    "SIMPLE = {\n",
    "    'variables': 20,\n",
    "    'constraint_probability': 0.25,\n",
    "    'min_intervals': 1,\n",
    "    'max_intervals': 1,\n",
    "    'scaling_factor': 1,\n",
    "}\n",
    "\n",
    "BINARY = {\n",
    "    'variables': 20,\n",
    "    'constraint_probability': 0.25,\n",
    "    'min_intervals': 2,\n",
    "    'max_intervals': 2,\n",
    "    'scaling_factor': 1,\n",
    "}\n",
    "\n",
    "FIVE_MAX = {\n",
    "    'variables': 20,\n",
    "    'constraint_probability': 0.25,\n",
    "    'min_intervals': 1,\n",
    "    'max_intervals': 5,\n",
    "    'scaling_factor': 1,\n",
    "}\n",
    "\n",
    "\n",
    "runs = 50\n",
    "run_results = []\n",
    "\n",
    "for _ in range(runs):\n",
    "    T = generate_problem(\n",
    "        **BINARY\n",
    "    )\n",
    "    \n",
    "    arr = test(T, r=100, max_flips=100)\n",
    "    \n",
    "    starting = arr[0]\n",
    "    ending = arr[-1]\n",
    "    decrease = (arr[0]-arr[-1]) / arr[0]\n",
    "    \n",
    "    # TODO, problem: we do not know if it is even solvable!\n",
    "    # will have to confirm with backtracking, or make sure to generate only solvable problems\n",
    "    solved = arr[-1] == 0\n",
    "    \n",
    "    print(starting, ending, f'{decrease:.2f}', solved)"
   ]
  },
  {
   "cell_type": "code",
   "execution_count": 18,
   "metadata": {},
   "outputs": [],
   "source": [
    "# Note:\n",
    "# if returned length is less, that means the heuristic solved the problem\n",
    "# check whether it ever increases."
   ]
  },
  {
   "cell_type": "code",
   "execution_count": null,
   "metadata": {},
   "outputs": [],
   "source": []
  }
 ],
 "metadata": {
  "kernelspec": {
   "display_name": "Python 3",
   "language": "python",
   "name": "python3"
  },
  "language_info": {
   "codemirror_mode": {
    "name": "ipython",
    "version": 3
   },
   "file_extension": ".py",
   "mimetype": "text/x-python",
   "name": "python",
   "nbconvert_exporter": "python",
   "pygments_lexer": "ipython3",
   "version": "3.9.1"
  }
 },
 "nbformat": 4,
 "nbformat_minor": 4
}
