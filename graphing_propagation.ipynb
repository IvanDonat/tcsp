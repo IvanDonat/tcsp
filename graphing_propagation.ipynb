{
 "cells": [
  {
   "cell_type": "markdown",
   "id": "integrated-aggregate",
   "metadata": {},
   "source": [
    "This notebook investigates the properties of constraint propagation algorithms, namely PC-1 (enforcing path consistency)."
   ]
  },
  {
   "cell_type": "code",
   "execution_count": 1,
   "id": "focal-sleep",
   "metadata": {},
   "outputs": [],
   "source": [
    "from exact_solver import solve, solve_stp\n",
    "from problem_generator import generate_problem \n",
    "from preprocessing import PC_1\n",
    "\n",
    "from matplotlib import pyplot as plt\n",
    "import matplotlib.ticker as mtick"
   ]
  },
  {
   "cell_type": "code",
   "execution_count": 2,
   "id": "covered-repeat",
   "metadata": {},
   "outputs": [],
   "source": [
    "from problem_sets import SIMPLE, BINARY"
   ]
  },
  {
   "cell_type": "code",
   "execution_count": 3,
   "id": "southeast-developer",
   "metadata": {},
   "outputs": [],
   "source": [
    "# syntax for overriding a value.\n",
    "_ = generate_problem(**{ **SIMPLE, 'variables': 15 } )"
   ]
  },
  {
   "cell_type": "markdown",
   "id": "coastal-three",
   "metadata": {},
   "source": [
    "Let's find out, given UNSAT problems, if it deduces it right."
   ]
  },
  {
   "cell_type": "code",
   "execution_count": 4,
   "id": "conscious-controversy",
   "metadata": {},
   "outputs": [
    {
     "name": "stdout",
     "output_type": "stream",
     "text": [
      "0, 0, 0, 0, 1, 1, 1, 2, 2, 2, 2, 2, 2, 2, 2, 2, 2, 2, 2, 2, 2, 2, 2, 3, 3, 3, 3, 3, 3, 3, 3, 4, 4, 4, 4, 5, 6, 6, 6, 6, 6, 6, 6, 6, 6, 6, 7, 7, 7, 7, 7, 7, 7, 7, 7, 7, 7, 7, 7, 7, 7, 7, 7, 7, 7, 7, 8, 8, 8, 8, 8, 8, 8, 8, 8, 8, 8, 8, 8, 8, 8, 8, 8, 8, 8, 8, 8, 8, 9, 9, 9, 9, 9, 9, 10, 10, 10, 10, 10, 10, 10, 10, 10, 10, 10, 10, 10, 10, 10, 10, 10, 10, 10, 11, 11, 11, 11, 11, 11, 11, 11, 11, 11, 11, 11, 11, 11, 11, 11, 11, 11, 11, 11, 12, 12, 12, 12, 12, 12, 12, 12, 12, 12, 12, 12, 12, 12, 12, 12, 12, 12, 12, 12, 12, 12, 12, 12, 12, 12, 12, 12, 12, 13, 13, 14, 14, 14, 14, 14, 14, 14, 14, 14, 14, 14, 14, 15, 15, 15, 15, 15, 15, 15, 15, 16, 17, 17, 17, 17, 17, 18, 18, 18, 19, 19, 19, 19, 19, 20, 20, 20, 20, 21, 22, 22, 22, 23, 24, 24, 24, 24, 25, 25, 25, 26, 26, 26, 26, 27, 28, 28, 28, 28, 29, 30, 30, 30, 30, 30, 30, 30, 30, 30, 30, 30, 31, 31, 31, 31, 32, 32, 33, 33, 34, 34, 35, 35, 36, 36, 36, 36, 37, 37, 37, 37, 37, 37, 37, 37, 37, 38, 38, 38, 38, 38, 38, 38, 39, 40, 40, 40, 40, 40, 40, 40, 40, 40, 40, 40, 41, 41, 41, 42, 42, 42, 42, 42, 43, 43, 43, 43, 43, 44, 44, 44, 44, 44, 44, 44, 44, 45, 45, 45, 45, 45, 46, 46, 46, 46, 46, 46, 46, 46, 46, 46, 46, 47, 47, 47, 48, 48, 48, 48, 48, 48, 48, 48, 48, 48, 48, 48, 48, 48, 48, 49, 49, 49, 49, 49, Done\n"
     ]
    }
   ],
   "source": [
    "# First we need to create a dataset of interesting unsatisfiable problems.\n",
    "# Let's say, 50 BINARY problems in the interesting region.\n",
    "\n",
    "num_tests = 50\n",
    "\n",
    "Ts_unsat = []\n",
    "while len(Ts_unsat) < num_tests:\n",
    "    print(len(Ts_unsat), end=', ')\n",
    "    T = generate_problem(**{ **BINARY, 'scaling_factor': 0.5} )\n",
    "    if not solve(T, backjump=False):\n",
    "        Ts_unsat.append( T )\n",
    "print('Done')"
   ]
  },
  {
   "cell_type": "code",
   "execution_count": 5,
   "id": "impressive-cinema",
   "metadata": {},
   "outputs": [
    {
     "name": "stdout",
     "output_type": "stream",
     "text": [
      "1.0\n"
     ]
    }
   ],
   "source": [
    "num_deduced = 0\n",
    "for T in Ts_unsat:\n",
    "    sol = PC_1(T)\n",
    "    if sol is None: num_deduced += 1\n",
    "\n",
    "print(num_deduced / num_tests)"
   ]
  },
  {
   "cell_type": "markdown",
   "id": "responsible-ministry",
   "metadata": {},
   "source": [
    "What if constraint probability is varied?"
   ]
  },
  {
   "cell_type": "code",
   "execution_count": 6,
   "id": "further-excellence",
   "metadata": {},
   "outputs": [
    {
     "name": "stdout",
     "output_type": "stream",
     "text": [
      "0 1 2 3 4 5 6 7 8 9 10 11 12 13 14 15 16 17 18 19 20 21 22 23 24 25 26 27 28 29 30, 0 1 2 3 4 5 6 7 8 9 10 11 12 13 14 15 16 17 18 19 20 21 22 23 24 25 26 27 28 29 35, 0 1 2 3 4 5 6 7 8 9 10 11 12 13 14 15 16 17 18 19 20 21 22 23 24 25 26 27 28 29 40, 0 1 2 3 4 5 6 7 8 9 10 11 12 13 14 15 16 17 18 19 20 21 22 23 24 25 26 27 28 29 45, 0 1 2 3 4 5 6 7 8 9 10 11 12 13 14 15 16 17 18 19 20 21 22 23 24 25 26 27 28 29 50, 0 1 2 3 4 5 6 7 8 9 10 11 12 13 14 15 16 17 18 19 20 21 22 23 24 25 26 27 28 29 55, 0 1 2 3 4 5 6 7 8 9 10 11 12 13 14 15 16 17 18 19 20 21 22 23 24 25 26 27 28 29 60, 0 1 2 3 4 5 6 7 8 9 10 11 12 13 14 15 16 17 18 19 20 21 22 23 24 25 26 27 28 29 65, 0 1 2 3 4 5 6 7 8 9 10 11 12 13 14 15 16 17 18 19 20 21 22 23 24 25 26 27 28 29 70, 0 1 2 3 4 5 6 7 8 9 10 11 12 13 14 15 16 17 18 19 20 21 22 23 24 25 26 27 28 29 75, 0 1 2 3 4 5 6 7 8 9 10 11 12 13 14 15 16 17 18 19 20 21 22 23 24 25 26 27 28 29 80, 0 1 2 3 4 5 6 7 8 9 10 11 12 13 14 15 16 17 18 19 20 21 22 23 24 25 26 27 28 29 85, 0 1 2 3 4 5 6 7 8 9 10 11 12 13 14 15 16 17 18 19 20 21 22 23 24 25 26 27 28 29 90, 0 1 2 3 4 5 6 7 8 9 10 11 12 13 14 15 16 17 18 19 20 21 22 23 24 25 26 27 28 29 95, 0 1 2 3 4 5 6 7 8 9 10 11 12 13 14 15 16 17 18 19 20 21 22 23 24 25 26 27 28 29 100, "
     ]
    }
   ],
   "source": [
    "# what we will do is try to generate num_tests problems for each constraint probability\n",
    "# if it fails to generate unsat problems just move on\n",
    "num_tests = 30\n",
    "\n",
    "probs = []\n",
    "T_list = []\n",
    "\n",
    "for prob in range(30, 101, 5):\n",
    "    tests = []\n",
    "    for k in range(num_tests):\n",
    "        print(k, end=' ')\n",
    "        # it seems in order for the problems to be interesting for this graph,\n",
    "        # we need to have unsat problem, but that have ok sized intervals\n",
    "        \n",
    "        T = generate_problem(**{ **BINARY, 'constraint_probability': prob/100, 'scaling_factor': 0.1} )\n",
    "        if not solve(T, backjump=True):\n",
    "            tests.append( T )\n",
    "        \n",
    "    probs.append(prob)\n",
    "    T_list.append(tests)\n",
    "    print(prob, end=', ')"
   ]
  },
  {
   "cell_type": "code",
   "execution_count": 23,
   "id": "floppy-fishing",
   "metadata": {},
   "outputs": [
    {
     "name": "stdout",
     "output_type": "stream",
     "text": [
      "30 21 21\n",
      "35 28 28\n",
      "40 29 29\n",
      "45 29 29\n",
      "50 30 30\n",
      "55 30 30\n",
      "60 30 30\n",
      "65 30 30\n",
      "70 30 30\n",
      "75 30 30\n",
      "80 30 30\n",
      "85 30 30\n",
      "90 30 30\n",
      "95 30 30\n",
      "100 30 30\n"
     ]
    },
    {
     "data": {
      "text/plain": [
       "[<matplotlib.lines.Line2D at 0x7f21c7f7b5b0>]"
      ]
     },
     "execution_count": 23,
     "metadata": {},
     "output_type": "execute_result"
    },
    {
     "data": {
      "image/png": "[encoded data removed]",
      "text/plain": [
       "<Figure size 576x288 with 1 Axes>"
      ]
     },
     "metadata": {
      "needs_background": "light"
     },
     "output_type": "display_data"
    }
   ],
   "source": [
    "fig, ax = plt.subplots(1, figsize=(8, 4))\n",
    "ax.yaxis.set_major_formatter(mtick.PercentFormatter())\n",
    "ax.xaxis.set_major_formatter(mtick.PercentFormatter())\n",
    "ax.set_xlabel('constraint probability')\n",
    "ax.set_title('PC-1 deduced unsat')\n",
    "ax.set_ylim(0, 105)\n",
    "\n",
    "graph_deduceds = []\n",
    "for p, Ts in zip(probs, T_list):\n",
    "    print(p, len(Ts), end=' ')\n",
    "    if len(Ts) == 0:\n",
    "        graph_deduceds.append(0) # TODO deal with this case\n",
    "        continue\n",
    "    \n",
    "    num_deduced = 0\n",
    "    for T in Ts:\n",
    "        sol = PC_1(T)\n",
    "        if sol is None: num_deduced += 1\n",
    "    print(num_deduced)\n",
    "    graph_deduceds.append( 100 * num_deduced / len(Ts) )\n",
    "    \n",
    "ax.plot(probs, graph_deduceds)"
   ]
  },
  {
   "cell_type": "code",
   "execution_count": 24,
   "id": "lightweight-princess",
   "metadata": {},
   "outputs": [],
   "source": [
    "# ???? what?"
   ]
  },
  {
   "cell_type": "code",
   "execution_count": null,
   "id": "continuing-uniform",
   "metadata": {},
   "outputs": [],
   "source": []
  }
 ],
 "metadata": {
  "kernelspec": {
   "display_name": "Python 3",
   "language": "python",
   "name": "python3"
  },
  "language_info": {
   "codemirror_mode": {
    "name": "ipython",
    "version": 3
   },
   "file_extension": ".py",
   "mimetype": "text/x-python",
   "name": "python",
   "nbconvert_exporter": "python",
   "pygments_lexer": "ipython3",
   "version": "3.9.2"
  }
 },
 "nbformat": 4,
 "nbformat_minor": 5
}
