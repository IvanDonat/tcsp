{
 "cells": [
  {
   "cell_type": "markdown",
   "id": "direct-stockholm",
   "metadata": {},
   "source": [
    "This notebook is for evaluation purposes of genetic algorithms. Such as, how often is a solution reached when it exists. The difference between random/walk/genetic algorithms, if there is any benefit to genetic vs walk (whether crossover is useful)."
   ]
  },
  {
   "cell_type": "code",
   "execution_count": 1,
   "id": "happy-single",
   "metadata": {},
   "outputs": [],
   "source": [
    "from exact_solver import solve, solve_stp\n",
    "from problem_generator import generate_problem \n",
    "\n",
    "from matplotlib import pyplot as plt\n",
    "import matplotlib.ticker as mtick\n",
    "\n",
    "import numpy as np"
   ]
  },
  {
   "cell_type": "code",
   "execution_count": 2,
   "id": "creative-assist",
   "metadata": {},
   "outputs": [],
   "source": [
    "from genetic_direct import direct_random, direct_walk, direct_genetic\n",
    "from genetic_meta import meta_random, meta_walk, meta_genetic"
   ]
  },
  {
   "cell_type": "code",
   "execution_count": 3,
   "id": "dietary-diamond",
   "metadata": {},
   "outputs": [],
   "source": [
    "from problem_sets import SIMPLE, BINARY"
   ]
  },
  {
   "cell_type": "code",
   "execution_count": 4,
   "id": "adopted-butler",
   "metadata": {},
   "outputs": [],
   "source": [
    "T = generate_problem()"
   ]
  },
  {
   "cell_type": "code",
   "execution_count": 19,
   "id": "studied-oakland",
   "metadata": {},
   "outputs": [
    {
     "data": {
      "text/plain": [
       "([0, -41, -42, -67, 46, -11, -87, -28, -43, 32],\n",
       " [{'i': 1, 'j': 4, 'intervals': [(-91, -49), (44, 45)]}])"
      ]
     },
     "execution_count": 19,
     "metadata": {},
     "output_type": "execute_result"
    }
   ],
   "source": [
    "direct_random(T, r=100, iterations=100)"
   ]
  },
  {
   "cell_type": "code",
   "execution_count": 20,
   "id": "different-meeting",
   "metadata": {},
   "outputs": [
    {
     "data": {
      "text/plain": [
       "([0, -40, -89, 30, 4, -58, -88, -27, -30, -12], [])"
      ]
     },
     "execution_count": 20,
     "metadata": {},
     "output_type": "execute_result"
    }
   ],
   "source": [
    "direct_walk(T, r=100, max_iterations=20, max_flips=5, pick_best_gene=True)"
   ]
  },
  {
   "cell_type": "code",
   "execution_count": 21,
   "id": "opposed-uniform",
   "metadata": {},
   "outputs": [
    {
     "data": {
      "text/plain": [
       "([0, -2, -80, -90, -79, -68, -84, -98, 8, 0], [])"
      ]
     },
     "execution_count": 21,
     "metadata": {},
     "output_type": "execute_result"
    }
   ],
   "source": [
    "direct_genetic(T, r=100, gene_pool_size=100, retainment_ratio=0.5, mutation_chance=0.1, max_iterations=20)"
   ]
  },
  {
   "cell_type": "code",
   "execution_count": 22,
   "id": "placed-nashville",
   "metadata": {},
   "outputs": [
    {
     "data": {
      "text/plain": [
       "([0, 0, 0, 0, 0, 0, 0, 0, 0, 0, 1, 1, 2, 4, 1, 0, 2],\n",
       " [],\n",
       " [-83, -27, -100, -68, 17, 1, -100, -71, -38, -100])"
      ]
     },
     "execution_count": 22,
     "metadata": {},
     "output_type": "execute_result"
    }
   ],
   "source": [
    "meta_random(T)"
   ]
  },
  {
   "cell_type": "code",
   "execution_count": 24,
   "id": "dress-booth",
   "metadata": {},
   "outputs": [
    {
     "data": {
      "text/plain": [
       "([0, 0, 0, 0, 0, 0, 0, 0, 0, 0, 3, 0, 1, 2, 2, 2, 2], [])"
      ]
     },
     "execution_count": 24,
     "metadata": {},
     "output_type": "execute_result"
    }
   ],
   "source": [
    "meta_walk(T, max_iterations=20, max_flips=5)"
   ]
  },
  {
   "cell_type": "code",
   "execution_count": 26,
   "id": "virgin-meeting",
   "metadata": {},
   "outputs": [
    {
     "data": {
      "text/plain": [
       "([0, 0, 0, 0, 0, 0, 0, 0, 0, 0, 3, 1, 1, 2, 1, 1, 0], [])"
      ]
     },
     "execution_count": 26,
     "metadata": {},
     "output_type": "execute_result"
    }
   ],
   "source": [
    "meta_genetic(T, gene_pool_size=100, retainment_ratio=0.5, mutation_chance=0.1, max_iterations=20)"
   ]
  },
  {
   "cell_type": "markdown",
   "id": "sunrise-pearl",
   "metadata": {},
   "source": [
    "Let's create a big batch of interesting problems, so that we can compare the algorithms."
   ]
  },
  {
   "cell_type": "code",
   "execution_count": 44,
   "id": "favorite-prophet",
   "metadata": {},
   "outputs": [
    {
     "name": "stdout",
     "output_type": "stream",
     "text": [
      "0, 1, 2, 3, 4, 5, 6, 7, 8, 9, 10, 11, 12, 13, 14, 15, 16, 16, 17, 18, 19, 20, 21, 22, 23, 24, 25, 26, 27, 28, 29, 30, 31, 32, 33, 34, 35, 36, 37, 38, 39, 40, 41, 42, 43, 44, 45, 46, 47, 48, 48, 49, Done\n"
     ]
    }
   ],
   "source": [
    "num_tests = 50\n",
    "\n",
    "Ts_sat = []\n",
    "while len(Ts_sat) < num_tests:\n",
    "    print(len(Ts_sat), end=', ')\n",
    "    T = generate_problem(**{ **BINARY} )\n",
    "    if solve(T, backjump=False):\n",
    "        Ts_sat.append( T )\n",
    "print('Done')"
   ]
  },
  {
   "cell_type": "markdown",
   "id": "illegal-butterfly",
   "metadata": {},
   "source": [
    "And a bunch of big problems, for which we don't know if they are satisfiable or not."
   ]
  },
  {
   "cell_type": "code",
   "execution_count": 48,
   "id": "cutting-suspension",
   "metadata": {},
   "outputs": [],
   "source": [
    "num_tests = 100\n",
    "\n",
    "Ts_big = []\n",
    "for _ in range(num_tests):\n",
    "    T = generate_problem(\n",
    "        **{ **BINARY, 'variables': 100}\n",
    "    )\n",
    "    Ts_big.append(T)"
   ]
  },
  {
   "cell_type": "markdown",
   "id": "employed-worry",
   "metadata": {},
   "source": [
    "Test random vs walk first\n",
    "\n",
    "we do:\n",
    "   100 random cases\n",
    "vs\n",
    "   5 random with 20 walks"
   ]
  },
  {
   "cell_type": "code",
   "execution_count": 64,
   "id": "muslim-novel",
   "metadata": {},
   "outputs": [
    {
     "name": "stdout",
     "output_type": "stream",
     "text": [
      "[-1.0, -1.0, -1.0, -1.0, -1.0, -1.0, -1.0, -1.0, -1.0, -1.0, -1.0, -1.0, -1.0, -1.0, -1.0, 0, -1.0, -1.0, -1.0, -1.0, -1.0, 0, -1.0, -1.0, -1.0, -1.0, -1.0, -1.0, -1.0, -1.0, -1.0, -1.0, -1.0, -1.0, -1.0, -1.0, 0, -0.8, -1.0, -1.0, -1.0, -1.0, -1.0, -1.0, -1.0, -1.0, -1.0, -1.0, -1.0, -1.0]\n",
      "avg -0.9359999999999999\n",
      "stddev 0.23812601705819547\n"
     ]
    }
   ],
   "source": [
    "# on sat problems\n",
    "\n",
    "reduction_rates = []\n",
    "for T in Ts_sat:\n",
    "    gene, failed = direct_random(T, r=100, iterations=100)\n",
    "    random_cnt = len(failed)\n",
    "    gene, failed = direct_walk(T, r=100, max_iterations=5, max_flips=20, pick_best_gene=True)\n",
    "    walk_cnt = len(failed)\n",
    "    \n",
    "    if random_cnt == 0:\n",
    "        reduction_rates.append(0)\n",
    "    else:\n",
    "        reduction_rates.append( (walk_cnt-random_cnt)/random_cnt )\n",
    "    \n",
    "print( reduction_rates )\n",
    "print('avg', sum(reduction_rates)/len(reduction_rates))\n",
    "print('stddev', np.std(reduction_rates))"
   ]
  },
  {
   "cell_type": "code",
   "execution_count": 63,
   "id": "speaking-andorra",
   "metadata": {},
   "outputs": [
    {
     "name": "stdout",
     "output_type": "stream",
     "text": [
      "0, 1, 2, "
     ]
    },
    {
     "ename": "KeyboardInterrupt",
     "evalue": "",
     "output_type": "error",
     "traceback": [
      "\u001b[0;31m---------------------------------------------------------------------------\u001b[0m",
      "\u001b[0;31mKeyboardInterrupt\u001b[0m                         Traceback (most recent call last)",
      "\u001b[0;32m<ipython-input-63-738ec1a627b7>\u001b[0m in \u001b[0;36m<module>\u001b[0;34m\u001b[0m\n\u001b[1;32m      6\u001b[0m     \u001b[0mgene\u001b[0m\u001b[0;34m,\u001b[0m \u001b[0mfailed\u001b[0m \u001b[0;34m=\u001b[0m \u001b[0mdirect_random\u001b[0m\u001b[0;34m(\u001b[0m\u001b[0mT\u001b[0m\u001b[0;34m,\u001b[0m \u001b[0mr\u001b[0m\u001b[0;34m=\u001b[0m\u001b[0;36m100\u001b[0m\u001b[0;34m,\u001b[0m \u001b[0miterations\u001b[0m\u001b[0;34m=\u001b[0m\u001b[0;36m100\u001b[0m\u001b[0;34m)\u001b[0m\u001b[0;34m\u001b[0m\u001b[0;34m\u001b[0m\u001b[0m\n\u001b[1;32m      7\u001b[0m     \u001b[0mrandom_cnt\u001b[0m \u001b[0;34m=\u001b[0m \u001b[0mlen\u001b[0m\u001b[0;34m(\u001b[0m\u001b[0mfailed\u001b[0m\u001b[0;34m)\u001b[0m\u001b[0;34m\u001b[0m\u001b[0;34m\u001b[0m\u001b[0m\n\u001b[0;32m----> 8\u001b[0;31m     \u001b[0mgene\u001b[0m\u001b[0;34m,\u001b[0m \u001b[0mfailed\u001b[0m \u001b[0;34m=\u001b[0m \u001b[0mdirect_walk\u001b[0m\u001b[0;34m(\u001b[0m\u001b[0mT\u001b[0m\u001b[0;34m,\u001b[0m \u001b[0mr\u001b[0m\u001b[0;34m=\u001b[0m\u001b[0;36m100\u001b[0m\u001b[0;34m,\u001b[0m \u001b[0mmax_iterations\u001b[0m\u001b[0;34m=\u001b[0m\u001b[0;36m5\u001b[0m\u001b[0;34m,\u001b[0m \u001b[0mmax_flips\u001b[0m\u001b[0;34m=\u001b[0m\u001b[0;36m20\u001b[0m\u001b[0;34m,\u001b[0m \u001b[0mpick_best_gene\u001b[0m\u001b[0;34m=\u001b[0m\u001b[0;32mTrue\u001b[0m\u001b[0;34m)\u001b[0m\u001b[0;34m\u001b[0m\u001b[0;34m\u001b[0m\u001b[0m\n\u001b[0m\u001b[1;32m      9\u001b[0m     \u001b[0mwalk_cnt\u001b[0m \u001b[0;34m=\u001b[0m \u001b[0mlen\u001b[0m\u001b[0;34m(\u001b[0m\u001b[0mfailed\u001b[0m\u001b[0;34m)\u001b[0m\u001b[0;34m\u001b[0m\u001b[0;34m\u001b[0m\u001b[0m\n\u001b[1;32m     10\u001b[0m \u001b[0;34m\u001b[0m\u001b[0m\n",
      "\u001b[0;32m~/tcsp/genetic_direct.py\u001b[0m in \u001b[0;36mdirect_walk\u001b[0;34m(T, r, max_iterations, max_flips, pick_best_gene, verbose)\u001b[0m\n\u001b[1;32m    199\u001b[0m                 \u001b[0;32mbreak\u001b[0m\u001b[0;34m\u001b[0m\u001b[0;34m\u001b[0m\u001b[0m\n\u001b[1;32m    200\u001b[0m \u001b[0;34m\u001b[0m\u001b[0m\n\u001b[0;32m--> 201\u001b[0;31m             \u001b[0mgene\u001b[0m \u001b[0;34m=\u001b[0m \u001b[0mwalk_gene\u001b[0m\u001b[0;34m(\u001b[0m\u001b[0mgene\u001b[0m\u001b[0;34m,\u001b[0m \u001b[0mT\u001b[0m\u001b[0;34m,\u001b[0m \u001b[0mpick_best_gene\u001b[0m\u001b[0;34m)\u001b[0m\u001b[0;34m\u001b[0m\u001b[0;34m\u001b[0m\u001b[0m\n\u001b[0m\u001b[1;32m    202\u001b[0m \u001b[0;34m\u001b[0m\u001b[0m\n\u001b[1;32m    203\u001b[0m         \u001b[0;31m# necessary for double break after flips loop\u001b[0m\u001b[0;34m\u001b[0m\u001b[0;34m\u001b[0m\u001b[0;34m\u001b[0m\u001b[0m\n",
      "\u001b[0;32m~/tcsp/genetic_direct.py\u001b[0m in \u001b[0;36mwalk_gene\u001b[0;34m(gene, T, pick_best_gene)\u001b[0m\n\u001b[1;32m     66\u001b[0m             \u001b[0;31m# so genes[j] - X_i in (l, r)\u001b[0m\u001b[0;34m\u001b[0m\u001b[0;34m\u001b[0m\u001b[0;34m\u001b[0m\u001b[0m\n\u001b[1;32m     67\u001b[0m             \u001b[0;31m# then X_i in [X_j - r, X_j - l]\u001b[0m\u001b[0;34m\u001b[0m\u001b[0;34m\u001b[0m\u001b[0;34m\u001b[0m\u001b[0m\n\u001b[0;32m---> 68\u001b[0;31m             \u001b[0mconstraints_per_variable\u001b[0m\u001b[0;34m[\u001b[0m\u001b[0mi\u001b[0m\u001b[0;34m]\u001b[0m\u001b[0;34m.\u001b[0m\u001b[0mappend\u001b[0m\u001b[0;34m(\u001b[0m \u001b[0;34m(\u001b[0m\u001b[0mgene\u001b[0m\u001b[0;34m[\u001b[0m\u001b[0mj\u001b[0m\u001b[0;34m]\u001b[0m \u001b[0;34m-\u001b[0m \u001b[0mr\u001b[0m\u001b[0;34m,\u001b[0m \u001b[0mgene\u001b[0m\u001b[0;34m[\u001b[0m\u001b[0mj\u001b[0m\u001b[0;34m]\u001b[0m \u001b[0;34m-\u001b[0m \u001b[0ml\u001b[0m\u001b[0;34m)\u001b[0m \u001b[0;34m)\u001b[0m\u001b[0;34m\u001b[0m\u001b[0;34m\u001b[0m\u001b[0m\n\u001b[0m\u001b[1;32m     69\u001b[0m             \u001b[0mconstraints_per_variable\u001b[0m\u001b[0;34m[\u001b[0m\u001b[0mj\u001b[0m\u001b[0;34m]\u001b[0m\u001b[0;34m.\u001b[0m\u001b[0mappend\u001b[0m\u001b[0;34m(\u001b[0m \u001b[0;34m(\u001b[0m\u001b[0mgene\u001b[0m\u001b[0;34m[\u001b[0m\u001b[0mi\u001b[0m\u001b[0;34m]\u001b[0m \u001b[0;34m+\u001b[0m \u001b[0ml\u001b[0m\u001b[0;34m,\u001b[0m \u001b[0mgene\u001b[0m\u001b[0;34m[\u001b[0m\u001b[0mi\u001b[0m\u001b[0;34m]\u001b[0m \u001b[0;34m+\u001b[0m \u001b[0mr\u001b[0m\u001b[0;34m)\u001b[0m \u001b[0;34m)\u001b[0m\u001b[0;34m\u001b[0m\u001b[0;34m\u001b[0m\u001b[0m\n\u001b[1;32m     70\u001b[0m \u001b[0;34m\u001b[0m\u001b[0m\n",
      "\u001b[0;31mKeyboardInterrupt\u001b[0m: "
     ]
    }
   ],
   "source": [
    "# on big problems\n",
    "\n",
    "reduction_rates = []\n",
    "for i, T in enumerate(Ts_big):\n",
    "    print(i, end=', ')\n",
    "    gene, failed = direct_random(T, r=100, iterations=100)\n",
    "    random_cnt = len(failed)\n",
    "    gene, failed = direct_walk(T, r=100, max_iterations=5, max_flips=20, pick_best_gene=True)\n",
    "    walk_cnt = len(failed)\n",
    "    \n",
    "    if random_cnt == 0:\n",
    "        reduction_rates.append(0)\n",
    "    else:\n",
    "        reduction_rates.append( (walk_cnt-random_cnt)/random_cnt )\n",
    "    \n",
    "print( reduction_rates )\n",
    "print('avg', sum(reduction_rates)/len(reduction_rates))\n",
    "print('stddev', np.std(reduction_rates))"
   ]
  },
  {
   "cell_type": "markdown",
   "id": "parliamentary-tumor",
   "metadata": {},
   "source": [
    "How close does each algorithm get to solving the big problem set?\n",
    "Let's look at average constraints failed by constraint probability."
   ]
  },
  {
   "cell_type": "code",
   "execution_count": 9,
   "id": "technical-ferry",
   "metadata": {},
   "outputs": [
    {
     "name": "stdout",
     "output_type": "stream",
     "text": [
      "0, 5, 10, 15, 20, 25, 30, 35, 40, 45, 50, 55, 60, 65, 70, 75, 80, 85, 90, 95, 100, "
     ]
    }
   ],
   "source": [
    "# for this we should group the sets by constr prob as it'll get more difficult progressively\n",
    "\n",
    "num_tests = 10\n",
    "num_variables = 20\n",
    "\n",
    "probs = []\n",
    "T_list = []\n",
    "\n",
    "for prob in range(0, 101, 5):\n",
    "    tests = []\n",
    "    for k in range(num_tests):\n",
    "        T = generate_problem(**{ **BINARY, 'constraint_probability': prob/100, 'variables': num_variables} )\n",
    "        tests.append( T )\n",
    "        \n",
    "    probs.append(prob)\n",
    "    T_list.append(tests)\n",
    "    print(prob, end=', ')"
   ]
  },
  {
   "cell_type": "code",
   "execution_count": 10,
   "id": "liable-score",
   "metadata": {},
   "outputs": [
    {
     "name": "stdout",
     "output_type": "stream",
     "text": [
      "0 5 10 15 20 25 30 35 40 45 50 55 60 65 70 75 80 85 90 95 100 "
     ]
    },
    {
     "data": {
      "text/plain": [
       "<matplotlib.legend.Legend at 0x7f7ca600fd00>"
      ]
     },
     "execution_count": 10,
     "metadata": {},
     "output_type": "execute_result"
    },
    {
     "data": {
      "image/png": "[encoded data removed]",
      "text/plain": [
       "<Figure size 576x288 with 1 Axes>"
      ]
     },
     "metadata": {
      "needs_background": "light"
     },
     "output_type": "display_data"
    }
   ],
   "source": [
    "fig, ax = plt.subplots(1, figsize=(8, 4))\n",
    "ax.set_xlabel('constraint probability')\n",
    "ax.set_title('average failed constraints')\n",
    "\n",
    "graph_failed_direct_random = []\n",
    "graph_failed_direct_walk = []\n",
    "graph_failed_direct_genetic = []\n",
    "graph_failed_meta_random = []\n",
    "graph_failed_meta_walk = []\n",
    "graph_failed_meta_genetic = []\n",
    "\n",
    "for p, Ts in zip(probs, T_list):\n",
    "    print(p, end=' ')\n",
    "    \n",
    "    num_failed_direct_random = sum(\n",
    "        len(direct_random(T, r=100, iterations=100)[1])\n",
    "        for T in Ts\n",
    "    ) / len(Ts)\n",
    "    num_failed_direct_walk = sum(\n",
    "        len(direct_walk(T, r=100, max_iterations=5, max_flips=20, pick_best_gene=True)[1])\n",
    "        for T in Ts\n",
    "    ) / len(Ts)\n",
    "    num_failed_direct_genetic = sum(\n",
    "        len(\n",
    "            direct_genetic(T, r=100, gene_pool_size=100, \n",
    "                           retainment_ratio=0.5, mutation_chance=0.1, max_iterations=20\n",
    "                         )[1])\n",
    "        for T in Ts\n",
    "    ) / len(Ts)\n",
    "    \n",
    "    \n",
    "    num_failed_meta_random = sum(\n",
    "        len(meta_random(T, iterations=100)[1])\n",
    "        for T in Ts\n",
    "    ) / len(Ts)\n",
    "    num_failed_meta_walk = sum(\n",
    "        len(meta_walk(T, max_iterations=5, max_flips=20)[1])\n",
    "        for T in Ts\n",
    "    ) / len(Ts)\n",
    "    num_failed_meta_genetic = sum(\n",
    "        len(\n",
    "            meta_genetic(T, gene_pool_size=20, \n",
    "                           retainment_ratio=0.5, mutation_chance=0.1, max_iterations=5\n",
    "                         )[1])\n",
    "        for T in Ts\n",
    "    ) / len(Ts)\n",
    "    \n",
    "    graph_failed_direct_random.append(num_failed_direct_random)\n",
    "    graph_failed_direct_walk.append(num_failed_direct_walk)\n",
    "    graph_failed_direct_genetic.append(num_failed_direct_genetic)\n",
    "    \n",
    "    graph_failed_meta_random.append(num_failed_meta_random)\n",
    "    graph_failed_meta_walk.append(num_failed_meta_walk)\n",
    "    graph_failed_meta_genetic.append(num_failed_meta_genetic)\n",
    "    \n",
    "ax.plot(probs, graph_failed_direct_random, label='direct random')\n",
    "ax.plot(probs, graph_failed_direct_walk, label='direct walk')\n",
    "ax.plot(probs, graph_failed_direct_genetic, label='direct genetic')\n",
    "ax.plot(probs, graph_failed_meta_random, label='meta random')\n",
    "ax.plot(probs, graph_failed_meta_walk, label='meta walk')\n",
    "ax.plot(probs, graph_failed_meta_genetic, label='meta genetic')\n",
    "ax.legend()"
   ]
  },
  {
   "cell_type": "code",
   "execution_count": 84,
   "id": "stone-abuse",
   "metadata": {},
   "outputs": [
    {
     "data": {
      "text/plain": [
       "[0.0, 0.0, 0.0, 0.0, 0.0, 0.0]"
      ]
     },
     "execution_count": 84,
     "metadata": {},
     "output_type": "execute_result"
    }
   ],
   "source": [
    "graph_failed_meta_random"
   ]
  },
  {
   "cell_type": "code",
   "execution_count": 85,
   "id": "present-medicaid",
   "metadata": {},
   "outputs": [
    {
     "data": {
      "text/plain": [
       "[0.0,\n",
       " 0.06060606060606061,\n",
       " 0.5454545454545454,\n",
       " 1.2727272727272727,\n",
       " 1.6363636363636365,\n",
       " 1.7272727272727273]"
      ]
     },
     "execution_count": 85,
     "metadata": {},
     "output_type": "execute_result"
    }
   ],
   "source": [
    "graph_failed_direct_random"
   ]
  },
  {
   "cell_type": "code",
   "execution_count": null,
   "id": "nuclear-telephone",
   "metadata": {},
   "outputs": [],
   "source": []
  }
 ],
 "metadata": {
  "kernelspec": {
   "display_name": "Python 3",
   "language": "python",
   "name": "python3"
  },
  "language_info": {
   "codemirror_mode": {
    "name": "ipython",
    "version": 3
   },
   "file_extension": ".py",
   "mimetype": "text/x-python",
   "name": "python",
   "nbconvert_exporter": "python",
   "pygments_lexer": "ipython3",
   "version": "3.9.2"
  }
 },
 "nbformat": 4,
 "nbformat_minor": 5
}
