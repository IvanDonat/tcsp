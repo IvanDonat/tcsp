{
 "cells": [
  {
   "cell_type": "code",
   "execution_count": 37,
   "metadata": {},
   "outputs": [
    {
     "data": {
      "text/plain": [
       "[{'i': 0, 'j': 0, 'intervals': [(-100, 100)]},\n",
       " {'i': 0, 'j': 1, 'intervals': [(-100, 100)]},\n",
       " {'i': 0, 'j': 2, 'intervals': [(-100, 100)]},\n",
       " {'i': 0, 'j': 3, 'intervals': [(-100, 100)]},\n",
       " {'i': 0, 'j': 4, 'intervals': [(-100, 100)]},\n",
       " {'i': 1, 'j': 2, 'intervals': [(12, 36)]},\n",
       " {'i': 1, 'j': 3, 'intervals': [(41, 62)]},\n",
       " {'i': 1, 'j': 4, 'intervals': [(-96, 28)]},\n",
       " {'i': 2, 'j': 3, 'intervals': [(-83, 39)]},\n",
       " {'i': 2, 'j': 4, 'intervals': [(-43, 3)]},\n",
       " {'i': 3, 'j': 4, 'intervals': [(9, 30)]}]"
      ]
     },
     "execution_count": 37,
     "metadata": {},
     "output_type": "execute_result"
    }
   ],
   "source": [
    "#!/usr/bin/python3\n",
    "import argparse\n",
    "from random import uniform, randint\n",
    "\n",
    "#!/usr/bin/python3\n",
    "import argparse\n",
    "from random import uniform, randint\n",
    "\n",
    "\n",
    "def generate_problem(\n",
    "    variables=10, \n",
    "    constraint_probability=0.25, \n",
    "    R=100,\n",
    "    min_intervals=1, \n",
    "    max_intervals=5,\n",
    "    scaling_factor=1,\n",
    "    ):\n",
    "    \n",
    "    T_all = []\n",
    "    \n",
    "    for j in range(variables):\n",
    "        T_all.append({\n",
    "            'i': 0,\n",
    "            'j': j,\n",
    "            'intervals': [(-R, R)],\n",
    "        })\n",
    "        \n",
    "    for i in range(1, variables):\n",
    "        for j in range(i+1, variables):\n",
    "            if uniform(0, 1) < constraint_probability:\n",
    "                num_intervals = randint(min_intervals, max_intervals)\n",
    "                points = [randint(-R, R) for _ in range(2 * num_intervals)]\n",
    "                points.sort()\n",
    "                \n",
    "                intervals_temp = list(zip(points[::2], points[1::2]))\n",
    "                \n",
    "                # apply scaling factor:\n",
    "                intervals = []\n",
    "                for a, b in intervals_temp:\n",
    "                    midpoint = int((a+b)/2)\n",
    "                    l = int( midpoint - (midpoint-a)*scaling_factor )\n",
    "                    r = int( midpoint + (b-midpoint)*scaling_factor )\n",
    "                    intervals.append( (l, r) )\n",
    "                    \n",
    "                T_all.append({\n",
    "                    'i': i,\n",
    "                    'j': j,\n",
    "                    'intervals': intervals,\n",
    "                })\n",
    "\n",
    "    return T_all\n",
    "\n",
    "generate_problem(5, 1, 100, 1, 1, 1)"
   ]
  },
  {
   "cell_type": "code",
   "execution_count": null,
   "metadata": {},
   "outputs": [],
   "source": []
  },
  {
   "cell_type": "code",
   "execution_count": null,
   "metadata": {},
   "outputs": [],
   "source": []
  }
 ],
 "metadata": {
  "kernelspec": {
   "display_name": "Python 3",
   "language": "python",
   "name": "python3"
  },
  "language_info": {
   "codemirror_mode": {
    "name": "ipython",
    "version": 3
   },
   "file_extension": ".py",
   "mimetype": "text/x-python",
   "name": "python",
   "nbconvert_exporter": "python",
   "pygments_lexer": "ipython3",
   "version": "3.9.0"
  }
 },
 "nbformat": 4,
 "nbformat_minor": 4
}
