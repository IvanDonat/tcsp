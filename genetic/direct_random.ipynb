{
 "cells": [
  {
   "cell_type": "code",
   "execution_count": 8,
   "metadata": {},
   "outputs": [],
   "source": [
    "from random import randint, uniform\n",
    "from util import generate_problem, verify_witness"
   ]
  },
  {
   "cell_type": "code",
   "execution_count": 9,
   "metadata": {},
   "outputs": [],
   "source": [
    "def random_gene(T, r):\n",
    "    num_variables = max([max(t['i'], t['j']) for t in T])\n",
    "    return [0] + [randint(-r, r) for _ in range(num_variables)]\n",
    "\n",
    "   \n",
    "def purely_random(T, r, iterations):\n",
    "    best_gene = None\n",
    "    best_gene_failed = None\n",
    "    \n",
    "    for i in range(iterations):\n",
    "        gene = random_gene(T, r)\n",
    "        gene_failed = verify_witness(gene, T)\n",
    "        if not best_gene or len(gene_failed) < len(best_gene_failed):\n",
    "            best_gene = gene\n",
    "            best_gene_failed = gene_failed\n",
    "        \n",
    "        if len(gene_failed) == 0:\n",
    "            break\n",
    "            \n",
    "    print(f'num iterations: {i+1}')\n",
    "    print('best gene:', best_gene)\n",
    "    print('constraints failed:', len(best_gene_failed), 'out of:', len(T)) \n",
    "    print('failed constraints:', best_gene_failed)"
   ]
  },
  {
   "cell_type": "code",
   "execution_count": 56,
   "metadata": {},
   "outputs": [
    {
     "name": "stdout",
     "output_type": "stream",
     "text": [
      "num iterations: 2500\n",
      "best gene: [0, -31, -38, -93, -60, 70, -34, -47, -44, -67, -64, -98, -55, 21, 52, -51, -85, -61, 29, -56]\n",
      "constraints failed: 18 out of: 67\n",
      "failed constraints: [{'i': 1, 'j': 10, 'intervals': [(11, 16)]}, {'i': 1, 'j': 15, 'intervals': [(-87, -35)]}, {'i': 2, 'j': 3, 'intervals': [(4, 29)]}, {'i': 2, 'j': 8, 'intervals': [(-52, -7)]}, {'i': 3, 'j': 11, 'intervals': [(11, 53)]}, {'i': 4, 'j': 5, 'intervals': [(-60, 98)]}, {'i': 4, 'j': 7, 'intervals': [(59, 72)]}, {'i': 4, 'j': 12, 'intervals': [(29, 34)]}, {'i': 8, 'j': 14, 'intervals': [(-78, -6)]}, {'i': 10, 'j': 15, 'intervals': [(11, 12)]}, {'i': 10, 'j': 18, 'intervals': [(-44, -18)]}, {'i': 10, 'j': 19, 'intervals': [(-63, -59)]}, {'i': 11, 'j': 14, 'intervals': [(16, 25)]}, {'i': 11, 'j': 16, 'intervals': [(33, 62)]}, {'i': 12, 'j': 13, 'intervals': [(99, 100)]}, {'i': 12, 'j': 14, 'intervals': [(-30, 36)]}, {'i': 13, 'j': 17, 'intervals': [(-16, 45)]}, {'i': 14, 'j': 18, 'intervals': [(-89, -39)]}]\n"
     ]
    }
   ],
   "source": [
    "T = generate_problem(\n",
    "    20,\n",
    "    min_intervals=1,\n",
    "    max_intervals=1,\n",
    "    scaling_factor=1\n",
    ")\n",
    "\n",
    "purely_random(T, 100, 50*50)"
   ]
  },
  {
   "cell_type": "code",
   "execution_count": null,
   "metadata": {},
   "outputs": [],
   "source": []
  }
 ],
 "metadata": {
  "kernelspec": {
   "display_name": "Python 3",
   "language": "python",
   "name": "python3"
  },
  "language_info": {
   "codemirror_mode": {
    "name": "ipython",
    "version": 3
   },
   "file_extension": ".py",
   "mimetype": "text/x-python",
   "name": "python",
   "nbconvert_exporter": "python",
   "pygments_lexer": "ipython3",
   "version": "3.9.1"
  }
 },
 "nbformat": 4,
 "nbformat_minor": 4
}
