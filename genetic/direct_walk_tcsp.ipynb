{
 "cells": [
  {
   "cell_type": "code",
   "execution_count": 37,
   "metadata": {},
   "outputs": [],
   "source": [
    "from random import randint, uniform\n",
    "from util import generate_problem, verify_witness"
   ]
  },
  {
   "cell_type": "code",
   "execution_count": 129,
   "metadata": {},
   "outputs": [],
   "source": [
    "def random_gene(T, r):\n",
    "    num_variables = max([max(t['i'], t['j']) for t in T])\n",
    "    return [0] + [randint(-r, r) for _ in range(num_variables)]\n",
    "\n",
    "def sweep_line(intervals):\n",
    "    L = []\n",
    "    for l, r in intervals:\n",
    "        L.append( (l, 1) )\n",
    "        L.append( (r, -1) )\n",
    "        \n",
    "    L.sort(key=lambda a: 10*a[0] - a[1])\n",
    "    \n",
    "    c = 0\n",
    "    top = -1\n",
    "    x = 0\n",
    "    \n",
    "    for p, i in L:\n",
    "        c += i\n",
    "        if c > top:\n",
    "            top = c\n",
    "            x = p\n",
    "    \n",
    "    # returns the number of constraints unsatisfied and time point\n",
    "    return len(intervals) - top, x\n",
    "\n",
    "def walk_gene(gene, T):\n",
    "    num_variables = max([max(t['i'], t['j']) for t in T])\n",
    "    \n",
    "    constraints_per_variable = [list() for i in range(num_variables + 1)]\n",
    "    # at index i should contain availability intervals (given other variables are fixed.)\n",
    "    # remark: existence of an interval is local with respect to one constraint\n",
    "    # remark: so if intersection is empty, then there is no \"safe\" place to put this variable\n",
    "    \n",
    "    for c in T:\n",
    "        i, j = c['i'], c['j']\n",
    "        intervals = c['intervals']\n",
    "        for l, r in intervals:\n",
    "            # X_j - X_i in (l, r)\n",
    "            # fix X_j to genes[j]\n",
    "            # so genes[j] - X_i in (l, r)\n",
    "            # then X_i in [X_j - r, X_j - l]\n",
    "            constraints_per_variable[i].append( (gene[j] - r, gene[j] - l) )\n",
    "            \n",
    "            # now for j:\n",
    "            constraints_per_variable[j].append( (gene[i] + l, gene[i] + r) )\n",
    "            \n",
    "            # ^ tested this on paper, it's ok.\n",
    "    \n",
    "    \n",
    "    # for each constraint, sweep line, find best option\n",
    "    # (later? we want to pick whatever REDUCES the unsatisfieds the most)\n",
    "    # for now: pick a random variable and modify it according to sweep_line\n",
    "    # if no later, then we can make the loop upstairs simpler (to only do stuff if \"i\" is mentioned)\n",
    "    i = randint(1, num_variables)\n",
    "    gene[i] = sweep_line(constraints_per_variable[i])[1]\n",
    "\n",
    "    return gene\n",
    "    \n",
    "def walk_tcsp(T, r, max_iterations, max_flips):\n",
    "    best_gene = None\n",
    "    best_gene_failed = None\n",
    "    \n",
    "    for i in range(max_iterations):\n",
    "        gene = random_gene(T, r)\n",
    "        \n",
    "        for j in range(max_flips):\n",
    "            gene_failed = verify_witness(gene, T)\n",
    "            \n",
    "            if not best_gene or len(gene_failed) < len(best_gene_failed):\n",
    "                best_gene = gene\n",
    "                best_gene_failed = gene_failed\n",
    "            \n",
    "            if len(gene_failed) == 0:\n",
    "                break\n",
    "                \n",
    "            gene = walk_gene(gene, T)\n",
    "                \n",
    "        # necessary for double break after flips loop\n",
    "        if len(gene_failed) == 0: break\n",
    "    \n",
    "    print(f'num iterations: {i+1}')\n",
    "    print('best gene:', best_gene)\n",
    "    print('constraints failed:', len(best_gene_failed), 'out of:', len(T)) \n",
    "    print('failed constraints:', best_gene_failed)"
   ]
  },
  {
   "cell_type": "code",
   "execution_count": 155,
   "metadata": {},
   "outputs": [
    {
     "name": "stdout",
     "output_type": "stream",
     "text": [
      "num iterations: 50\n",
      "best gene: [0, -82, -87, -100, -8, -95, -87, -74, -100, -92, -100, -100, -77, -170, -100, -82, -52, -100, -9, -78]\n",
      "constraints failed: 2 out of: 48\n",
      "failed constraints: [{'i': 0, 'j': 13, 'intervals': [(-100, 100)]}, {'i': 10, 'j': 15, 'intervals': [(-98, -74)]}]\n"
     ]
    }
   ],
   "source": [
    "from pprint import pprint\n",
    "T = generate_problem(\n",
    "    20,\n",
    "    min_intervals=1,\n",
    "    max_intervals=1,\n",
    "    scaling_factor=1\n",
    ")\n",
    "\n",
    "walk_tcsp(T, 100, 50, 50)"
   ]
  },
  {
   "cell_type": "code",
   "execution_count": null,
   "metadata": {},
   "outputs": [],
   "source": []
  }
 ],
 "metadata": {
  "kernelspec": {
   "display_name": "Python 3",
   "language": "python",
   "name": "python3"
  },
  "language_info": {
   "codemirror_mode": {
    "name": "ipython",
    "version": 3
   },
   "file_extension": ".py",
   "mimetype": "text/x-python",
   "name": "python",
   "nbconvert_exporter": "python",
   "pygments_lexer": "ipython3",
   "version": "3.9.1"
  }
 },
 "nbformat": 4,
 "nbformat_minor": 4
}
