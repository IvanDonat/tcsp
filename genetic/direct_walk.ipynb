{
 "cells": [
  {
   "cell_type": "code",
   "execution_count": 2,
   "metadata": {},
   "outputs": [],
   "source": [
    "from random import randint, uniform\n",
    "from util import generate_problem, verify_witness\n",
    "from matplotlib import pyplot as plt"
   ]
  },
  {
   "cell_type": "code",
   "execution_count": 3,
   "metadata": {},
   "outputs": [],
   "source": [
    "def random_gene(T, r):\n",
    "    num_variables = max([max(t['i'], t['j']) for t in T])\n",
    "    return [0] + [randint(-r, r) for _ in range(num_variables)]\n",
    "\n",
    "def sweep_line(intervals):\n",
    "    L = []\n",
    "    for l, r in intervals:\n",
    "        L.append( (l, 1) )\n",
    "        L.append( (r, -1) )\n",
    "        \n",
    "    L.sort(key=lambda a: 10*a[0] - a[1])\n",
    "    \n",
    "    c = 0\n",
    "    top = -1\n",
    "    top_index = 0\n",
    "    \n",
    "    for index, (point, increment) in enumerate(L):\n",
    "        c += increment\n",
    "        if c > top:\n",
    "            top = c\n",
    "            top_index = index\n",
    "    \n",
    "    sol = int( (L[top_index][0] + L[top_index+1][0])/2 )\n",
    "    \n",
    "    # returns the number of constraints unsatisfied and time point\n",
    "    return len(intervals) - top, sol\n",
    "\n",
    "def walk_gene(gene, T, pick_best_gene=True):\n",
    "    num_variables = max([max(t['i'], t['j']) for t in T])\n",
    "    \n",
    "    constraints_per_variable = [list() for i in range(num_variables + 1)]\n",
    "    failed_per_variable = [0 for i in range(num_variables + 1)]\n",
    "    # at index i should contain availability intervals (given other variables are fixed.)\n",
    "    # remark: existence of an interval is local with respect to one constraint\n",
    "    # remark: so if intersection is empty, then there is no \"safe\" place to put this variable\n",
    "    \n",
    "    for c in T:\n",
    "        i, j = c['i'], c['j']\n",
    "        intervals = c['intervals']\n",
    "        for l, r in intervals:\n",
    "            # X_j - X_i in (l, r)\n",
    "            # fix X_j to genes[j]\n",
    "            # so genes[j] - X_i in (l, r)\n",
    "            # then X_i in [X_j - r, X_j - l]\n",
    "            constraints_per_variable[i].append( (gene[j] - r, gene[j] - l) )\n",
    "            \n",
    "            # now for j:\n",
    "            constraints_per_variable[j].append( (gene[i] + l, gene[i] + r) )\n",
    "            \n",
    "            \n",
    "            if gene[j] - gene[i] < l or gene[j] - gene[i] > r:\n",
    "                failed_per_variable[i] += 1\n",
    "                failed_per_variable[j] += 1\n",
    "            \n",
    "    \n",
    "    # for each constraint, sweep line, find best option\n",
    "    # (later? we want to pick whatever REDUCES the unsatisfieds the most)\n",
    "    # for now: pick a random variable and modify it according to sweep_line\n",
    "    # if no later, then we can make the loop upstairs simpler (to only do stuff if \"i\" is mentioned)\n",
    "\n",
    "    \n",
    "    if pick_best_gene:\n",
    "        reduction = -1\n",
    "        best_gene = -1\n",
    "        new_gene_base = 0\n",
    "        for i in range(1, num_variables+1):\n",
    "            faileds = failed_per_variable[i]\n",
    "            new_faileds, new_gene_base = sweep_line(constraints_per_variable[i])\n",
    "            \n",
    "            if faileds - new_faileds >= reduction: #important to have \\geq so it doesnt get stuck on 1 if 1 is best\n",
    "                reduction = faileds - new_faileds\n",
    "                best_gene = i\n",
    "                best_gene_base = new_gene_base\n",
    "        gene[best_gene] = best_gene_base\n",
    "    else:\n",
    "        i = randint(1, num_variables)\n",
    "        gene[i] = sweep_line(constraints_per_variable[i])[1]\n",
    "        \n",
    "\n",
    "    return gene\n",
    "    \n",
    "def walk_tcsp(T, r, max_iterations, max_flips, pick_best_gene):\n",
    "    best_gene = None\n",
    "    best_gene_failed = None\n",
    "    \n",
    "    for i in range(max_iterations):\n",
    "        gene = random_gene(T, r)\n",
    "        \n",
    "        for j in range(max_flips):\n",
    "            gene_failed = verify_witness(gene, T)\n",
    "            \n",
    "            if not best_gene or len(gene_failed) < len(best_gene_failed):\n",
    "                best_gene = gene\n",
    "                best_gene_failed = gene_failed\n",
    "            \n",
    "            if len(gene_failed) == 0:\n",
    "                break\n",
    "                \n",
    "            gene = walk_gene(gene, T, pick_best_gene)\n",
    "                \n",
    "        # necessary for double break after flips loop\n",
    "        if len(gene_failed) == 0: break\n",
    "    \n",
    "    print(f'num iterations: {i+1}')\n",
    "    print('best gene:', best_gene)\n",
    "    print('constraints failed:', len(best_gene_failed), 'out of:', len(T)) \n",
    "    print('failed constraints:', best_gene_failed)"
   ]
  },
  {
   "cell_type": "code",
   "execution_count": 4,
   "metadata": {},
   "outputs": [],
   "source": [
    "T = generate_problem(\n",
    "    50,\n",
    "    min_intervals=1,\n",
    "    max_intervals=1,\n",
    "    scaling_factor=1\n",
    ")"
   ]
  },
  {
   "cell_type": "code",
   "execution_count": 5,
   "metadata": {},
   "outputs": [
    {
     "name": "stdout",
     "output_type": "stream",
     "text": [
      "num iterations: 50\n",
      "best gene: [0, -41, -11, -3, -19, -15, -11, -56, 51, -25, 3, 52, -12, 15, -9, -2, -26, 7, 38, -1, 22, -7, 38, 3, 8, -36, 81, -9, -13, -36, -11, -63, 61, -38, -34, -5, 34, -8, -91, -34, 1, -50, -26, -33, 7, -18, 0, 39, -49, -53]\n",
      "constraints failed: 121 out of: 336\n",
      "failed constraints: [{'i': 1, 'j': 7, 'intervals': [(19, 64)]}, {'i': 1, 'j': 12, 'intervals': [(-99, -78)]}, {'i': 1, 'j': 32, 'intervals': [(-25, 47)]}, {'i': 1, 'j': 40, 'intervals': [(-39, -21)]}, {'i': 2, 'j': 12, 'intervals': [(-72, -42)]}, {'i': 2, 'j': 17, 'intervals': [(-84, -53)]}, {'i': 2, 'j': 47, 'intervals': [(-87, 23)]}, {'i': 3, 'j': 12, 'intervals': [(-65, -59)]}, {'i': 3, 'j': 21, 'intervals': [(-98, -93)]}, {'i': 3, 'j': 32, 'intervals': [(-79, 12)]}, {'i': 3, 'j': 43, 'intervals': [(19, 50)]}, {'i': 3, 'j': 45, 'intervals': [(43, 87)]}, {'i': 4, 'j': 25, 'intervals': [(-98, -79)]}, {'i': 4, 'j': 28, 'intervals': [(-43, 0)]}, {'i': 4, 'j': 34, 'intervals': [(-37, -18)]}, {'i': 4, 'j': 35, 'intervals': [(-47, -36)]}, {'i': 4, 'j': 41, 'intervals': [(7, 59)]}, {'i': 5, 'j': 17, 'intervals': [(55, 61)]}, {'i': 5, 'j': 20, 'intervals': [(-93, -44)]}, {'i': 5, 'j': 24, 'intervals': [(82, 94)]}, {'i': 5, 'j': 38, 'intervals': [(-97, -1)]}, {'i': 6, 'j': 11, 'intervals': [(-70, -35)]}, {'i': 6, 'j': 17, 'intervals': [(69, 92)]}, {'i': 6, 'j': 37, 'intervals': [(-82, -56)]}, {'i': 6, 'j': 41, 'intervals': [(38, 67)]}, {'i': 6, 'j': 47, 'intervals': [(-100, -49)]}, {'i': 6, 'j': 48, 'intervals': [(-17, 61)]}, {'i': 7, 'j': 19, 'intervals': [(-97, -82)]}, {'i': 7, 'j': 20, 'intervals': [(-25, -11)]}, {'i': 7, 'j': 21, 'intervals': [(-47, 4)]}, {'i': 7, 'j': 30, 'intervals': [(70, 89)]}, {'i': 7, 'j': 36, 'intervals': [(-75, -23)]}, {'i': 7, 'j': 37, 'intervals': [(-87, -45)]}, {'i': 7, 'j': 42, 'intervals': [(80, 81)]}, {'i': 7, 'j': 45, 'intervals': [(-97, -85)]}, {'i': 8, 'j': 14, 'intervals': [(23, 84)]}, {'i': 8, 'j': 20, 'intervals': [(37, 56)]}, {'i': 8, 'j': 49, 'intervals': [(42, 93)]}, {'i': 9, 'j': 10, 'intervals': [(66, 68)]}, {'i': 9, 'j': 15, 'intervals': [(-96, -82)]}, {'i': 9, 'j': 42, 'intervals': [(-96, -55)]}, {'i': 9, 'j': 45, 'intervals': [(25, 45)]}, {'i': 10, 'j': 11, 'intervals': [(-50, -49)]}, {'i': 10, 'j': 15, 'intervals': [(-67, -66)]}, {'i': 11, 'j': 12, 'intervals': [(-16, -5)]}, {'i': 11, 'j': 13, 'intervals': [(-81, -55)]}, {'i': 11, 'j': 18, 'intervals': [(-80, -36)]}, {'i': 11, 'j': 33, 'intervals': [(51, 74)]}, {'i': 11, 'j': 43, 'intervals': [(-44, 38)]}, {'i': 11, 'j': 46, 'intervals': [(7, 52)]}, {'i': 11, 'j': 49, 'intervals': [(-25, -12)]}, {'i': 13, 'j': 28, 'intervals': [(37, 39)]}, {'i': 13, 'j': 33, 'intervals': [(23, 81)]}, {'i': 13, 'j': 39, 'intervals': [(-12, 85)]}, {'i': 13, 'j': 49, 'intervals': [(-64, 64)]}, {'i': 14, 'j': 18, 'intervals': [(11, 20)]}, {'i': 14, 'j': 20, 'intervals': [(-59, -34)]}, {'i': 14, 'j': 23, 'intervals': [(-50, -38)]}, {'i': 15, 'j': 35, 'intervals': [(72, 94)]}, {'i': 15, 'j': 37, 'intervals': [(15, 18)]}, {'i': 15, 'j': 39, 'intervals': [(81, 100)]}, {'i': 15, 'j': 44, 'intervals': [(32, 54)]}, {'i': 15, 'j': 48, 'intervals': [(2, 30)]}, {'i': 16, 'j': 19, 'intervals': [(68, 82)]}, {'i': 16, 'j': 24, 'intervals': [(87, 89)]}, {'i': 17, 'j': 29, 'intervals': [(15, 53)]}, {'i': 17, 'j': 36, 'intervals': [(-53, -12)]}, {'i': 18, 'j': 21, 'intervals': [(-28, 46)]}, {'i': 18, 'j': 32, 'intervals': [(-25, 12)]}, {'i': 18, 'j': 41, 'intervals': [(-40, -2)]}, {'i': 19, 'j': 24, 'intervals': [(-40, 3)]}, {'i': 19, 'j': 40, 'intervals': [(41, 51)]}, {'i': 19, 'j': 42, 'intervals': [(-95, -62)]}, {'i': 20, 'j': 29, 'intervals': [(-86, -80)]}, {'i': 20, 'j': 31, 'intervals': [(7, 85)]}, {'i': 20, 'j': 35, 'intervals': [(76, 98)]}, {'i': 20, 'j': 39, 'intervals': [(-34, 49)]}, {'i': 20, 'j': 47, 'intervals': [(-89, -80)]}, {'i': 20, 'j': 49, 'intervals': [(-16, 6)]}, {'i': 21, 'j': 26, 'intervals': [(-76, 26)]}, {'i': 21, 'j': 48, 'intervals': [(1, 24)]}, {'i': 22, 'j': 31, 'intervals': [(-13, 98)]}, {'i': 22, 'j': 34, 'intervals': [(-10, 77)]}, {'i': 22, 'j': 43, 'intervals': [(-44, -24)]}, {'i': 23, 'j': 38, 'intervals': [(-91, -62)]}, {'i': 23, 'j': 42, 'intervals': [(-61, -39)]}, {'i': 23, 'j': 45, 'intervals': [(26, 62)]}, {'i': 24, 'j': 27, 'intervals': [(23, 84)]}, {'i': 24, 'j': 35, 'intervals': [(-98, -43)]}, {'i': 24, 'j': 41, 'intervals': [(65, 79)]}, {'i': 24, 'j': 43, 'intervals': [(-12, -2)]}, {'i': 25, 'j': 29, 'intervals': [(51, 77)]}, {'i': 25, 'j': 34, 'intervals': [(32, 66)]}, {'i': 25, 'j': 45, 'intervals': [(-46, -28)]}, {'i': 25, 'j': 48, 'intervals': [(-76, -63)]}, {'i': 26, 'j': 33, 'intervals': [(-81, 38)]}, {'i': 26, 'j': 34, 'intervals': [(-29, 79)]}, {'i': 27, 'j': 38, 'intervals': [(-89, -79)]}, {'i': 29, 'j': 30, 'intervals': [(-90, -90)]}, {'i': 29, 'j': 32, 'intervals': [(-77, 1)]}, {'i': 29, 'j': 48, 'intervals': [(13, 76)]}, {'i': 31, 'j': 48, 'intervals': [(46, 61)]}, {'i': 32, 'j': 35, 'intervals': [(-56, 85)]}, {'i': 32, 'j': 40, 'intervals': [(-24, 95)]}, {'i': 32, 'j': 45, 'intervals': [(-60, 92)]}, {'i': 34, 'j': 38, 'intervals': [(-58, -22)]}, {'i': 34, 'j': 46, 'intervals': [(-84, -18)]}, {'i': 35, 'j': 38, 'intervals': [(-88, -86)]}, {'i': 35, 'j': 41, 'intervals': [(25, 74)]}, {'i': 36, 'j': 37, 'intervals': [(88, 94)]}, {'i': 36, 'j': 41, 'intervals': [(52, 75)]}, {'i': 37, 'j': 43, 'intervals': [(13, 23)]}, {'i': 37, 'j': 47, 'intervals': [(-64, -31)]}, {'i': 38, 'j': 45, 'intervals': [(-30, 97)]}, {'i': 41, 'j': 42, 'intervals': [(56, 79)]}, {'i': 41, 'j': 44, 'intervals': [(-100, -29)]}, {'i': 42, 'j': 44, 'intervals': [(-37, -25)]}, {'i': 42, 'j': 46, 'intervals': [(-66, -17)]}, {'i': 43, 'j': 49, 'intervals': [(-70, -22)]}, {'i': 44, 'j': 47, 'intervals': [(-69, 27)]}, {'i': 48, 'j': 49, 'intervals': [(-80, -35)]}]\n"
     ]
    }
   ],
   "source": [
    "walk_tcsp(T, 100, 50, 50, pick_best_gene=False)"
   ]
  },
  {
   "cell_type": "code",
   "execution_count": 6,
   "metadata": {},
   "outputs": [],
   "source": [
    "l = [(0, 10), (1, 5), (1, 6), (6, 10)]"
   ]
  },
  {
   "cell_type": "code",
   "execution_count": 7,
   "metadata": {},
   "outputs": [
    {
     "data": {
      "text/plain": [
       "(1, 3)"
      ]
     },
     "execution_count": 7,
     "metadata": {},
     "output_type": "execute_result"
    }
   ],
   "source": [
    "sweep_line(l)"
   ]
  },
  {
   "cell_type": "code",
   "execution_count": 8,
   "metadata": {},
   "outputs": [],
   "source": [
    "# problem sets:\n",
    "SIMPLE = {\n",
    "    'constraint_probability': 0.25,\n",
    "    'min_intervals': 1,\n",
    "    'max_intervals': 1,\n",
    "    'scaling_factor': 1,\n",
    "}\n",
    "\n",
    "BINARY = {\n",
    "    'constraint_probability': 0.25,\n",
    "    'min_intervals': 2,\n",
    "    'max_intervals': 2,\n",
    "    'scaling_factor': 1,\n",
    "}\n",
    "\n",
    "FIVE_MAX = {\n",
    "    'constraint_probability': 0.25,\n",
    "    'min_intervals': 1,\n",
    "    'max_intervals': 5,\n",
    "    'scaling_factor': 1,\n",
    "}"
   ]
  },
  {
   "cell_type": "markdown",
   "metadata": {},
   "source": [
    "## Graphing effectiveness of walking a gene"
   ]
  },
  {
   "cell_type": "code",
   "execution_count": 9,
   "metadata": {},
   "outputs": [],
   "source": [
    "def test(T, r, max_flips):\n",
    "    unsats = []\n",
    "    gene = random_gene(T, r)\n",
    "\n",
    "    for j in range(max_flips):\n",
    "        gene_failed = verify_witness(gene, T)\n",
    "        unsats += [len(gene_failed)]\n",
    "\n",
    "        if len(gene_failed) == 0:\n",
    "            break\n",
    "\n",
    "        gene = walk_gene(gene, T)\n",
    "\n",
    "    return unsats"
   ]
  },
  {
   "cell_type": "code",
   "execution_count": 10,
   "metadata": {},
   "outputs": [
    {
     "name": "stdout",
     "output_type": "stream",
     "text": [
      "32 4 0.88 False\n",
      "24 3 0.88 False\n",
      "28 3 0.89 False\n",
      "28 4 0.86 False\n",
      "34 8 0.76 False\n",
      "38 5 0.87 False\n",
      "30 5 0.83 False\n",
      "31 8 0.74 False\n",
      "26 6 0.77 False\n",
      "28 2 0.93 False\n",
      "29 7 0.76 False\n",
      "29 5 0.83 False\n",
      "31 5 0.84 False\n",
      "28 6 0.79 False\n",
      "32 6 0.81 False\n",
      "25 4 0.84 False\n",
      "26 7 0.73 False\n",
      "25 4 0.84 False\n",
      "38 6 0.84 False\n",
      "27 5 0.81 False\n",
      "28 4 0.86 False\n",
      "34 5 0.85 False\n",
      "26 6 0.77 False\n",
      "23 2 0.91 False\n",
      "30 8 0.73 False\n",
      "28 6 0.79 False\n",
      "20 6 0.70 False\n",
      "19 5 0.74 False\n",
      "24 5 0.79 False\n",
      "23 5 0.78 False\n",
      "19 5 0.74 False\n",
      "26 2 0.92 False\n",
      "24 4 0.83 False\n",
      "22 1 0.95 False\n",
      "28 4 0.86 False\n",
      "30 4 0.87 False\n",
      "21 4 0.81 False\n",
      "27 2 0.93 False\n",
      "32 3 0.91 False\n",
      "32 3 0.91 False\n",
      "19 4 0.79 False\n",
      "26 3 0.88 False\n",
      "25 3 0.88 False\n",
      "25 3 0.88 False\n",
      "28 8 0.71 False\n",
      "27 4 0.85 False\n",
      "28 4 0.86 False\n",
      "31 7 0.77 False\n",
      "41 4 0.90 False\n",
      "35 7 0.80 False\n"
     ]
    }
   ],
   "source": [
    "runs = 50\n",
    "run_results = []\n",
    "\n",
    "for _ in range(runs):\n",
    "    T = generate_problem(\n",
    "        variables=20,\n",
    "        **BINARY,\n",
    "    )\n",
    "    \n",
    "    arr = test(T, r=100, max_flips=100)\n",
    "    \n",
    "    starting = arr[0]\n",
    "    ending = arr[-1]\n",
    "    decrease = (arr[0]-arr[-1]) / arr[0]\n",
    "        \n",
    "    # TODO, problem: we do not know if it is even solvable!\n",
    "    # will have to confirm with backtracking, or make sure to generate only solvable problems\n",
    "    solved = arr[-1] == 0\n",
    "    \n",
    "    print(starting, ending, f'{decrease:.2f}', solved)"
   ]
  },
  {
   "cell_type": "code",
   "execution_count": 11,
   "metadata": {},
   "outputs": [],
   "source": [
    "# Note:\n",
    "# if returned length is less, that means the heuristic solved the problem\n",
    "# check whether it ever increases."
   ]
  },
  {
   "cell_type": "markdown",
   "metadata": {},
   "source": [
    "## Graphing pick_best_gene vs random gene selection for walking"
   ]
  },
  {
   "cell_type": "code",
   "execution_count": 12,
   "metadata": {},
   "outputs": [
    {
     "name": "stdout",
     "output_type": "stream",
     "text": [
      "same 2\n",
      "better 48\n",
      "worse 0\n",
      "avg reduction 4.64\n",
      "stddev reduction 2.0279677170074697\n"
     ]
    }
   ],
   "source": [
    "runs = 50\n",
    "run_results = []\n",
    "\n",
    "count_same = 0\n",
    "count_better = 0\n",
    "count_worse = 0\n",
    "reductions = []\n",
    "\n",
    "for _ in range(runs):\n",
    "    T = generate_problem(\n",
    "        variables=50,\n",
    "        **BINARY,\n",
    "    )\n",
    "    \n",
    "    gene = random_gene(T, 100)\n",
    "    best_gene = [i for i in gene]\n",
    "    rand_gene = [i for i in gene]\n",
    "    \n",
    "    pick_best = len(verify_witness(\n",
    "        walk_gene(best_gene, T, pick_best_gene=True),\n",
    "        T)\n",
    "    )\n",
    "    pick_random = len(verify_witness(\n",
    "        walk_gene(rand_gene, T, pick_best_gene=False),\n",
    "        T)\n",
    "    )\n",
    "    \n",
    "    reductions += [pick_random - pick_best]\n",
    "    \n",
    "    if pick_best == pick_random:\n",
    "        count_same += 1\n",
    "    elif pick_best < pick_random:\n",
    "        count_better += 1\n",
    "    else:\n",
    "        count_worse += 1\n",
    "    \n",
    "print('same', count_same)\n",
    "print('better', count_better)\n",
    "print('worse', count_worse)\n",
    "\n",
    "from statistics import stdev\n",
    "print('avg reduction', sum(reductions)/len(reductions))\n",
    "print('stddev reduction', stdev(reductions))"
   ]
  },
  {
   "cell_type": "markdown",
   "metadata": {},
   "source": [
    "## and now, what about repeated application of best/random?\n",
    "\n",
    "as in, how much can it reduce, just like the random gene vs n walks test"
   ]
  },
  {
   "cell_type": "code",
   "execution_count": 13,
   "metadata": {},
   "outputs": [
    {
     "name": "stdout",
     "output_type": "stream",
     "text": [
      "same 0\n",
      "better 5\n",
      "worse 0\n"
     ]
    }
   ],
   "source": [
    "runs = 5\n",
    "walks = 50\n",
    "run_results = []\n",
    "\n",
    "count_same = 0\n",
    "count_better = 0\n",
    "count_worse = 0\n",
    "\n",
    "for _ in range(runs):\n",
    "    T = generate_problem(\n",
    "        variables=10,\n",
    "        **BINARY,\n",
    "    )\n",
    "    \n",
    "    gene = random_gene(T, 100)\n",
    "    best_gene = [i for i in gene]\n",
    "    rand_gene = [i for i in gene]\n",
    "    \n",
    "    for _ in range(runs):\n",
    "        best_gene = walk_gene(best_gene, T, pick_best_gene=True)\n",
    "        rand_gene = walk_gene(rand_gene, T, pick_best_gene=False)\n",
    "    \n",
    "    pick_best = len(verify_witness(best_gene, T))\n",
    "    pick_random = len(verify_witness(rand_gene, T))\n",
    "    \n",
    "    if pick_best == pick_random:\n",
    "        count_same += 1\n",
    "    elif pick_best < pick_random: # \\lt because verify_witness is like golf.\n",
    "        count_better += 1\n",
    "    else:\n",
    "        count_worse += 1\n",
    "    \n",
    "print('same', count_same)\n",
    "print('better', count_better)\n",
    "print('worse', count_worse)"
   ]
  },
  {
   "cell_type": "code",
   "execution_count": null,
   "metadata": {},
   "outputs": [],
   "source": []
  }
 ],
 "metadata": {
  "kernelspec": {
   "display_name": "Python 3",
   "language": "python",
   "name": "python3"
  },
  "language_info": {
   "codemirror_mode": {
    "name": "ipython",
    "version": 3
   },
   "file_extension": ".py",
   "mimetype": "text/x-python",
   "name": "python",
   "nbconvert_exporter": "python",
   "pygments_lexer": "ipython3",
   "version": "3.9.2"
  }
 },
 "nbformat": 4,
 "nbformat_minor": 4
}
