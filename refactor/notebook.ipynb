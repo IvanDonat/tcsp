{
 "cells": [
  {
   "cell_type": "code",
   "execution_count": 35,
   "id": "supported-arcade",
   "metadata": {},
   "outputs": [],
   "source": [
    "from exact_solver import solve\n",
    "from problem_generator import generate_problem\n",
    "from verifier import verify_witness\n",
    "from preprocessing import PC_1"
   ]
  },
  {
   "cell_type": "code",
   "execution_count": 38,
   "id": "optional-garage",
   "metadata": {},
   "outputs": [
    {
     "data": {
      "text/plain": [
       "[{'i': 0, 'j': 0, 'intervals': [(-100, 100)]},\n",
       " {'i': 0, 'j': 1, 'intervals': [(-100, 100)]},\n",
       " {'i': 0, 'j': 2, 'intervals': [(-100, 100)]},\n",
       " {'i': 0, 'j': 3, 'intervals': [(-100, 100)]},\n",
       " {'i': 0, 'j': 4, 'intervals': [(-100, 100)]},\n",
       " {'i': 0, 'j': 5, 'intervals': [(-100, 100)]},\n",
       " {'i': 0, 'j': 6, 'intervals': [(-100, 100)]},\n",
       " {'i': 0, 'j': 7, 'intervals': [(-100, 100)]},\n",
       " {'i': 0, 'j': 8, 'intervals': [(-100, 100)]},\n",
       " {'i': 0, 'j': 9, 'intervals': [(-100, 100)]},\n",
       " {'i': 0, 'j': 10, 'intervals': [(-100, 100)]},\n",
       " {'i': 0, 'j': 11, 'intervals': [(-100, 100)]},\n",
       " {'i': 1, 'j': 2, 'intervals': [(-85, -45), (-16, 26), (30, 33), (63, 92)]},\n",
       " {'i': 1, 'j': 3, 'intervals': [(-93, 75)]},\n",
       " {'i': 1,\n",
       "  'j': 8,\n",
       "  'intervals': [(-94, -93), (-76, -60), (-54, -52), (-46, -1)]},\n",
       " {'i': 2, 'j': 4, 'intervals': [(-92, -75), (-73, 14), (16, 73), (84, 94)]},\n",
       " {'i': 2, 'j': 5, 'intervals': [(-75, -11), (-10, -4), (-4, 54), (98, 99)]},\n",
       " {'i': 2, 'j': 8, 'intervals': [(-27, -23)]},\n",
       " {'i': 4, 'j': 6, 'intervals': [(-90, -37), (-19, 44), (56, 60), (77, 82)]},\n",
       " {'i': 4, 'j': 8, 'intervals': [(-70, -54), (7, 45), (56, 89)]},\n",
       " {'i': 4, 'j': 11, 'intervals': [(-20, 43), (86, 94)]},\n",
       " {'i': 5, 'j': 11, 'intervals': [(-95, -65), (-41, 94)]},\n",
       " {'i': 6, 'j': 8, 'intervals': [(-1, 90)]},\n",
       " {'i': 7, 'j': 10, 'intervals': [(-97, -56), (-25, 58), (81, 100)]},\n",
       " {'i': 8, 'j': 11, 'intervals': [(-98, -64), (13, 53)]},\n",
       " {'i': 9, 'j': 10, 'intervals': [(-84, -60), (-59, -23), (-20, 15)]}]"
      ]
     },
     "execution_count": 38,
     "metadata": {},
     "output_type": "execute_result"
    }
   ],
   "source": [
    "T = generate_problem(\n",
    "    variables=12,\n",
    ")\n",
    "T"
   ]
  },
  {
   "cell_type": "code",
   "execution_count": 39,
   "id": "fleet-beast",
   "metadata": {},
   "outputs": [
    {
     "name": "stdout",
     "output_type": "stream",
     "text": [
      "0\n",
      "1\n",
      "2\n",
      "3\n",
      "4\n",
      "5\n",
      "6\n",
      "7\n",
      "8\n",
      "9\n",
      "10\n",
      "11\n",
      "12\n",
      "13\n",
      "14\n",
      "15\n",
      "16\n",
      "17\n",
      "18\n",
      "19\n",
      "20\n",
      "21\n",
      "22\n",
      "23\n",
      "24\n",
      "25\n"
     ]
    },
    {
     "data": {
      "text/plain": [
       "[-26, 74, 4, -19, -63, -18, -100, -44, -19, -40, -100, -83]"
      ]
     },
     "execution_count": 39,
     "metadata": {},
     "output_type": "execute_result"
    }
   ],
   "source": [
    "sol = solve(T)\n",
    "sol"
   ]
  },
  {
   "cell_type": "code",
   "execution_count": 40,
   "id": "approved-plate",
   "metadata": {},
   "outputs": [
    {
     "data": {
      "text/plain": [
       "[]"
      ]
     },
     "execution_count": 40,
     "metadata": {},
     "output_type": "execute_result"
    }
   ],
   "source": [
    "verify_witness(sol, T)"
   ]
  },
  {
   "cell_type": "code",
   "execution_count": 41,
   "id": "asian-socket",
   "metadata": {},
   "outputs": [
    {
     "data": {
      "text/plain": [
       "[{'i': 0, 'j': 0, 'intervals': [(-100, 100)]},\n",
       " {'i': 0, 'j': 1, 'intervals': [(-99, 100)]},\n",
       " {'i': 0, 'j': 2, 'intervals': [(-77, 100)]},\n",
       " {'i': 0, 'j': 3, 'intervals': [(-100, 100)]},\n",
       " {'i': 0, 'j': 4, 'intervals': [(-100, 100)]},\n",
       " {'i': 0, 'j': 5, 'intervals': [(-100, 100)]},\n",
       " {'i': 0, 'j': 6, 'intervals': [(-100, 78)]},\n",
       " {'i': 0, 'j': 7, 'intervals': [(-100, 100)]},\n",
       " {'i': 0, 'j': 8, 'intervals': [(-100, 77)]},\n",
       " {'i': 0, 'j': 9, 'intervals': [(-100, 100)]},\n",
       " {'i': 0, 'j': 10, 'intervals': [(-100, 100)]},\n",
       " {'i': 0, 'j': 11, 'intervals': [(-100, 100)]},\n",
       " {'i': 1, 'j': 1, 'intervals': [(-93, 93)]},\n",
       " {'i': 1, 'j': 2, 'intervals': [(-71, -66), (-53, -45), (-16, 26)]},\n",
       " {'i': 1, 'j': 3, 'intervals': [(-93, 75)]},\n",
       " {'i': 1, 'j': 4, 'intervals': [(-163, -149), (-145, 2), (11, 69)]},\n",
       " {'i': 1, 'j': 5, 'intervals': [(-146, 80), (82, 125)]},\n",
       " {'i': 1, 'j': 6, 'intervals': [(-184, 0)]},\n",
       " {'i': 1, 'j': 7, 'intervals': [(-200, 199)]},\n",
       " {'i': 1, 'j': 8, 'intervals': [(-94, -93), (-76, -68), (-43, -1)]},\n",
       " {'i': 1, 'j': 9, 'intervals': [(-200, 199)]},\n",
       " {'i': 1, 'j': 10, 'intervals': [(-200, 199)]},\n",
       " {'i': 1, 'j': 11, 'intervals': [(-183, -132), (-128, 52)]},\n",
       " {'i': 2, 'j': 2, 'intervals': [(-4, 4)]},\n",
       " {'i': 2, 'j': 3, 'intervals': [(-119, 146)]},\n",
       " {'i': 2, 'j': 4, 'intervals': [(-92, -79), (-72, -30), (27, 47)]},\n",
       " {'i': 2, 'j': 5, 'intervals': [(-75, 54), (98, 99)]},\n",
       " {'i': 2, 'j': 6, 'intervals': [(-117, -22)]},\n",
       " {'i': 2, 'j': 7, 'intervals': [(-200, 177)]},\n",
       " {'i': 2, 'j': 8, 'intervals': [(-27, -23)]},\n",
       " {'i': 2, 'j': 9, 'intervals': [(-200, 177)]},\n",
       " {'i': 2, 'j': 10, 'intervals': [(-200, 177)]},\n",
       " {'i': 2, 'j': 11, 'intervals': [(-112, -87), (-14, 30)]},\n",
       " {'i': 3, 'j': 3, 'intervals': [(-168, 168)]},\n",
       " {'i': 3, 'j': 4, 'intervals': [(-200, 162)]},\n",
       " {'i': 3, 'j': 5, 'intervals': [(-200, 200)]},\n",
       " {'i': 3, 'j': 6, 'intervals': [(-200, 93)]},\n",
       " {'i': 3, 'j': 7, 'intervals': [(-200, 200)]},\n",
       " {'i': 3, 'j': 8, 'intervals': [(-169, 92)]},\n",
       " {'i': 3, 'j': 9, 'intervals': [(-200, 200)]},\n",
       " {'i': 3, 'j': 10, 'intervals': [(-200, 200)]},\n",
       " {'i': 3, 'j': 11, 'intervals': [(-200, 145)]},\n",
       " {'i': 4, 'j': 4, 'intervals': [(-114, -81), (-74, 74), (81, 114)]},\n",
       " {'i': 4, 'j': 5, 'intervals': [(-114, 138), (151, 171), (177, 189)]},\n",
       " {'i': 4, 'j': 6, 'intervals': [(-90, -37), (-19, 44), (56, 60)]},\n",
       " {'i': 4, 'j': 7, 'intervals': [(-200, 200)]},\n",
       " {'i': 4, 'j': 8, 'intervals': [(-70, -54), (7, 30), (33, 45), (56, 69)]},\n",
       " {'i': 4, 'j': 9, 'intervals': [(-200, 200)]},\n",
       " {'i': 4, 'j': 10, 'intervals': [(-200, 200)]},\n",
       " {'i': 4, 'j': 11, 'intervals': [(-20, 5), (20, 43), (86, 94)]},\n",
       " {'i': 5, 'j': 5, 'intervals': [(-174, 174)]},\n",
       " {'i': 5, 'j': 6, 'intervals': [(-200, 53)]},\n",
       " {'i': 5, 'j': 7, 'intervals': [(-200, 200)]},\n",
       " {'i': 5, 'j': 8, 'intervals': [(-126, -121), (-81, 52)]},\n",
       " {'i': 5, 'j': 9, 'intervals': [(-200, 200)]},\n",
       " {'i': 5, 'j': 10, 'intervals': [(-200, 200)]},\n",
       " {'i': 5, 'j': 11, 'intervals': [(-95, -65), (-41, 94)]},\n",
       " {'i': 6, 'j': 6, 'intervals': [(-91, 91)]},\n",
       " {'i': 6, 'j': 7, 'intervals': [(-178, 200)]},\n",
       " {'i': 6, 'j': 8, 'intervals': [(-1, 90)]},\n",
       " {'i': 6, 'j': 9, 'intervals': [(-178, 200)]},\n",
       " {'i': 6, 'j': 10, 'intervals': [(-178, 200)]},\n",
       " {'i': 6, 'j': 11, 'intervals': [(-80, 143)]},\n",
       " {'i': 7, 'j': 7, 'intervals': [(-197, 197)]},\n",
       " {'i': 7, 'j': 8, 'intervals': [(-200, 177)]},\n",
       " {'i': 7, 'j': 9, 'intervals': [(-112, 184)]},\n",
       " {'i': 7, 'j': 10, 'intervals': [(-97, -56), (-25, 58), (81, 100)]},\n",
       " {'i': 7, 'j': 11, 'intervals': [(-200, 200)]},\n",
       " {'i': 8, 'j': 8, 'intervals': [(-4, 4)]},\n",
       " {'i': 8, 'j': 9, 'intervals': [(-177, 200)]},\n",
       " {'i': 8, 'j': 10, 'intervals': [(-177, 200)]},\n",
       " {'i': 8, 'j': 11, 'intervals': [(-89, -64), (13, 53)]},\n",
       " {'i': 9, 'j': 9, 'intervals': [(-99, 99)]},\n",
       " {'i': 9, 'j': 10, 'intervals': [(-84, -23), (-20, 15)]},\n",
       " {'i': 9, 'j': 11, 'intervals': [(-200, 200)]},\n",
       " {'i': 10, 'j': 10, 'intervals': [(-99, 99)]},\n",
       " {'i': 10, 'j': 11, 'intervals': [(-200, 200)]},\n",
       " {'i': 11, 'j': 11, 'intervals': [(-114, -81), (-40, 40), (81, 114)]}]"
      ]
     },
     "execution_count": 41,
     "metadata": {},
     "output_type": "execute_result"
    }
   ],
   "source": [
    "PC_1(T)"
   ]
  },
  {
   "cell_type": "code",
   "execution_count": 43,
   "id": "interpreted-sleeve",
   "metadata": {},
   "outputs": [
    {
     "name": "stdout",
     "output_type": "stream",
     "text": [
      "0\n",
      "1\n",
      "2\n",
      "3\n",
      "4\n",
      "5\n",
      "6\n",
      "7\n",
      "8\n",
      "9\n",
      "10\n",
      "11\n",
      "12\n",
      "13\n",
      "14\n",
      "15\n",
      "16\n",
      "17\n",
      "18\n",
      "19\n",
      "20\n",
      "21\n",
      "22\n",
      "23\n",
      "24\n",
      "25\n",
      "26\n",
      "27\n",
      "28\n",
      "29\n",
      "30\n",
      "31\n",
      "32\n",
      "33\n",
      "34\n",
      "35\n",
      "36\n",
      "37\n",
      "38\n",
      "39\n",
      "40\n",
      "41\n",
      "42\n",
      "43\n",
      "44\n",
      "45\n",
      "46\n",
      "47\n",
      "48\n",
      "49\n",
      "50\n",
      "51\n",
      "52\n",
      "53\n",
      "54\n",
      "55\n",
      "56\n",
      "57\n",
      "58\n",
      "59\n",
      "60\n",
      "61\n",
      "62\n",
      "63\n",
      "64\n",
      "65\n",
      "66\n",
      "67\n",
      "68\n",
      "69\n",
      "70\n",
      "71\n",
      "72\n",
      "73\n",
      "74\n",
      "75\n",
      "76\n",
      "77\n"
     ]
    },
    {
     "data": {
      "text/plain": [
       "[-43, 57, -13, -36, -100, -35, -100, -44, -36, -77, -100, -100]"
      ]
     },
     "execution_count": 43,
     "metadata": {},
     "output_type": "execute_result"
    }
   ],
   "source": [
    "sol = solve(PC_1(T))\n",
    "sol"
   ]
  },
  {
   "cell_type": "code",
   "execution_count": 44,
   "id": "lesbian-height",
   "metadata": {},
   "outputs": [
    {
     "data": {
      "text/plain": [
       "[]"
      ]
     },
     "execution_count": 44,
     "metadata": {},
     "output_type": "execute_result"
    }
   ],
   "source": [
    "verify_witness(sol, T)"
   ]
  },
  {
   "cell_type": "code",
   "execution_count": 45,
   "id": "tutorial-sullivan",
   "metadata": {},
   "outputs": [],
   "source": [
    "from genetic_direct import solve_random, solve_walk, solve_genetic"
   ]
  },
  {
   "cell_type": "code",
   "execution_count": 48,
   "id": "bacterial-bacteria",
   "metadata": {},
   "outputs": [
    {
     "name": "stdout",
     "output_type": "stream",
     "text": [
      "num iterations: 30\n",
      "best gene: [0, -10, 65, -74, 4, -62, 84, -41, -57, 23, -31, -10]\n",
      "constraints failed: 4 out of: 26\n",
      "failed constraints: [{'i': 1, 'j': 8, 'intervals': [(-94, -93), (-76, -60), (-54, -52), (-46, -1)]}, {'i': 2, 'j': 5, 'intervals': [(-75, -11), (-10, -4), (-4, 54), (98, 99)]}, {'i': 2, 'j': 8, 'intervals': [(-27, -23)]}, {'i': 6, 'j': 8, 'intervals': [(-1, 90)]}]\n"
     ]
    }
   ],
   "source": [
    "solve_random(T, 100, 30)"
   ]
  },
  {
   "cell_type": "code",
   "execution_count": 50,
   "id": "olive-final",
   "metadata": {},
   "outputs": [
    {
     "name": "stdout",
     "output_type": "stream",
     "text": [
      "num iterations: 3\n",
      "best gene: [0, -3, 23, 10, -62, 19, -64, -52, -4, 9, -63, 30]\n",
      "constraints failed: 0 out of: 26\n",
      "failed constraints: []\n"
     ]
    }
   ],
   "source": [
    "solve_walk(T, 100, 50, 50, True)"
   ]
  },
  {
   "cell_type": "code",
   "execution_count": 52,
   "id": "baking-grill",
   "metadata": {},
   "outputs": [
    {
     "name": "stdout",
     "output_type": "stream",
     "text": [
      "best gene: [0, 25, 14, -44, -39, 10, -22, 82, -11, 13, -12, 3]\n",
      "constraints failed: 0 out of: 26\n",
      "failed constraints: []\n"
     ]
    }
   ],
   "source": [
    "solve_genetic(T, 100, 100, 0.1, 0.1, 50)"
   ]
  },
  {
   "cell_type": "code",
   "execution_count": null,
   "id": "positive-advancement",
   "metadata": {},
   "outputs": [],
   "source": []
  }
 ],
 "metadata": {
  "kernelspec": {
   "display_name": "Python 3",
   "language": "python",
   "name": "python3"
  },
  "language_info": {
   "codemirror_mode": {
    "name": "ipython",
    "version": 3
   },
   "file_extension": ".py",
   "mimetype": "text/x-python",
   "name": "python",
   "nbconvert_exporter": "python",
   "pygments_lexer": "ipython3",
   "version": "3.9.2"
  }
 },
 "nbformat": 4,
 "nbformat_minor": 5
}
