{
 "cells": [
  {
   "cell_type": "code",
   "execution_count": 34,
   "metadata": {},
   "outputs": [],
   "source": [
    "from random import randint, uniform\n",
    "from util import generate_problem, verify_witness\n",
    "\n",
    "INF = 1e9"
   ]
  },
  {
   "cell_type": "markdown",
   "metadata": {},
   "source": [
    "## Firstly we need a solver for the STP problem.\n",
    "\n",
    "note here we are given a distance graph\n",
    "(the generation is done in the genetic part, so we can reuse memory and save time when an interval selection is changed.)"
   ]
  },
  {
   "cell_type": "code",
   "execution_count": 52,
   "metadata": {},
   "outputs": [],
   "source": [
    "def discrete_graph(N):\n",
    "    mat = [[INF for _ in range(N)] for _ in range(N)]\n",
    "    for i in range(N):\n",
    "        mat[i][i] = 0\n",
    "    return mat\n",
    "\n",
    "def generate_d_graph(graph):\n",
    "    N = len(graph)\n",
    "    E = discrete_graph(N)\n",
    "    \n",
    "    for i in range(N):\n",
    "        E[i][i] = 0 # redundant\n",
    "\n",
    "    for i in range(N):\n",
    "        for j in range(N):\n",
    "            E[i][j] = graph[i][j]\n",
    "\n",
    "    for k in range(N):\n",
    "        for i in range(N):\n",
    "            for j in range(N):\n",
    "                E[i][j] = min(E[i][j], E[i][k] + E[k][j])\n",
    "\n",
    "    return E\n",
    "\n",
    "def get_min_sol(d_graph):\n",
    "    return [-d_graph[i][0] for i in range(len(d_graph))]\n",
    "\n",
    "def consistent(d_graph):\n",
    "    for i in range(len(d_graph)):\n",
    "        if d_graph[i][i] < 0: return False\n",
    "    return True\n",
    "\n",
    "def solve_stp(graph):\n",
    "    ''' graph is the constraint adjacency matrix '''\n",
    "    \n",
    "    d_graph = generate_d_graph(graph)\n",
    "    \n",
    "    return consistent(d_graph), get_min_sol(d_graph)"
   ]
  },
  {
   "cell_type": "markdown",
   "metadata": {},
   "source": [
    "## The genetic part:"
   ]
  },
  {
   "cell_type": "code",
   "execution_count": 131,
   "metadata": {},
   "outputs": [],
   "source": [
    "def random_gene(T):\n",
    "    interval_selection = [randint(0, len(constr['intervals'])-1) for constr in T]\n",
    "    return interval_selection\n",
    "\n",
    "def update_graph(graph, gene):\n",
    "    # set up graph using index 0 everywhere\n",
    "    # so later we can change interval in O(1) time\n",
    "    # (saves memory and time, and this same approach is especially beneficial in meta_walk)\n",
    "    for i, constr in enumerate(T):\n",
    "        interval_index = gene[i]\n",
    "        \n",
    "        i, j = constr['i'], constr['j']\n",
    "        interval = constr['intervals'][interval_index]\n",
    "        \n",
    "        graph[i][j] = interval[1]\n",
    "        graph[j][i] = -interval[0]\n",
    "    \n",
    "    return graph\n",
    "        \n",
    "def meta_random(T, iterations=50):\n",
    "    num_variables = max([max(t['i'], t['j']) for t in T])\n",
    "    graph = discrete_graph(num_variables+1)\n",
    "    \n",
    "    best_gene = None\n",
    "    best_gene_failed = None\n",
    "    \n",
    "    for i in range(iterations):\n",
    "        gene = random_gene(T)\n",
    "        graph = update_graph(graph, gene)\n",
    "        # at each iteration we modify\n",
    "    \n",
    "        is_consistent, witness = solve_stp(graph)\n",
    "        gene_failed = verify_witness(witness, T)\n",
    "    \n",
    "        \n",
    "        if not best_gene or len(gene_failed) < len(best_gene_failed):\n",
    "            best_gene = gene\n",
    "            best_gene_failed = gene_failed\n",
    "        \n",
    "        if is_consistent:\n",
    "            break\n",
    "        \n",
    "    print(f'num iterations: {i+1}')\n",
    "    print('best gene:', best_gene)\n",
    "    print('constraints failed:', len(best_gene_failed), 'out of:', len(T)) \n",
    "    print('failed constraints:', best_gene_failed)"
   ]
  },
  {
   "cell_type": "code",
   "execution_count": 132,
   "metadata": {},
   "outputs": [
    {
     "name": "stdout",
     "output_type": "stream",
     "text": [
      "num iterations: 1\n",
      "best gene: [0, 0, 0, 0, 0, 0, 0, 0, 0, 0, 0, 0, 0, 0, 0]\n",
      "constraints failed: 0 out of: 15\n",
      "failed constraints: []\n"
     ]
    }
   ],
   "source": [
    "T = generate_problem()\n",
    "meta_random(T)"
   ]
  },
  {
   "cell_type": "markdown",
   "metadata": {},
   "source": []
  }
 ],
 "metadata": {
  "kernelspec": {
   "display_name": "Python 3",
   "language": "python",
   "name": "python3"
  },
  "language_info": {
   "codemirror_mode": {
    "name": "ipython",
    "version": 3
   },
   "file_extension": ".py",
   "mimetype": "text/x-python",
   "name": "python",
   "nbconvert_exporter": "python",
   "pygments_lexer": "ipython3",
   "version": "3.9.2"
  }
 },
 "nbformat": 4,
 "nbformat_minor": 4
}
