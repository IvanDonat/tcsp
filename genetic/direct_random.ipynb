{
 "cells": [
  {
   "cell_type": "code",
   "execution_count": 8,
   "metadata": {},
   "outputs": [],
   "source": [
    "from random import randint, uniform\n",
    "from util import generate_problem, verify_witness"
   ]
  },
  {
   "cell_type": "code",
   "execution_count": 9,
   "metadata": {},
   "outputs": [],
   "source": [
    "def random_gene(T, r):\n",
    "    num_variables = max([max(t['i'], t['j']) for t in T])\n",
    "    return [0] + [randint(-r, r) for _ in range(num_variables)]\n",
    "\n",
    "   \n",
    "def purely_random(T, r, iterations):\n",
    "    best_gene = None\n",
    "    best_gene_failed = None\n",
    "    \n",
    "    for i in range(iterations):\n",
    "        gene = random_gene(T, r)\n",
    "        gene_failed = verify_witness(gene, T)\n",
    "        if not best_gene or len(gene_failed) < len(best_gene_failed):\n",
    "            best_gene = gene\n",
    "            best_gene_failed = gene_failed\n",
    "        \n",
    "        if len(gene_failed) == 0:\n",
    "            break\n",
    "            \n",
    "    print(f'num iterations: {i+1}')\n",
    "    print('best gene:', best_gene)\n",
    "    print('constraints failed:', len(best_gene_failed), 'out of:', len(T)) \n",
    "    print('failed constraints:', best_gene_failed)"
   ]
  },
  {
   "cell_type": "code",
   "execution_count": 33,
   "metadata": {},
   "outputs": [
    {
     "name": "stdout",
     "output_type": "stream",
     "text": [
      "num iterations: 1000\n",
      "best gene: [0, 87, -13, 73, -25, -40, 8, 25, 100, 55, -2, 42, -2, 75, -51]\n",
      "constraints failed: 5 out of: 36\n",
      "failed constraints: [{'i': 2, 'j': 4, 'intervals': [(-2, 24)]}, {'i': 2, 'j': 5, 'intervals': [(-72, -31), (-18, -12), (29, 80)]}, {'i': 2, 'j': 13, 'intervals': [(-59, 42), (65, 68)]}, {'i': 3, 'j': 6, 'intervals': [(77, 79)]}, {'i': 5, 'j': 6, 'intervals': [(-89, -38), (-2, 34), (74, 97)]}]\n"
     ]
    }
   ],
   "source": [
    "T = generate_problem(15, scaling_factor=1)\n",
    "purely_random(T, 100, 1000)"
   ]
  },
  {
   "cell_type": "code",
   "execution_count": null,
   "metadata": {},
   "outputs": [],
   "source": []
  }
 ],
 "metadata": {
  "kernelspec": {
   "display_name": "Python 3",
   "language": "python",
   "name": "python3"
  },
  "language_info": {
   "codemirror_mode": {
    "name": "ipython",
    "version": 3
   },
   "file_extension": ".py",
   "mimetype": "text/x-python",
   "name": "python",
   "nbconvert_exporter": "python",
   "pygments_lexer": "ipython3",
   "version": "3.9.1"
  }
 },
 "nbformat": 4,
 "nbformat_minor": 4
}
