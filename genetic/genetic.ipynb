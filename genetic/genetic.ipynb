{
 "cells": [
  {
   "cell_type": "raw",
   "metadata": {},
   "source": [
    "Use \"random-2\" generate_problem,\n",
    "and we also need a verifier"
   ]
  },
  {
   "cell_type": "code",
   "execution_count": 2,
   "metadata": {},
   "outputs": [],
   "source": [
    "#!/usr/bin/python3\n",
    "import argparse\n",
    "from random import uniform, randint\n",
    "\n",
    "def generate_problem(\n",
    "    variables=10, \n",
    "    constraint_probability=0.25, \n",
    "    R=100,\n",
    "    min_intervals=1, \n",
    "    max_intervals=5,\n",
    "    scaling_factor=1,\n",
    "    ):\n",
    "    \n",
    "    T_all = []\n",
    "    \n",
    "    for j in range(variables):\n",
    "        T_all.append({\n",
    "            'i': 0,\n",
    "            'j': j,\n",
    "            'intervals': [(-R, R)],\n",
    "        })\n",
    "        \n",
    "    for i in range(1, variables):\n",
    "        for j in range(i+1, variables):\n",
    "            if uniform(0, 1) < constraint_probability:\n",
    "                num_intervals = randint(min_intervals, max_intervals)\n",
    "                points = [randint(-R, R) for _ in range(2 * num_intervals)]\n",
    "                points.sort()\n",
    "                \n",
    "                intervals = list(zip(points[::2], points[1::2]))\n",
    "                \n",
    "                # apply scaling factor:\n",
    "                intervals = [ (i, int(i + (j-i)*scaling_factor)) for i, j in intervals]\n",
    "                \n",
    "                T_all.append({\n",
    "                    'i': i,\n",
    "                    'j': j,\n",
    "                    'intervals': intervals,\n",
    "                })\n",
    "\n",
    "    return T_all"
   ]
  },
  {
   "cell_type": "code",
   "execution_count": null,
   "metadata": {},
   "outputs": [],
   "source": []
  },
  {
   "cell_type": "code",
   "execution_count": null,
   "metadata": {},
   "outputs": [],
   "source": [
    "def genetic(num_iterations):\n",
    "    \n",
    "    # generate random gene pool\n",
    "    \n",
    "    for it in num_iterations:\n",
    "        # rank gene pool\n",
    "        # discard lowest 80%\n",
    "        # mutate and mix best\n",
    "        \n",
    "        # if some satisfies, return it\n",
    "        \n",
    "    \n",
    "    # return (No, best ranked gene)"
   ]
  }
 ],
 "metadata": {
  "kernelspec": {
   "display_name": "Python 3",
   "language": "python",
   "name": "python3"
  },
  "language_info": {
   "codemirror_mode": {
    "name": "ipython",
    "version": 3
   },
   "file_extension": ".py",
   "mimetype": "text/x-python",
   "name": "python",
   "nbconvert_exporter": "python",
   "pygments_lexer": "ipython3",
   "version": "3.9.0"
  }
 },
 "nbformat": 4,
 "nbformat_minor": 4
}
